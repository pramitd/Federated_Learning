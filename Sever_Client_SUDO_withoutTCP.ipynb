{
 "cells": [
  {
   "cell_type": "code",
   "execution_count": 1,
   "metadata": {},
   "outputs": [],
   "source": [
    "import numpy as np\n",
    "import tensorflow as tf\n",
    "import tensorflow_federated as tff\n",
    "from matplotlib import pyplot as plt\n",
    "import collections\n",
    "import nest_asyncio\n",
    "%reload_ext tensorboard\n",
    "nest_asyncio.apply()\n",
    "from tensorflow.keras.models import Sequential\n",
    "from tensorflow.keras.layers import Dense\n",
    "from tensorflow.keras.utils import to_categorical\n",
    "from tensorflow.keras.datasets import mnist"
   ]
  },
  {
   "cell_type": "code",
   "execution_count": 2,
   "metadata": {},
   "outputs": [],
   "source": [
    "class server:\n",
    "    \n",
    "    def __init__(self, numOfClients):\n",
    "        self.numOfClients = numOfClients #Num of Client\n",
    "        self.clientIds = list(range(0,self.numOfClients)) #Client List\n",
    "        self.updateRoundNum = 0  # Update Round Number\n",
    "        self.serverModel = self.createBaseModel() #Create a Keras Model for MNIST\n",
    "        self.clientActive = [] #If client is available or not based on time - day/night\n",
    "        self.clientCIF = []\n",
    "        self.updateFromClients=[]\n",
    "        self.__serverTestData_X=[]\n",
    "        self.__serverTestData_Y=[]\n",
    "        self.predictionAcc=[]\n",
    "        self.predictionLoss=[]\n",
    "        \n",
    "        \n",
    "    def createBaseModel(self):\n",
    "        return tf.keras.models.Sequential([\n",
    "            Dense(64, activation='relu',input_shape=(784,)),\n",
    "            Dense(64, activation='relu'),\n",
    "            Dense(10, activation='softmax'),])\n",
    "    \n",
    "    def setServerTestData(self,Xtest,Ytest):\n",
    "        self.__serverTestData_X=Xtest\n",
    "        self.__serverTestData_Y=Ytest\n",
    "    \n",
    "    def initialBroadcast(self):\n",
    "        for i in self.clientIds:\n",
    "            clientName = \"client_\"+str(self.clientIds[i])  #Create Client Name\n",
    "            #print(clientName)\n",
    "            eval(clientName).setInitialModel(self.serverModel) #setInitialModel-> Method of client Class\n",
    "            \n",
    "    def getClientActiveStatus(self):  #if the client is available for update or not randomly set in client\n",
    "        self.clientActive = []\n",
    "        for i in self.clientIds:\n",
    "            clientName = \"client_\"+str(self.clientIds[i])  #Create Client Name\n",
    "            #print(clientName)\n",
    "            if(eval(clientName).sendActiveStatus() == 1): #getActiveStatus() -> method of client class\n",
    "                self.clientActive.append(i)\n",
    "        print(\"Active Clients: \",self.clientActive)\n",
    "            \n",
    "    def getClientCIF(self): # Get Client Importance Factor for active clients\n",
    "        self.clientCIF=[]\n",
    "        for i in self.clientActive:\n",
    "            clientName = \"client_\"+str(i)\n",
    "            c_cif = eval(clientName).sendCIF()   #sendCIF() - method of client\n",
    "            self.clientCIF.append(c_cif)\n",
    "        print(\"Clients with Acceptable CIF: \", self.clientCIF)\n",
    "    \n",
    "    def getModelUpdateFromClients(self):\n",
    "        print(\"--------------------------------------------\\n\",\"Round NO:\",self.updateRoundNum)\n",
    "        self.updateRoundNum +=1\n",
    "        self.updateFromClients=[]\n",
    "        #self.dataPointsClients=[]\n",
    "        for i in range (0,len(self.clientActive)):\n",
    "            if self.clientCIF[i] >= 10:  #Select Client only if CIF > some value 10 chosen for testing ONLY\n",
    "                clientName = \"client_\"+str(int(self.clientActive[i]))\n",
    "                self.updateFromClients.append(eval(clientName).sendClientUpdate()) #Get a list of updates from selected clients\n",
    "                #print(updateFromClients)\n",
    "        \n",
    "        avgModelWeights = self.computeFedAvg(self.updateFromClients)\n",
    "        #print(\"average model weights = \\n\",avgModelWeights)\n",
    "        self.serverModel.set_weights(avgModelWeights)   \n",
    "        \n",
    "    def computeFedAvg(self,updates):  #Compute Federated Averaging from Available Clients\n",
    "        totalDataPoints = 0\n",
    "        scaleFactor=[]\n",
    "        for i in range (0,len(updates)):\n",
    "            totalDataPoints += updates[i][1]   #Sum the total Data Points on All Available Clients\n",
    "            scaleFactor.append(updates[i][1])  #Store individual number datapoints for clients\n",
    "        #print(totalDataPoints)\n",
    "        #print(scaleFactor)\n",
    "        \n",
    "        \n",
    "        scaleFactor = np.array(scaleFactor)/totalDataPoints #Create the scale factor\n",
    "        #print(scaleFactor)\n",
    "        #print(type(scaleFactor))\n",
    "        \n",
    "        #for i in range (0,len(updates)):    #Iteration Over the Clients \n",
    "        #    for j in range (0,len(updates[i][0])):\n",
    "        #        updates[i][0][j]=updates[i][0][j]*scaleFactor[i]\n",
    "        \n",
    "        sumOfAvgWeights = []*len(updates[0][0]) \n",
    "        \n",
    "        for j in range (0,len(updates[0][0])): #range of layers\n",
    "            k=np.zeros_like(updates[0][0][j])\n",
    "            #print(\"ShapeofK:\",k.shape)\n",
    "            for i in range(0,len(updates)): #range of clients\n",
    "                k=k+updates[i][0][j]*scaleFactor[i]\n",
    "                #print(\"ShapeofK:\",k.shape)\n",
    "            sumOfAvgWeights.append(k)\n",
    "        \n",
    "        #print(len(sumOfAvgWeights))\n",
    "        #print(\"Size 0\",sumOfAvgWeights[0].shape)\n",
    "        #print(\"Size 1\",sumOfAvgWeights[1].shape)\n",
    "        #print(\"Size 2\",sumOfAvgWeights[2].shape)\n",
    "        #print(\"Size 3\",sumOfAvgWeights[3].shape)\n",
    "        #print(\"Size 4\",sumOfAvgWeights[4].shape)\n",
    "        #print(\"Size 5\",sumOfAvgWeights[5].shape)\n",
    "        \n",
    "        \n",
    "        return sumOfAvgWeights   \n",
    "    \n",
    "    def testServerModel(self):\n",
    "        #loss = tf.keras.losses.CategoricalCrossentropy(from_logits=True)\n",
    "        #prediction = self.serverModel.predict(self.__serverTestData_X)\n",
    "        #self.predictionLoss.append(loss(self.__serverTestData_Y,prediction))\n",
    "        #self.predictionAcc.append(accuracy_score(tf.argmax(logits, axis=1), tf.argmax(self.__serverTestData_Y, axis=1)))\n",
    "        return self.serverModel.evaluate(self.__serverTestData_X,to_categorical(self.__serverTestData_Y),batch_size=64)\n",
    "       # print(\"Round:\",self.updateRoundNum,\n",
    "        #      \"TestAcc:\",self.predictionAcc[self.updateRoundNum],\n",
    "         #    \"TestLoss:\",self.predictionLoss[self.updateRoundNum])\n",
    "        \n",
    "        \n",
    "    def updateAllClients(self):\n",
    "        for i in self.clientIds:\n",
    "            clientName = \"client_\"+str(self.clientIds[i])  #Create Client Name\n",
    "            eval(clientName).setModelUpdateWeights(self.serverModel.get_weights()) \n",
    "\n"
   ]
  },
  {
   "cell_type": "code",
   "execution_count": null,
   "metadata": {},
   "outputs": [],
   "source": [
    "print(len(serverFA.updateFromClients))\n",
    "print(serverFA.updateFromClients)"
   ]
  },
  {
   "cell_type": "code",
   "execution_count": null,
   "metadata": {},
   "outputs": [],
   "source": [
    "print((serverFA.updateFromClients[1][0][0])*2)\n",
    "print(len(serverFA.updateFromClients[1][0]))"
   ]
  },
  {
   "cell_type": "code",
   "execution_count": null,
   "metadata": {},
   "outputs": [],
   "source": [
    "print(type(serverFA.serverModel.get_weights()))"
   ]
  },
  {
   "cell_type": "code",
   "execution_count": null,
   "metadata": {},
   "outputs": [],
   "source": [
    "serverFA.serverModel.evaluate(originalTestX,to_categorical(originalTestY))"
   ]
  },
  {
   "cell_type": "code",
   "execution_count": 3,
   "metadata": {},
   "outputs": [],
   "source": [
    "class client:\n",
    "    \n",
    "    def __init__(self,ID):\n",
    "        self.id = ID\n",
    "        self.__clientModel = tf.keras.models.Sequential()\n",
    "        self.activeStatus = 0\n",
    "        self.__clientDataX=[] #Private to Client\n",
    "        self.__clientDataY=[]\n",
    "        self.clientCIF=0\n",
    "        self.SNR = 0\n",
    "        self.epochs = 10\n",
    "        self.lr = 0.0001\n",
    "        \n",
    "    #Methods Private to client\n",
    "    def __setActiveStatus(self): \n",
    "        self.activeStatus = int(np.random.randint(0,2,1))\n",
    "        #self.activeStatus = 1\n",
    "    \n",
    "    def __setCIF(self):\n",
    "        self.clientCIF = int(np.random.randint(0,50,1))  # Random Number between 0 and 49 for vheck purpose only\n",
    "        #self.clientCIF = 20\n",
    "        \n",
    "    def __getTrainData(self):\n",
    "        return self.__clientDataX, self.__clientDataY  # Just for Testing will be expanded to select meaningful data\n",
    "    \n",
    "    #Public Methods\n",
    "    def sendActiveStatus(self):\n",
    "        self.__setActiveStatus()\n",
    "        return self.activeStatus\n",
    "    \n",
    "    def sendCIF(self):\n",
    "        self.__setCIF()\n",
    "        return self.clientCIF\n",
    "    \n",
    "    def setInitialModel(self,model):\n",
    "        self.__clientModel=model\n",
    "         \n",
    "    def setClientData(self,X,Y):\n",
    "        self.__clientDataX = X\n",
    "        self.__clientDataY = Y\n",
    "   \n",
    "\n",
    "    def sendClientUpdate(self):\n",
    "        print(\"Training Client ID:\",self.id)\n",
    "        self.__clientModel.compile(loss = 'categorical_crossentropy',\n",
    "                                optimizer = tf.keras.optimizers.SGD (learning_rate=self.lr),\n",
    "                                metrics=['accuracy'])\n",
    "        #print(self.__clientDataX.shape)\n",
    "        #print(self.__clientDataY.shape)\n",
    "        self.__clientModel.fit(self.__clientDataX,\n",
    "                               tf.keras.utils.to_categorical(self.__clientDataY),\n",
    "                               epochs=self.epochs,\n",
    "                               validation_split=0.2,\n",
    "                               verbose=0)\n",
    "        \n",
    "        updatedWeights = self.__clientModel.get_weights()\n",
    "        #print(\"Client_\",self.id,\" weights=\\n\",updatedWeights)\n",
    "        #print(\"Size Client 0\",updatedWeights[0].size)\n",
    "        #print(\"Size Client 1\",updatedWeights[1].size)\n",
    "        ##print(\"Size Client 2\",updatedWeights[2].size)\n",
    "        #print(\"Size Client 3\",updatedWeights[3].size)\n",
    "        #print(\"Size Client 4\",updatedWeights[4].size)\n",
    "        #print(\"Size Client 5\",updatedWeights[5].size)\n",
    "        \n",
    "        numOfDataPoints = self.__clientDataY.size   #<-- Set the correct type to get the number of datapoints in the current update round\n",
    "        #print(\"ModelWeightShape=\",len(updatedWeights))\n",
    "        #print(\"numOfDataPoints=\",numOfDataPoints)\n",
    "        return (updatedWeights,numOfDataPoints)\n",
    "    \n",
    "    def setModelUpdateWeights(self,modelUpdateWeights):\n",
    "        self.__clientModel.set_weights(modelUpdateWeights)\n",
    "        #self.__clientModel.\n",
    "        \n",
    "    def plotClientData(self):\n",
    "        #print(\"Y_Data\",self.__clientDataY)\n",
    "        id0=[]\n",
    "        id1=[]\n",
    "        id2=[]\n",
    "        id3=[]\n",
    "        id4=[]\n",
    "        id5=[]\n",
    "        id6=[]\n",
    "        id7=[]\n",
    "        id8=[]\n",
    "        id9=[]\n",
    "        for i in range (0,len(self.__clientDataY)):\n",
    "            for j in range (0,10):\n",
    "                if j==self.__clientDataY[i]:\n",
    "                    eval('id'+str(j)).append(i)\n",
    "        xAxis=['0','1','2','3','4','5','6','7','8','9']\n",
    "        yAxis=[len(id0),len(id1),len(id2),len(id3),len(id4),len(id5),len(id6),len(id7),len(id8),len(id9)]\n",
    "        plt.bar(xAxis,yAxis)\n",
    "        title=\"Data for Client\"+str(self.id)\n",
    "        plt.title(title)\n",
    "        plt.show()"
   ]
  },
  {
   "cell_type": "markdown",
   "metadata": {},
   "source": [
    "## Create NON-IID DataSet for Distribution to Client\n",
    "## Use MNIST Test Dataset for server validation"
   ]
  },
  {
   "cell_type": "code",
   "execution_count": 6,
   "metadata": {},
   "outputs": [],
   "source": [
    "# Data Modulation \n",
    "(originalTrainX, originalTrainY), (originalTestX, originalTestY) = mnist.load_data()\n",
    "\n",
    "originalTrainX = (originalTrainX / 255) - 0.5\n",
    "originalTestX = (originalTestX / 255) - 0.5\n",
    "\n",
    "originalTrainX = originalTrainX.reshape((-1, 784))\n",
    "originalTestX = originalTestX.reshape((-1, 784))\n",
    "\n",
    "def distributeDataToClient(numOfClients,X_train,Y_train):  # Creating NON IID DataSet from Original MNIST Train Data\n",
    "        id0=[]\n",
    "        id1=[]\n",
    "        id2=[]\n",
    "        id3=[]\n",
    "        id4=[]\n",
    "        id5=[]\n",
    "        id6=[]\n",
    "        id7=[]\n",
    "        id8=[]\n",
    "        id9=[]\n",
    "        for i in range (0,60000):\n",
    "            for j in range (0,10):\n",
    "                if j==originalTrainY[i]:\n",
    "                    eval('id'+str(j)).append(i)\n",
    "        for i in range(0,10):\n",
    "            print(\"Number of Samples for id\",str(i),\":\",len(eval(\"id\"+str(i))))\n",
    "        \n",
    "        \n",
    "        for i in range (0,numOfClients):\n",
    "            Y_data = []\n",
    "            X_data = []\n",
    "            np.random.seed(i*10)\n",
    "            numOfClasses = int(np.random.randint(4,10,1))        #Select Random Number of Classes e.g 6 classes\n",
    "            classList = np.random.randint(0,10,numOfClasses)     #Select Random Classes based on above num eg. [0,3,4,5,6,7]\n",
    "            #print(classList)\n",
    "            for k in range (0,numOfClasses):\n",
    "                classID = int(classList[k])\n",
    "                classIDLen = len(eval(\"id\"+str(classID)))\n",
    "                #print(classID,\":\",classIDLen)\n",
    "                numOfSamplesInClass= int(np.random.randint(1500,5000,1))\n",
    "                #print(numOfSamplesInClass)\n",
    "                Y_data = np.empty([numOfSamplesInClass,])\n",
    "                X_data= np.empty([numOfSamplesInClass,784])\n",
    "                Y_data = np.random.choice(Y_train,numOfSamplesInClass,replace=False)\n",
    "                #print(Y_data)\n",
    "                for n in range(Y_data.size):\n",
    "                    X_data[n] = np.copy(X_train[n])\n",
    "\n",
    "            clientName = \"client_\"+str(i)\n",
    "            c_data = (X_data,Y_data)\n",
    "            eval(clientName).setClientData(X_data,Y_data)\n",
    "            #print(X_data.shape,Y_data.shape)\n",
    "            print(type(X_data),type(Y_data))\n",
    "            #print(Y_data)\n",
    "\n",
    "def distributeDataToServer(serverName,X_test,Y_test):  #Use the mnist test data for server validation\n",
    "    serverName.setServerTestData(X_test,Y_test)"
   ]
  },
  {
   "cell_type": "code",
   "execution_count": null,
   "metadata": {},
   "outputs": [],
   "source": [
    "client_0.__setCIF()"
   ]
  },
  {
   "cell_type": "code",
   "execution_count": null,
   "metadata": {},
   "outputs": [],
   "source": [
    "#Show the distribution of samples in each class of MNIST\n",
    "id0=[]\n",
    "id1=[]\n",
    "id2=[]\n",
    "id3=[]\n",
    "id4=[]\n",
    "id5=[]\n",
    "id6=[]\n",
    "id7=[]\n",
    "id8=[]\n",
    "id9=[]\n",
    "for i in range (0,60000):\n",
    "    for j in range (0,10):\n",
    "        if j==originalTrainY[i]:\n",
    "            eval('id'+str(j)).append(i)\n",
    "for i in range(0,10):\n",
    "    print(\"Number of Samples for id\",str(i),\":\",len(eval(\"id\"+str(i))))"
   ]
  },
  {
   "cell_type": "markdown",
   "metadata": {},
   "source": [
    "## Initializing Clients"
   ]
  },
  {
   "cell_type": "code",
   "execution_count": 7,
   "metadata": {},
   "outputs": [
    {
     "name": "stdout",
     "output_type": "stream",
     "text": [
      "Number of Samples for id 0 : 5923\n",
      "Number of Samples for id 1 : 6742\n",
      "Number of Samples for id 2 : 5958\n",
      "Number of Samples for id 3 : 6131\n",
      "Number of Samples for id 4 : 5842\n",
      "Number of Samples for id 5 : 5421\n",
      "Number of Samples for id 6 : 5918\n",
      "Number of Samples for id 7 : 6265\n",
      "Number of Samples for id 8 : 5851\n",
      "Number of Samples for id 9 : 5949\n",
      "<class 'numpy.ndarray'> <class 'numpy.ndarray'>\n",
      "<class 'numpy.ndarray'> <class 'numpy.ndarray'>\n",
      "<class 'numpy.ndarray'> <class 'numpy.ndarray'>\n",
      "<class 'numpy.ndarray'> <class 'numpy.ndarray'>\n",
      "<class 'numpy.ndarray'> <class 'numpy.ndarray'>\n",
      "<class 'numpy.ndarray'> <class 'numpy.ndarray'>\n",
      "<class 'numpy.ndarray'> <class 'numpy.ndarray'>\n",
      "<class 'numpy.ndarray'> <class 'numpy.ndarray'>\n",
      "<class 'numpy.ndarray'> <class 'numpy.ndarray'>\n",
      "<class 'numpy.ndarray'> <class 'numpy.ndarray'>\n",
      "<class 'numpy.ndarray'> <class 'numpy.ndarray'>\n",
      "<class 'numpy.ndarray'> <class 'numpy.ndarray'>\n",
      "<class 'numpy.ndarray'> <class 'numpy.ndarray'>\n",
      "<class 'numpy.ndarray'> <class 'numpy.ndarray'>\n",
      "<class 'numpy.ndarray'> <class 'numpy.ndarray'>\n",
      "<class 'numpy.ndarray'> <class 'numpy.ndarray'>\n",
      "<class 'numpy.ndarray'> <class 'numpy.ndarray'>\n",
      "<class 'numpy.ndarray'> <class 'numpy.ndarray'>\n",
      "<class 'numpy.ndarray'> <class 'numpy.ndarray'>\n",
      "<class 'numpy.ndarray'> <class 'numpy.ndarray'>\n"
     ]
    },
    {
     "data": {
      "image/png": "[encoded data removed]",
      "text/plain": [
       "<Figure size 432x288 with 1 Axes>"
      ]
     },
     "metadata": {
      "needs_background": "light"
     },
     "output_type": "display_data"
    },
    {
     "data": {
      "image/png": "[encoded data removed]",
      "text/plain": [
       "<Figure size 432x288 with 1 Axes>"
      ]
     },
     "metadata": {
      "needs_background": "light"
     },
     "output_type": "display_data"
    },
    {
     "data": {
      "image/png": "[encoded data removed]",
      "text/plain": [
       "<Figure size 432x288 with 1 Axes>"
      ]
     },
     "metadata": {
      "needs_background": "light"
     },
     "output_type": "display_data"
    },
    {
     "data": {
      "image/png": "[encoded data removed]",
      "text/plain": [
       "<Figure size 432x288 with 1 Axes>"
      ]
     },
     "metadata": {
      "needs_background": "light"
     },
     "output_type": "display_data"
    },
    {
     "data": {
      "image/png": "[encoded data removed]",
      "text/plain": [
       "<Figure size 432x288 with 1 Axes>"
      ]
     },
     "metadata": {
      "needs_background": "light"
     },
     "output_type": "display_data"
    },
    {
     "data": {
      "image/png": "[encoded data removed]",
      "text/plain": [
       "<Figure size 432x288 with 1 Axes>"
      ]
     },
     "metadata": {
      "needs_background": "light"
     },
     "output_type": "display_data"
    },
    {
     "data": {
      "image/png": "[encoded data removed]",
      "text/plain": [
       "<Figure size 432x288 with 1 Axes>"
      ]
     },
     "metadata": {
      "needs_background": "light"
     },
     "output_type": "display_data"
    },
    {
     "data": {
      "image/png": "[encoded data removed]",
      "text/plain": [
       "<Figure size 432x288 with 1 Axes>"
      ]
     },
     "metadata": {
      "needs_background": "light"
     },
     "output_type": "display_data"
    },
    {
     "data": {
      "image/png": "[encoded data removed]",
      "text/plain": [
       "<Figure size 432x288 with 1 Axes>"
      ]
     },
     "metadata": {
      "needs_background": "light"
     },
     "output_type": "display_data"
    },
    {
     "data": {
      "image/png": "[encoded data removed]",
      "text/plain": [
       "<Figure size 432x288 with 1 Axes>"
      ]
     },
     "metadata": {
      "needs_background": "light"
     },
     "output_type": "display_data"
    },
    {
     "data": {
      "image/png": "[encoded data removed]",
      "text/plain": [
       "<Figure size 432x288 with 1 Axes>"
      ]
     },
     "metadata": {
      "needs_background": "light"
     },
     "output_type": "display_data"
    },
    {
     "data": {
      "image/png": "[encoded data removed]",
      "text/plain": [
       "<Figure size 432x288 with 1 Axes>"
      ]
     },
     "metadata": {
      "needs_background": "light"
     },
     "output_type": "display_data"
    },
    {
     "data": {
      "image/png": "[encoded data removed]",
      "text/plain": [
       "<Figure size 432x288 with 1 Axes>"
      ]
     },
     "metadata": {
      "needs_background": "light"
     },
     "output_type": "display_data"
    },
    {
     "data": {
      "image/png": "[encoded data removed]",
      "text/plain": [
       "<Figure size 432x288 with 1 Axes>"
      ]
     },
     "metadata": {
      "needs_background": "light"
     },
     "output_type": "display_data"
    },
    {
     "data": {
      "image/png": "[encoded data removed]",
      "text/plain": [
       "<Figure size 432x288 with 1 Axes>"
      ]
     },
     "metadata": {
      "needs_background": "light"
     },
     "output_type": "display_data"
    },
    {
     "data": {
      "image/png": "[encoded data removed]",
      "text/plain": [
       "<Figure size 432x288 with 1 Axes>"
      ]
     },
     "metadata": {
      "needs_background": "light"
     },
     "output_type": "display_data"
    },
    {
     "data": {
      "image/png": "[encoded data removed]",
      "text/plain": [
       "<Figure size 432x288 with 1 Axes>"
      ]
     },
     "metadata": {
      "needs_background": "light"
     },
     "output_type": "display_data"
    },
    {
     "data": {
      "image/png": "[encoded data removed]",
      "text/plain": [
       "<Figure size 432x288 with 1 Axes>"
      ]
     },
     "metadata": {
      "needs_background": "light"
     },
     "output_type": "display_data"
    },
    {
     "data": {
      "image/png": "[encoded data removed]",
      "text/plain": [
       "<Figure size 432x288 with 1 Axes>"
      ]
     },
     "metadata": {
      "needs_background": "light"
     },
     "output_type": "display_data"
    },
    {
     "data": {
      "image/png": "[encoded data removed]",
      "text/plain": [
       "<Figure size 432x288 with 1 Axes>"
      ]
     },
     "metadata": {
      "needs_background": "light"
     },
     "output_type": "display_data"
    }
   ],
   "source": [
    "#Populate Clients\n",
    "N = 20\n",
    "\n",
    "client_0=client(0)\n",
    "client_1=client(1)\n",
    "client_2=client(2)\n",
    "client_3=client(3)\n",
    "client_4=client(4)\n",
    "client_5=client(5)\n",
    "client_6=client(6)\n",
    "client_7=client(7)\n",
    "client_8=client(8)\n",
    "client_9=client(9)\n",
    "client_10=client(10)\n",
    "client_11=client(11)\n",
    "client_12=client(12)\n",
    "client_13=client(13)\n",
    "client_14=client(14)\n",
    "client_15=client(15)\n",
    "client_16=client(16)\n",
    "client_17=client(17)\n",
    "client_18=client(18)\n",
    "client_19=client(19)\n",
    "\n",
    "# Distribute Client Data\n",
    "distributeDataToClient(N,originalTrainX,originalTrainY)\n",
    "for i in range (0,N):\n",
    "    clientName = \"client_\"+str(i)\n",
    "    eval(clientName).plotClientData()"
   ]
  },
  {
   "cell_type": "markdown",
   "metadata": {},
   "source": [
    "### Initializing Sever"
   ]
  },
  {
   "cell_type": "code",
   "execution_count": 8,
   "metadata": {},
   "outputs": [],
   "source": [
    "serverFA = server(N)   # N = Number of Client\n",
    "distributeDataToServer(serverFA,originalTestX,originalTestY)"
   ]
  },
  {
   "cell_type": "code",
   "execution_count": 9,
   "metadata": {},
   "outputs": [],
   "source": [
    "serverFA.initialBroadcast()"
   ]
  },
  {
   "cell_type": "code",
   "execution_count": 10,
   "metadata": {},
   "outputs": [
    {
     "name": "stdout",
     "output_type": "stream",
     "text": [
      "Active Clients:  [1, 2, 3, 4, 5, 8, 9, 10, 11, 13, 14, 15, 17, 18]\n",
      "Clients with Acceptable CIF:  [46, 20, 1, 19, 19, 2, 29, 49, 46, 47, 31, 14, 12, 1]\n",
      "--------------------------------------------\n",
      " Round NO: 0\n",
      "Training Client ID: 1\n",
      "Training Client ID: 2\n",
      "Training Client ID: 4\n",
      "Training Client ID: 5\n",
      "Training Client ID: 9\n",
      "Training Client ID: 10\n",
      "Training Client ID: 11\n",
      "Training Client ID: 13\n",
      "Training Client ID: 14\n",
      "Training Client ID: 15\n",
      "Training Client ID: 17\n",
      "157/157 [==============================] - 0s 920us/step - loss: 2.3564 - accuracy: 0.0601\n",
      "Active Clients:  [1, 2, 4, 5, 7, 8, 11, 13, 15, 18, 19]\n",
      "Clients with Acceptable CIF:  [26, 1, 42, 17, 41, 15, 2, 17, 19, 41, 1]\n",
      "--------------------------------------------\n",
      " Round NO: 1\n",
      "Training Client ID: 1\n",
      "Training Client ID: 4\n",
      "Training Client ID: 5\n",
      "Training Client ID: 7\n",
      "Training Client ID: 8\n",
      "Training Client ID: 13\n",
      "Training Client ID: 15\n",
      "Training Client ID: 18\n",
      "157/157 [==============================] - 0s 946us/step - loss: 2.3489 - accuracy: 0.0718\n",
      "Active Clients:  [0, 2, 3, 4, 5, 8, 12, 13, 16]\n",
      "Clients with Acceptable CIF:  [30, 15, 27, 24, 11, 3, 22, 6, 6]\n",
      "--------------------------------------------\n",
      " Round NO: 2\n",
      "Training Client ID: 0\n",
      "Training Client ID: 2\n",
      "Training Client ID: 3\n",
      "Training Client ID: 4\n",
      "Training Client ID: 5\n",
      "Training Client ID: 12\n",
      "157/157 [==============================] - 0s 1ms/step - loss: 2.3474 - accuracy: 0.0811\n",
      "Active Clients:  [4, 5, 7, 9, 10, 12, 13, 15, 16, 17, 18, 19]\n",
      "Clients with Acceptable CIF:  [42, 25, 42, 6, 6, 44, 40, 30, 7, 1, 12, 23]\n",
      "--------------------------------------------\n",
      " Round NO: 3\n",
      "Training Client ID: 4\n",
      "Training Client ID: 5\n",
      "Training Client ID: 7\n",
      "Training Client ID: 12\n",
      "Training Client ID: 13\n",
      "Training Client ID: 15\n",
      "Training Client ID: 18\n",
      "Training Client ID: 19\n",
      "157/157 [==============================] - 0s 1ms/step - loss: 2.3455 - accuracy: 0.0783\n",
      "Active Clients:  [2, 3, 5, 9, 13, 14]\n",
      "Clients with Acceptable CIF:  [38, 22, 40, 45, 12, 4]\n",
      "--------------------------------------------\n",
      " Round NO: 4\n",
      "Training Client ID: 2\n",
      "Training Client ID: 3\n",
      "Training Client ID: 5\n",
      "Training Client ID: 9\n",
      "Training Client ID: 13\n",
      "157/157 [==============================] - 0s 1ms/step - loss: 2.3448 - accuracy: 0.0802\n",
      "Active Clients:  [0, 4, 5, 7, 10, 11, 12, 13, 15, 17, 18, 19]\n",
      "Clients with Acceptable CIF:  [23, 24, 8, 36, 37, 27, 41, 12, 16, 18, 36, 35]\n",
      "--------------------------------------------\n",
      " Round NO: 5\n",
      "Training Client ID: 0\n",
      "Training Client ID: 4\n",
      "Training Client ID: 7\n",
      "Training Client ID: 10\n",
      "Training Client ID: 11\n",
      "Training Client ID: 12\n",
      "Training Client ID: 13\n",
      "Training Client ID: 15\n",
      "Training Client ID: 17\n",
      "Training Client ID: 18\n",
      "Training Client ID: 19\n",
      "157/157 [==============================] - 0s 1ms/step - loss: 2.3421 - accuracy: 0.0822\n",
      "Active Clients:  [0, 2, 9, 10, 15, 17, 19]\n",
      "Clients with Acceptable CIF:  [18, 49, 42, 5, 1, 10, 2]\n",
      "--------------------------------------------\n",
      " Round NO: 6\n",
      "Training Client ID: 0\n",
      "Training Client ID: 2\n",
      "Training Client ID: 9\n",
      "Training Client ID: 17\n",
      "157/157 [==============================] - 0s 1ms/step - loss: 2.3421 - accuracy: 0.0832\n",
      "Active Clients:  [1, 2, 3, 5, 6, 7, 9, 10, 13, 14, 15, 17, 18, 19]\n",
      "Clients with Acceptable CIF:  [10, 36, 21, 7, 33, 2, 43, 26, 8, 25, 5, 37, 27, 12]\n",
      "--------------------------------------------\n",
      " Round NO: 7\n",
      "Training Client ID: 1\n",
      "Training Client ID: 2\n",
      "Training Client ID: 3\n",
      "Training Client ID: 6\n",
      "Training Client ID: 9\n",
      "Training Client ID: 10\n",
      "Training Client ID: 14\n",
      "Training Client ID: 17\n",
      "Training Client ID: 18\n",
      "Training Client ID: 19\n",
      "157/157 [==============================] - 0s 1ms/step - loss: 2.3419 - accuracy: 0.0735\n",
      "Active Clients:  [3, 4, 6, 9, 10, 12, 13, 14, 15, 16, 17]\n",
      "Clients with Acceptable CIF:  [25, 18, 46, 9, 3, 48, 12, 27, 12, 20, 32]\n",
      "--------------------------------------------\n",
      " Round NO: 8\n",
      "Training Client ID: 3\n",
      "Training Client ID: 4\n",
      "Training Client ID: 6\n",
      "Training Client ID: 12\n",
      "Training Client ID: 13\n",
      "Training Client ID: 14\n",
      "Training Client ID: 15\n",
      "Training Client ID: 16\n",
      "Training Client ID: 17\n",
      "157/157 [==============================] - 0s 2ms/step - loss: 2.3401 - accuracy: 0.0719\n",
      "Active Clients:  [0, 1, 2, 4, 9, 10, 13, 14, 17, 19]\n",
      "Clients with Acceptable CIF:  [8, 25, 46, 39, 30, 36, 2, 40, 15, 37]\n",
      "--------------------------------------------\n",
      " Round NO: 9\n",
      "Training Client ID: 1\n",
      "Training Client ID: 2\n",
      "Training Client ID: 4\n",
      "Training Client ID: 9\n",
      "Training Client ID: 10\n",
      "Training Client ID: 14\n",
      "Training Client ID: 17\n",
      "Training Client ID: 19\n",
      "157/157 [==============================] - 0s 1ms/step - loss: 2.3400 - accuracy: 0.0690\n",
      "Active Clients:  [0, 3, 6, 7, 8, 10, 11, 14, 19]\n",
      "Clients with Acceptable CIF:  [33, 12, 0, 12, 8, 34, 3, 9, 36]\n",
      "--------------------------------------------\n",
      " Round NO: 10\n",
      "Training Client ID: 0\n",
      "Training Client ID: 3\n",
      "Training Client ID: 7\n",
      "Training Client ID: 10\n",
      "Training Client ID: 19\n",
      "157/157 [==============================] - 0s 1ms/step - loss: 2.3391 - accuracy: 0.0728\n",
      "Active Clients:  [1, 5, 7, 8, 9, 10, 11, 15, 16, 17, 18, 19]\n",
      "Clients with Acceptable CIF:  [21, 49, 28, 46, 7, 25, 5, 9, 24, 22, 43, 37]\n",
      "--------------------------------------------\n",
      " Round NO: 11\n",
      "Training Client ID: 1\n",
      "Training Client ID: 5\n",
      "Training Client ID: 7\n",
      "Training Client ID: 8\n",
      "Training Client ID: 10\n",
      "Training Client ID: 16\n",
      "Training Client ID: 17\n",
      "Training Client ID: 18\n",
      "Training Client ID: 19\n",
      "157/157 [==============================] - 0s 1ms/step - loss: 2.3374 - accuracy: 0.0710\n",
      "Active Clients:  [4, 5, 6, 7, 9, 10, 12, 14, 16, 17, 19]\n",
      "Clients with Acceptable CIF:  [37, 10, 14, 29, 11, 36, 41, 26, 21, 2, 30]\n",
      "--------------------------------------------\n",
      " Round NO: 12\n",
      "Training Client ID: 4\n",
      "Training Client ID: 5\n",
      "Training Client ID: 6\n",
      "Training Client ID: 7\n",
      "Training Client ID: 9\n",
      "Training Client ID: 10\n",
      "Training Client ID: 12\n",
      "Training Client ID: 14\n",
      "Training Client ID: 16\n",
      "Training Client ID: 19\n",
      "157/157 [==============================] - 0s 1ms/step - loss: 2.3370 - accuracy: 0.0661\n",
      "Active Clients:  [2, 4, 6, 7, 8, 11, 14, 17, 18]\n",
      "Clients with Acceptable CIF:  [33, 47, 1, 25, 22, 11, 35, 0, 17]\n",
      "--------------------------------------------\n",
      " Round NO: 13\n",
      "Training Client ID: 2\n",
      "Training Client ID: 4\n",
      "Training Client ID: 7\n",
      "Training Client ID: 8\n",
      "Training Client ID: 11\n",
      "Training Client ID: 14\n",
      "Training Client ID: 18\n",
      "157/157 [==============================] - 0s 2ms/step - loss: 2.3356 - accuracy: 0.0753\n",
      "Active Clients:  [2, 3, 7, 8, 9, 11, 12, 13, 14, 17, 18, 19]\n",
      "Clients with Acceptable CIF:  [10, 19, 5, 4, 31, 49, 4, 48, 1, 0, 16, 19]\n",
      "--------------------------------------------\n",
      " Round NO: 14\n",
      "Training Client ID: 2\n",
      "Training Client ID: 3\n",
      "Training Client ID: 9\n",
      "Training Client ID: 11\n",
      "Training Client ID: 13\n",
      "Training Client ID: 18\n",
      "Training Client ID: 19\n",
      "157/157 [==============================] - 0s 1ms/step - loss: 2.3353 - accuracy: 0.0754\n",
      "Active Clients:  [0, 1, 4, 7, 9, 13, 14, 15, 16, 18, 19]\n",
      "Clients with Acceptable CIF:  [43, 26, 19, 12, 16, 41, 6, 2, 32, 3, 4]\n",
      "--------------------------------------------\n",
      " Round NO: 15\n",
      "Training Client ID: 0\n",
      "Training Client ID: 1\n",
      "Training Client ID: 4\n",
      "Training Client ID: 7\n",
      "Training Client ID: 9\n",
      "Training Client ID: 13\n",
      "Training Client ID: 16\n",
      "157/157 [==============================] - 0s 1ms/step - loss: 2.3341 - accuracy: 0.0711\n",
      "Active Clients:  [2, 5, 6, 7, 9, 10]\n",
      "Clients with Acceptable CIF:  [48, 20, 16, 49, 20, 47]\n",
      "--------------------------------------------\n",
      " Round NO: 16\n",
      "Training Client ID: 2\n",
      "Training Client ID: 5\n",
      "Training Client ID: 6\n",
      "Training Client ID: 7\n",
      "Training Client ID: 9\n",
      "Training Client ID: 10\n",
      "157/157 [==============================] - 0s 1ms/step - loss: 2.3344 - accuracy: 0.0752\n",
      "Active Clients:  [1, 2, 3, 4, 5, 7, 8, 10, 13, 14, 17]\n",
      "Clients with Acceptable CIF:  [46, 13, 1, 33, 48, 7, 2, 25, 26, 19, 20]\n",
      "--------------------------------------------\n",
      " Round NO: 17\n",
      "Training Client ID: 1\n",
      "Training Client ID: 2\n",
      "Training Client ID: 4\n",
      "Training Client ID: 5\n",
      "Training Client ID: 10\n",
      "Training Client ID: 13\n",
      "Training Client ID: 14\n",
      "Training Client ID: 17\n",
      "157/157 [==============================] - 0s 2ms/step - loss: 2.3346 - accuracy: 0.0746\n",
      "Active Clients:  [0, 3, 4, 10, 11, 12, 14, 16, 17, 18]\n",
      "Clients with Acceptable CIF:  [20, 11, 23, 14, 17, 41, 32, 37, 48, 11]\n",
      "--------------------------------------------\n",
      " Round NO: 18\n",
      "Training Client ID: 0\n"
     ]
    },
    {
     "name": "stdout",
     "output_type": "stream",
     "text": [
      "Training Client ID: 3\n",
      "Training Client ID: 4\n",
      "Training Client ID: 10\n",
      "Training Client ID: 11\n",
      "Training Client ID: 12\n",
      "Training Client ID: 14\n",
      "Training Client ID: 16\n",
      "Training Client ID: 17\n",
      "Training Client ID: 18\n",
      "157/157 [==============================] - 0s 1ms/step - loss: 2.3346 - accuracy: 0.0742\n",
      "Active Clients:  [0, 3, 5, 9, 11, 15, 16, 18]\n",
      "Clients with Acceptable CIF:  [27, 37, 1, 10, 30, 21, 17, 42]\n",
      "--------------------------------------------\n",
      " Round NO: 19\n",
      "Training Client ID: 0\n",
      "Training Client ID: 3\n",
      "Training Client ID: 9\n",
      "Training Client ID: 11\n",
      "Training Client ID: 15\n",
      "Training Client ID: 16\n",
      "Training Client ID: 18\n",
      "157/157 [==============================] - 0s 1ms/step - loss: 2.3336 - accuracy: 0.0780\n"
     ]
    }
   ],
   "source": [
    "numberOfTraingRounds = 20\n",
    "trainingMetrics=[]*numberOfTraingRounds\n",
    "for i in range(0,numberOfTraingRounds):\n",
    "    serverFA.getClientActiveStatus()\n",
    "    serverFA.getClientCIF()\n",
    "    serverFA.getModelUpdateFromClients()\n",
    "    trainingMetrics.append(serverFA.testServerModel())\n",
    "    serverFA.updateAllClients()\n"
   ]
  },
  {
   "cell_type": "code",
   "execution_count": 15,
   "metadata": {},
   "outputs": [
    {
     "name": "stdout",
     "output_type": "stream",
     "text": [
      "0.060100000351667404\n"
     ]
    }
   ],
   "source": [
    "print(trainingMetrics[0][1])"
   ]
  },
  {
   "cell_type": "code",
   "execution_count": 17,
   "metadata": {},
   "outputs": [
    {
     "data": {
      "text/plain": [
       "[<matplotlib.lines.Line2D at 0x7fd905b04bd0>,\n",
       " <matplotlib.lines.Line2D at 0x7fd86ba97550>]"
      ]
     },
     "execution_count": 17,
     "metadata": {},
     "output_type": "execute_result"
    },
    {
     "data": {
      "image/png": "[encoded data removed]",
      "text/plain": [
       "<Figure size 432x288 with 1 Axes>"
      ]
     },
     "metadata": {
      "needs_background": "light"
     },
     "output_type": "display_data"
    }
   ],
   "source": [
    "\n",
    "plt.plot(trainingMetrics)"
   ]
  },
  {
   "cell_type": "code",
   "execution_count": null,
   "metadata": {},
   "outputs": [],
   "source": [
    "a.baseModel.set_weights(avgWeight)"
   ]
  },
  {
   "cell_type": "code",
   "execution_count": null,
   "metadata": {},
   "outputs": [],
   "source": [
    "a.baseModel.get_weights()"
   ]
  },
  {
   "cell_type": "code",
   "execution_count": null,
   "metadata": {},
   "outputs": [],
   "source": [
    "evaldata=serverFA.testServerModel()"
   ]
  },
  {
   "cell_type": "code",
   "execution_count": null,
   "metadata": {},
   "outputs": [],
   "source": [
    "type(evaldata)"
   ]
  },
  {
   "cell_type": "code",
   "execution_count": null,
   "metadata": {},
   "outputs": [],
   "source": [
    "evaldata"
   ]
  },
  {
   "cell_type": "code",
   "execution_count": null,
   "metadata": {},
   "outputs": [],
   "source": []
  },
  {
   "cell_type": "code",
   "execution_count": null,
   "metadata": {},
   "outputs": [],
   "source": []
  },
  {
   "cell_type": "code",
   "execution_count": null,
   "metadata": {},
   "outputs": [],
   "source": []
  },
  {
   "cell_type": "code",
   "execution_count": null,
   "metadata": {},
   "outputs": [],
   "source": []
  },
  {
   "cell_type": "code",
   "execution_count": null,
   "metadata": {},
   "outputs": [],
   "source": [
    "#Populate Clients\n",
    "N = 20\n",
    "\n",
    "client_0=client(0)\n",
    "client_1=client(1)\n",
    "client_2=client(2)\n",
    "client_3=client(3)\n",
    "client_4=client(4)\n",
    "client_5=client(5)\n",
    "client_6=client(6)\n",
    "client_7=client(7)\n",
    "client_8=client(8)\n",
    "client_9=client(9)\n",
    "client_10=client(10)\n",
    "client_11=client(11)\n",
    "client_12=client(12)\n",
    "client_13=client(13)\n",
    "client_14=client(14)\n",
    "client_15=client(15)\n",
    "client_16=client(16)\n",
    "client_17=client(17)\n",
    "client_18=client(18)\n",
    "client_19=client(19)\n",
    "\n",
    "def distributeDataToClient(numOfClients,X_train,Y_train):\n",
    "    \n",
    "        for i in range (0,numOfClients):\n",
    "            np.random.seed(i*10)\n",
    "            numOfClasses = int(np.random.randint(4,10,1))\n",
    "            classList = np.random.randint(0,10,numOfClasses)\n",
    "            print(classList)\n",
    "            for k in range (0,numOfClasses):\n",
    "                classID = int(classList[k])\n",
    "                classIDLen = len(eval(\"id\"+str(classID)))\n",
    "                #print(classID,\":\",classIDLen)\n",
    "                numOfSamplesInClass= int(np.random.randint(200,1000,1))\n",
    "                #print(numOfSamplesInClass)\n",
    "                Y_data = np.empty([numOfSamplesInClass,])\n",
    "                X_data= np.empty([numOfSamplesInClass,784])\n",
    "                Y_data = np.random.choice(Y_train,numOfSamplesInClass,replace=False)\n",
    "                #print(Y_data)\n",
    "                for n in range(Y_data.size):\n",
    "                    X_data[n] = np.copy(X_train[n])\n",
    "\n",
    "            clientName = \"client_\"+str(i)\n",
    "            c_data = (X_data,Y_data)\n",
    "            eval(clientName).setClientData(X_data,Y_data)\n",
    "            print(X_data.shape,Y_data.shape)\n",
    "\n",
    "def distributeDataToServer(serverName,X_test,Y_test):\n",
    "    serverName.setServerTestData(X_test,Y_test)\n",
    "    \n",
    "distributeDataToClient(20,originalTrainX,originalTrainY)\n",
    "distributeDataToServer(serverFA,originalTestX,originalTestY)\n",
    "        "
   ]
  },
  {
   "cell_type": "code",
   "execution_count": null,
   "metadata": {},
   "outputs": [],
   "source": [
    "(\"client_\",1)"
   ]
  },
  {
   "cell_type": "code",
   "execution_count": null,
   "metadata": {},
   "outputs": [],
   "source": [
    "client_0.sendClientUpdate()"
   ]
  },
  {
   "cell_type": "code",
   "execution_count": null,
   "metadata": {},
   "outputs": [],
   "source": [
    "client_0.sendClientUpdate()"
   ]
  }
 ],
 "metadata": {
  "kernelspec": {
   "display_name": "Python 3.7 (tensorflow)",
   "language": "python",
   "name": "tensorflow"
  },
  "language_info": {
   "codemirror_mode": {
    "name": "ipython",
    "version": 3
   },
   "file_extension": ".py",
   "mimetype": "text/x-python",
   "name": "python",
   "nbconvert_exporter": "python",
   "pygments_lexer": "ipython3",
   "version": "3.7.9"
  }
 },
 "nbformat": 4,
 "nbformat_minor": 4
}
