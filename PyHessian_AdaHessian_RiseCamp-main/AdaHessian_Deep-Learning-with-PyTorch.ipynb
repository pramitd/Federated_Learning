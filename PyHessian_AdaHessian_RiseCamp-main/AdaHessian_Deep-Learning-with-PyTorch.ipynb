{
 "cells": [
  {
   "cell_type": "code",
   "execution_count": 1,
   "metadata": {},
   "outputs": [
    {
     "name": "stdout",
     "output_type": "stream",
     "text": [
      "Python 3.8.5\n"
     ]
    }
   ],
   "source": [
    "!python --version"
   ]
  },
  {
   "cell_type": "code",
   "execution_count": 2,
   "metadata": {},
   "outputs": [
    {
     "name": "stdout",
     "output_type": "stream",
     "text": [
      "/mnt/c/Users/amit/OneDrive/MU/Federated Learning with Mobile Edge Devices/pramitd/PyHessian_AdaHessian_RiseCamp-main\n"
     ]
    }
   ],
   "source": [
    "%%bash\n",
    "pwd"
   ]
  },
  {
   "cell_type": "code",
   "execution_count": 3,
   "metadata": {},
   "outputs": [
    {
     "name": "stdout",
     "output_type": "stream",
     "text": [
      "Requirement already satisfied: numpy in c:\\users\\amit\\appdata\\roaming\\python\\python38\\site-packages (1.18.5)\n"
     ]
    }
   ],
   "source": [
    "!pip install numpy"
   ]
  },
  {
   "cell_type": "code",
   "execution_count": 4,
   "metadata": {},
   "outputs": [
    {
     "name": "stdout",
     "output_type": "stream",
     "text": [
      "Requirement already satisfied: matplotlib in c:\\users\\amit\\anaconda3\\envs\\pysyft\\lib\\site-packages (3.3.2)\n",
      "Requirement already satisfied: pillow>=6.2.0 in c:\\users\\amit\\anaconda3\\envs\\pysyft\\lib\\site-packages (from matplotlib) (8.0.0)\n",
      "Requirement already satisfied: kiwisolver>=1.0.1 in c:\\users\\amit\\anaconda3\\envs\\pysyft\\lib\\site-packages (from matplotlib) (1.3.0)\n",
      "Requirement already satisfied: pyparsing!=2.0.4,!=2.1.2,!=2.1.6,>=2.0.3 in c:\\users\\amit\\anaconda3\\envs\\pysyft\\lib\\site-packages (from matplotlib) (2.4.7)\n",
      "Requirement already satisfied: cycler>=0.10 in c:\\users\\amit\\anaconda3\\envs\\pysyft\\lib\\site-packages (from matplotlib) (0.10.0)\n",
      "Requirement already satisfied: python-dateutil>=2.1 in c:\\users\\amit\\anaconda3\\envs\\pysyft\\lib\\site-packages (from matplotlib) (2.8.1)\n",
      "Requirement already satisfied: certifi>=2020.06.20 in c:\\users\\amit\\anaconda3\\envs\\pysyft\\lib\\site-packages (from matplotlib) (2020.6.20)\n",
      "Requirement already satisfied: numpy>=1.15 in c:\\users\\amit\\appdata\\roaming\\python\\python38\\site-packages (from matplotlib) (1.18.5)\n",
      "Requirement already satisfied: six in c:\\users\\amit\\anaconda3\\envs\\pysyft\\lib\\site-packages (from cycler>=0.10->matplotlib) (1.15.0)\n"
     ]
    }
   ],
   "source": [
    "!pip install matplotlib"
   ]
  },
  {
   "cell_type": "code",
   "execution_count": 5,
   "metadata": {},
   "outputs": [
    {
     "name": "stdout",
     "output_type": "stream",
     "text": [
      "nvcc: NVIDIA (R) Cuda compiler driver\n",
      "Copyright (c) 2005-2019 NVIDIA Corporation\n",
      "Built on Wed_Oct_23_19:32:27_Pacific_Daylight_Time_2019\n",
      "Cuda compilation tools, release 10.2, V10.2.89\n"
     ]
    }
   ],
   "source": [
    "!nvcc --version"
   ]
  },
  {
   "cell_type": "code",
   "execution_count": 6,
   "metadata": {},
   "outputs": [
    {
     "data": {
      "text/plain": [
       "True"
      ]
     },
     "execution_count": 6,
     "metadata": {},
     "output_type": "execute_result"
    }
   ],
   "source": [
    "import torch\n",
    "torch.cuda.is_available()"
   ]
  },
  {
   "cell_type": "code",
   "execution_count": 7,
   "metadata": {},
   "outputs": [
    {
     "data": {
      "text/plain": [
       "device(type='cuda', index=0)"
      ]
     },
     "execution_count": 7,
     "metadata": {},
     "output_type": "execute_result"
    }
   ],
   "source": [
    "device = torch.device('cuda:0' if torch.cuda.is_available() else 'cpu')\n",
    "device"
   ]
  },
  {
   "cell_type": "code",
   "execution_count": 8,
   "metadata": {},
   "outputs": [],
   "source": [
    "# Import necessary packages\n",
    "\n",
    "%matplotlib inline\n",
    "%config InlineBackend.figure_format = 'retina'\n",
    "\n",
    "import numpy as np\n",
    "#import torch\n",
    "\n",
    "import helper\n",
    "\n",
    "import matplotlib.pyplot as plt"
   ]
  },
  {
   "cell_type": "code",
   "execution_count": 9,
   "metadata": {},
   "outputs": [],
   "source": [
    "from torchvision import datasets, transforms\n",
    "\n",
    "# Define a transform to normalize the data\n",
    "transform = transforms.Compose([transforms.ToTensor(),\n",
    "                              transforms.Normalize((0.5,), (0.5,)),\n",
    "                              ])\n",
    "\n",
    "# Download and load the training data\n",
    "trainset = datasets.MNIST('/MNIST_data/', download=True, train=True, transform=transform)\n",
    "trainloader = torch.utils.data.DataLoader(trainset, batch_size=64, shuffle=True)\n",
    "\n",
    "# Download and load the test data\n",
    "testset = datasets.MNIST('/MNIST_data/', download=True, train=False, transform=transform)\n",
    "testloader = torch.utils.data.DataLoader(testset, batch_size=64, shuffle=True)"
   ]
  },
  {
   "cell_type": "code",
   "execution_count": 10,
   "metadata": {},
   "outputs": [
    {
     "name": "stdout",
     "output_type": "stream",
     "text": [
      "<class 'torch.Tensor'>\n",
      "torch.Size([64, 1, 28, 28])\n",
      "torch.Size([64])\n",
      "tensor([1, 5, 7, 3, 1, 5, 9, 5, 7, 0, 9, 6, 4, 1, 7, 3, 9, 2, 3, 4, 6, 9, 1, 4,\n",
      "        3, 9, 4, 6, 7, 6, 0, 3, 7, 9, 6, 1, 6, 7, 3, 5, 7, 9, 7, 4, 7, 1, 7, 1,\n",
      "        6, 5, 2, 7, 8, 4, 9, 9, 3, 1, 4, 2, 4, 5, 3, 6])\n"
     ]
    }
   ],
   "source": [
    "dataiter = iter(trainloader)\n",
    "images, labels = dataiter.next()\n",
    "print(type(images))\n",
    "print(images.shape)\n",
    "print(labels.shape)\n",
    "print(labels)"
   ]
  },
  {
   "cell_type": "code",
   "execution_count": 11,
   "metadata": {},
   "outputs": [
    {
     "data": {
      "image/png": "[encoded data removed]",
      "text/plain": [
       "<Figure size 432x288 with 1 Axes>"
      ]
     },
     "metadata": {
      "image/png": {
       "height": 248,
       "width": 251
      },
      "needs_background": "light"
     },
     "output_type": "display_data"
    }
   ],
   "source": [
    "plt.imshow(images[63].numpy().squeeze(), cmap='Greys_r');"
   ]
  },
  {
   "cell_type": "code",
   "execution_count": 12,
   "metadata": {},
   "outputs": [
    {
     "data": {
      "image/png": "[encoded data removed]",
      "text/plain": [
       "<Figure size 432x648 with 2 Axes>"
      ]
     },
     "metadata": {
      "image/png": {
       "height": 235,
       "width": 424
      },
      "needs_background": "light"
     },
     "output_type": "display_data"
    }
   ],
   "source": [
    "from torch import nn\n",
    "# Hyperparameters for our network\n",
    "input_size = 784\n",
    "hidden_sizes = [128, 64]\n",
    "output_size = 10\n",
    "\n",
    "# Build a feed-forward network\n",
    "model = nn.Sequential(nn.Linear(input_size, hidden_sizes[0]),\n",
    "                      nn.ReLU(),\n",
    "                      nn.Linear(hidden_sizes[0], hidden_sizes[1]),\n",
    "                      nn.ReLU(),\n",
    "                      nn.Linear(hidden_sizes[1], output_size),\n",
    "                      nn.LogSoftmax(dim=1))\n",
    "\n",
    "criterion = nn.NLLLoss()\n",
    "# Forward pass through the network and display output\n",
    "images, labels = next(iter(trainloader))\n",
    "images.resize_(images.shape[0], 1, 784)\n",
    "ps = torch.exp(model.forward(images[0,:]))\n",
    "helper.view_classify(images[0].view(1, 28, 28), ps)"
   ]
  },
  {
   "cell_type": "code",
   "execution_count": 13,
   "metadata": {},
   "outputs": [],
   "source": [
    "#from torch import optim\n",
    "#optimizer = optim.SGD(model.parameters(), lr = 0.01)\n",
    "\n",
    "from adahessian import AdaHessian\n",
    "optimizer = AdaHessian(model.parameters(), lr = 0.01)"
   ]
  },
  {
   "cell_type": "code",
   "execution_count": 14,
   "metadata": {},
   "outputs": [
    {
     "name": "stdout",
     "output_type": "stream",
     "text": [
      "Epoch: 1/5..  Training Loss: 0.532..  Test Loss: 0.308..  Test Accuracy: 0.911\n",
      "Epoch: 2/5..  Training Loss: 0.297..  Test Loss: 0.256..  Test Accuracy: 0.924\n",
      "Epoch: 3/5..  Training Loss: 0.240..  Test Loss: 0.214..  Test Accuracy: 0.937\n",
      "Epoch: 4/5..  Training Loss: 0.197..  Test Loss: 0.177..  Test Accuracy: 0.945\n",
      "Epoch: 5/5..  Training Loss: 0.166..  Test Loss: 0.148..  Test Accuracy: 0.955\n",
      "--- 98.29327154159546 seconds ---\n"
     ]
    }
   ],
   "source": [
    "import time\n",
    "start_time = time.time()\n",
    "model = model.to(device)\n",
    "epochs = 5\n",
    "steps = 0\n",
    "\n",
    "train_losses, test_losses = [], []\n",
    "for e in range(epochs):\n",
    "    running_loss = 0\n",
    "    for images, labels in trainloader:\n",
    "        images = images.to(device)\n",
    "        labels = labels.to(device)\n",
    "        optimizer.zero_grad()\n",
    "        images = images.view(images.shape[0], -1)\n",
    "        log_ps = model(images)\n",
    "        loss = criterion(log_ps, labels)\n",
    "        loss.backward(create_graph = True)\n",
    "        optimizer.step()\n",
    "        \n",
    "        running_loss += loss.item()\n",
    "        \n",
    "    else:\n",
    "        test_loss = 0\n",
    "        accuracy = 0\n",
    "        \n",
    "        # Turn off gradients for validation, saves memory and computations\n",
    "        with torch.no_grad():\n",
    "            for images, labels in testloader:\n",
    "                images = images.to(device)\n",
    "                labels = labels.to(device)\n",
    "                images = images.view(images.shape[0], -1)\n",
    "                log_ps = model(images)\n",
    "                test_loss += criterion(log_ps, labels)\n",
    "                \n",
    "                ps = torch.exp(log_ps)\n",
    "                top_p, top_class = ps.topk(1, dim=1)\n",
    "                equals = top_class == labels.view(*top_class.shape)\n",
    "                accuracy += torch.mean(equals.type(torch.FloatTensor))\n",
    "                \n",
    "        train_losses.append(running_loss/len(trainloader))\n",
    "        test_losses.append(test_loss/len(testloader))\n",
    "\n",
    "        print(\"Epoch: {}/{}.. \".format(e+1, epochs),\n",
    "              \"Training Loss: {:.3f}.. \".format(running_loss/len(trainloader)),\n",
    "              \"Test Loss: {:.3f}.. \".format(test_loss/len(testloader)),\n",
    "              \"Test Accuracy: {:.3f}\".format(accuracy/len(testloader)))\n",
    "print(\"--- %s seconds ---\" % (time.time() - start_time))"
   ]
  },
  {
   "cell_type": "code",
   "execution_count": 15,
   "metadata": {},
   "outputs": [
    {
     "data": {
      "image/png": "[encoded data removed]",
      "text/plain": [
       "<Figure size 432x648 with 2 Axes>"
      ]
     },
     "metadata": {
      "image/png": {
       "height": 235,
       "width": 424
      },
      "needs_background": "light"
     },
     "output_type": "display_data"
    }
   ],
   "source": [
    "# Test out your network!\n",
    "\n",
    "dataiter = iter(testloader)\n",
    "images, labels = dataiter.next()\n",
    "images = images.to(device)\n",
    "labels = labels.to(device)\n",
    "img = images[0]\n",
    "# Convert 2D image to 1D vector\n",
    "img = img.resize_(1, 784)\n",
    "\n",
    "# Calculate the class probabilities (softmax) for img\n",
    "# Turn off gradients to speed up this part\n",
    "with torch.no_grad():\n",
    "    logps = model(img)\n",
    "\n",
    "# Output of the network are log-probabilities, need to take exponential for probabilities\n",
    "ps = torch.exp(logps)\n",
    "ps = ps.cpu()\n",
    "# Plot the image and probabilities\n",
    "helper.view_classify(img.resize_(1, 28, 28).cpu(), ps)"
   ]
  },
  {
   "cell_type": "code",
   "execution_count": 16,
   "metadata": {},
   "outputs": [
    {
     "data": {
      "text/plain": [
       "<matplotlib.legend.Legend at 0x18205845c70>"
      ]
     },
     "execution_count": 16,
     "metadata": {},
     "output_type": "execute_result"
    },
    {
     "data": {
      "image/png": "[encoded data removed]",
      "text/plain": [
       "<Figure size 432x288 with 1 Axes>"
      ]
     },
     "metadata": {
      "image/png": {
       "height": 251,
       "width": 378
      },
      "needs_background": "light"
     },
     "output_type": "display_data"
    }
   ],
   "source": [
    "plt.plot(train_losses, label='Training loss')\n",
    "plt.plot(test_losses, label='Validation loss')\n",
    "plt.legend(frameon=False)"
   ]
  },
  {
   "cell_type": "code",
   "execution_count": 17,
   "metadata": {},
   "outputs": [
    {
     "name": "stdout",
     "output_type": "stream",
     "text": [
      "Our model: \n",
      "\n",
      " Sequential(\n",
      "  (0): Linear(in_features=784, out_features=128, bias=True)\n",
      "  (1): ReLU()\n",
      "  (2): Linear(in_features=128, out_features=64, bias=True)\n",
      "  (3): ReLU()\n",
      "  (4): Linear(in_features=64, out_features=10, bias=True)\n",
      "  (5): LogSoftmax()\n",
      ") \n",
      "\n",
      "The state dict keys: \n",
      "\n",
      " odict_keys(['0.weight', '0.bias', '2.weight', '2.bias', '4.weight', '4.bias'])\n"
     ]
    }
   ],
   "source": [
    "print(\"Our model: \\n\\n\", model, '\\n')\n",
    "print(\"The state dict keys: \\n\\n\", model.state_dict().keys())"
   ]
  },
  {
   "cell_type": "code",
   "execution_count": 18,
   "metadata": {},
   "outputs": [
    {
     "data": {
      "text/plain": [
       "Sequential(\n",
       "  (0): Linear(in_features=784, out_features=128, bias=True)\n",
       "  (1): ReLU()\n",
       "  (2): Linear(in_features=128, out_features=64, bias=True)\n",
       "  (3): ReLU()\n",
       "  (4): Linear(in_features=64, out_features=10, bias=True)\n",
       "  (5): LogSoftmax()\n",
       ")"
      ]
     },
     "execution_count": 18,
     "metadata": {},
     "output_type": "execute_result"
    }
   ],
   "source": [
    "model"
   ]
  },
  {
   "cell_type": "code",
   "execution_count": 19,
   "metadata": {},
   "outputs": [],
   "source": [
    "# Saving the model\n",
    "torch.save(model.state_dict(), 'checkpoint.pth')"
   ]
  },
  {
   "cell_type": "code",
   "execution_count": 20,
   "metadata": {},
   "outputs": [
    {
     "name": "stdout",
     "output_type": "stream",
     "text": [
      "odict_keys(['0.weight', '0.bias', '2.weight', '2.bias', '4.weight', '4.bias'])\n"
     ]
    }
   ],
   "source": [
    "state_dict = torch.load('checkpoint.pth')\n",
    "print(state_dict.keys())"
   ]
  },
  {
   "cell_type": "code",
   "execution_count": 21,
   "metadata": {},
   "outputs": [
    {
     "data": {
      "text/plain": [
       "<All keys matched successfully>"
      ]
     },
     "execution_count": 21,
     "metadata": {},
     "output_type": "execute_result"
    }
   ],
   "source": [
    "# Loading the trained model into the network\n",
    "model.load_state_dict(state_dict)"
   ]
  },
  {
   "cell_type": "code",
   "execution_count": 22,
   "metadata": {},
   "outputs": [
    {
     "data": {
      "image/png": "[encoded data removed]",
      "text/plain": [
       "<Figure size 432x648 with 2 Axes>"
      ]
     },
     "metadata": {
      "image/png": {
       "height": 235,
       "width": 424
      },
      "needs_background": "light"
     },
     "output_type": "display_data"
    }
   ],
   "source": [
    "# Test out your network!\n",
    "\n",
    "dataiter = iter(testloader)\n",
    "images, labels = dataiter.next()\n",
    "images = images.to(device)\n",
    "labels = labels.to(device)\n",
    "img = images[0]\n",
    "# Convert 2D image to 1D vector\n",
    "img = img.resize_(1, 784)\n",
    "\n",
    "# Calculate the class probabilities (softmax) for img\n",
    "# Turn off gradients to speed up this part\n",
    "with torch.no_grad():\n",
    "    logps = model(img)\n",
    "\n",
    "# Output of the network are log-probabilities, need to take exponential for probabilities\n",
    "ps = torch.exp(logps)\n",
    "ps = ps.cpu()\n",
    "# Plot the image and probabilities\n",
    "helper.view_classify(img.resize_(1, 28, 28).cpu(), ps)"
   ]
  },
  {
   "cell_type": "code",
   "execution_count": 23,
   "metadata": {},
   "outputs": [
    {
     "name": "stdout",
     "output_type": "stream",
     "text": [
      "Sequential(\n",
      "  (0): Linear(in_features=784, out_features=128, bias=True)\n",
      "  (1): ReLU()\n",
      "  (2): Linear(in_features=128, out_features=64, bias=True)\n",
      "  (3): ReLU()\n",
      "  (4): Linear(in_features=64, out_features=10, bias=True)\n",
      "  (5): LogSoftmax()\n",
      ")\n"
     ]
    }
   ],
   "source": [
    "print(model)"
   ]
  },
  {
   "cell_type": "code",
   "execution_count": 24,
   "metadata": {},
   "outputs": [],
   "source": [
    "params=[]\n",
    "for param in model.parameters():\n",
    "    params.append(param)"
   ]
  },
  {
   "cell_type": "code",
   "execution_count": 25,
   "metadata": {},
   "outputs": [
    {
     "data": {
      "text/plain": [
       "[Parameter containing:\n",
       " tensor([[-0.0207,  0.0363,  0.0302,  ...,  0.0166, -0.0202,  0.0265],\n",
       "         [-0.0115, -0.0128,  0.0238,  ...,  0.0134, -0.0053, -0.0111],\n",
       "         [ 0.0252,  0.0250,  0.0225,  ..., -0.0103,  0.0200, -0.0197],\n",
       "         ...,\n",
       "         [-0.0535, -0.0120,  0.0043,  ..., -0.0155, -0.0297, -0.0141],\n",
       "         [-0.0062,  0.0054, -0.0290,  ...,  0.0083,  0.0140,  0.0187],\n",
       "         [ 0.0370, -0.0211, -0.0129,  ...,  0.0274,  0.0319, -0.0066]],\n",
       "        device='cuda:0', requires_grad=True),\n",
       " Parameter containing:\n",
       " tensor([ 1.5229e-02,  3.0257e-02, -3.8846e-02, -2.7133e-02,  2.8496e-02,\n",
       "          1.1048e-02,  1.7161e-02, -1.5924e-02, -6.2381e-04, -1.1155e-01,\n",
       "          2.7961e-02,  5.9993e-04, -1.5113e-02,  8.6128e-03,  2.6665e-03,\n",
       "          2.6618e-02, -3.4123e-02,  6.6860e-03, -3.2012e-03,  3.5334e-02,\n",
       "         -2.5860e-02,  2.9812e-02, -3.2493e-03,  4.2419e-02,  2.4958e-02,\n",
       "         -1.0262e-02,  2.3261e-02,  9.1047e-05,  1.7508e-02,  3.1319e-02,\n",
       "         -1.9052e-02, -2.5050e-02, -9.5024e-03, -1.3165e-02, -1.1810e-02,\n",
       "         -1.4799e-02,  1.0178e-03,  3.2252e-02,  1.7523e-02,  3.5218e-03,\n",
       "          2.4088e-02,  2.7742e-02, -2.3033e-02, -2.6110e-02,  3.2700e-02,\n",
       "          1.2888e-03,  2.1646e-02, -7.9304e-03,  5.5289e-03,  1.9563e-02,\n",
       "         -6.9971e-04,  3.6882e-02, -1.2401e-02,  9.1406e-04,  1.9665e-02,\n",
       "          2.5403e-02,  1.7332e-02, -2.5189e-03,  2.2187e-02, -3.3385e-02,\n",
       "         -1.9330e-02,  7.1337e-03,  2.0889e-02,  2.9353e-02, -3.2019e-02,\n",
       "          1.1111e-02,  2.5018e-02,  4.5699e-03, -3.3208e-02,  1.5137e-03,\n",
       "         -2.1672e-02,  2.7362e-02, -3.9245e-04,  2.0098e-02,  1.7655e-02,\n",
       "         -3.9606e-02, -6.9556e-04,  1.4853e-02, -6.7798e-03, -2.5414e-03,\n",
       "          1.8981e-02,  4.4023e-02,  2.3432e-02, -1.5216e-02,  2.3176e-02,\n",
       "          1.8197e-02,  4.1694e-02,  2.1941e-02, -3.6956e-03, -1.2956e-02,\n",
       "          3.0311e-02, -2.0427e-02, -2.9913e-02, -1.8215e-02,  1.3766e-03,\n",
       "          2.8333e-02,  2.8833e-02,  2.6034e-02, -5.7342e-03, -1.9896e-02,\n",
       "          1.7810e-03,  3.1554e-02, -4.1863e-02,  3.2241e-02, -2.2134e-02,\n",
       "          5.1725e-03,  2.5978e-02,  2.2333e-02, -2.5705e-02, -6.5110e-03,\n",
       "         -2.7150e-02, -9.0132e-02,  6.3724e-03, -9.4751e-03, -2.7317e-02,\n",
       "          8.1111e-03, -1.9271e-02,  3.2250e-02,  3.4000e-02, -1.5444e-02,\n",
       "         -3.4626e-02,  7.5094e-03, -6.3866e-03,  2.4870e-02,  9.2122e-03,\n",
       "         -6.7884e-03, -1.9863e-02, -1.8481e-02], device='cuda:0',\n",
       "        requires_grad=True),\n",
       " Parameter containing:\n",
       " tensor([[ 0.0728,  0.0960,  0.0261,  ...,  0.0547, -0.0576,  0.0851],\n",
       "         [ 0.0052,  0.0513, -0.0015,  ...,  0.0319,  0.0224,  0.0295],\n",
       "         [ 0.0905, -0.0033, -0.0890,  ..., -0.0810,  0.1186,  0.0266],\n",
       "         ...,\n",
       "         [-0.0039,  0.0910,  0.0344,  ..., -0.0152,  0.0625,  0.1028],\n",
       "         [-0.0759,  0.0793, -0.1330,  ..., -0.0843, -0.0465, -0.0283],\n",
       "         [-0.0735,  0.0523, -0.0797,  ...,  0.0123,  0.0686,  0.0185]],\n",
       "        device='cuda:0', requires_grad=True),\n",
       " Parameter containing:\n",
       " tensor([ 0.0792, -0.0652, -0.0836,  0.0714, -0.0783, -0.0226,  0.0039,  0.0607,\n",
       "          0.0729, -0.0898,  0.0032,  0.0075, -0.0755,  0.0294,  0.0724, -0.0161,\n",
       "         -0.0133, -0.0758, -0.0505,  0.0772,  0.0796,  0.0274,  0.0867,  0.0258,\n",
       "          0.0611, -0.0601,  0.0400,  0.0666,  0.0549, -0.1724,  0.0410,  0.0490,\n",
       "         -0.0485,  0.0385, -0.0702, -0.0423, -0.0678,  0.0561, -0.0877, -0.0788,\n",
       "          0.0936,  0.0142,  0.0700,  0.0301, -0.0041, -0.0407,  0.0177,  0.0285,\n",
       "         -0.0392, -0.0787,  0.0854, -0.0722,  0.0859, -0.0897, -0.0013, -0.0605,\n",
       "         -0.0897,  0.0040,  0.0401, -0.0541,  0.0833,  0.0435, -0.0384,  0.0105],\n",
       "        device='cuda:0', requires_grad=True),\n",
       " Parameter containing:\n",
       " tensor([[ 2.3163e-02, -1.4228e-01, -8.3381e-02, -2.1251e-01,  5.4619e-02,\n",
       "           6.5380e-02,  7.0679e-02, -2.3785e-01, -1.5955e-01, -1.3376e-02,\n",
       "           1.2030e-01,  7.4953e-02,  3.9268e-03, -4.4382e-02,  8.1828e-02,\n",
       "          -1.5468e-01, -9.4309e-02, -4.2242e-02,  1.4371e-02, -1.0747e-01,\n",
       "          -1.5592e-01, -7.2700e-02,  1.3481e-01,  3.8844e-02,  1.2316e-01,\n",
       "          -1.0851e-02,  2.2766e-02,  1.5983e-01, -1.2248e-01,  1.7857e-02,\n",
       "           3.9874e-02, -1.4316e-01,  1.2738e-01,  8.6343e-02, -2.8575e-02,\n",
       "           1.7449e-01, -1.0256e-01, -1.8324e-01,  9.2699e-02,  1.5221e-02,\n",
       "          -1.6036e-02,  7.2319e-02,  2.3914e-02,  2.9960e-02, -1.6837e-01,\n",
       "           4.9398e-02,  3.7654e-02,  2.1038e-02, -6.7029e-02, -1.0168e-01,\n",
       "          -1.3671e-02,  6.1787e-02, -9.5993e-02,  3.4956e-02,  9.3724e-02,\n",
       "           2.5362e-02, -5.3720e-02, -1.6148e-01, -9.1047e-02,  1.0408e-01,\n",
       "           4.6390e-02, -1.2939e-01, -4.2100e-02,  3.0755e-02],\n",
       "         [ 7.4005e-02, -1.5690e-01,  1.2838e-01,  1.2107e-01,  4.6302e-04,\n",
       "          -1.9120e-01,  1.0670e-01,  1.7107e-01,  9.9322e-02,  8.4233e-03,\n",
       "          -2.1006e-01,  6.6689e-02, -9.1916e-02, -1.3623e-01,  2.9416e-03,\n",
       "          -1.3474e-01,  1.4021e-01,  1.0731e-01,  2.1652e-01, -1.7048e-02,\n",
       "          -6.9626e-03, -1.2018e-01,  1.4527e-01,  1.1811e-01,  3.9485e-02,\n",
       "           5.2262e-02,  1.3529e-01,  3.2875e-02, -2.1719e-02,  1.0213e-02,\n",
       "          -1.9331e-01, -6.3963e-02, -1.1123e-01, -1.5160e-01,  1.2662e-01,\n",
       "           4.4961e-02, -1.1491e-01,  1.3741e-01,  7.2261e-02, -1.1830e-01,\n",
       "          -1.4193e-01, -1.1248e-01, -2.1535e-02, -1.5651e-01, -4.7341e-03,\n",
       "           6.7452e-02, -1.4575e-02, -2.6602e-01,  2.0590e-02,  1.0631e-01,\n",
       "           1.0853e-01,  2.9893e-03, -1.4916e-01, -2.3226e-02, -2.1989e-01,\n",
       "          -1.0115e-01, -2.3601e-02,  7.4409e-02, -7.6192e-02,  1.2455e-01,\n",
       "          -1.0744e-01,  6.8659e-02,  7.0986e-02,  1.0025e-01],\n",
       "         [ 6.8644e-02, -2.4908e-02, -1.5738e-02,  5.3268e-02,  5.4771e-02,\n",
       "           4.9265e-02,  9.1665e-02,  1.8855e-01, -7.6598e-02, -4.8588e-02,\n",
       "           7.9452e-02, -8.0389e-02,  3.2481e-02, -1.5031e-01,  1.4297e-01,\n",
       "          -5.9989e-02,  2.7362e-01,  1.4098e-02, -4.0686e-02, -1.6847e-01,\n",
       "           3.0608e-01, -4.9728e-02, -1.1933e-01, -8.6727e-02,  4.3438e-02,\n",
       "           1.1878e-01,  5.1610e-02, -1.4263e-01,  6.9395e-02, -3.0453e-02,\n",
       "          -1.1471e-01, -1.0232e-01,  1.4025e-01,  8.4535e-02, -2.3146e-02,\n",
       "           1.8617e-01,  8.1131e-02, -1.8027e-02, -1.8301e-01,  7.9662e-02,\n",
       "           5.8583e-02,  1.5558e-01,  2.0990e-03,  7.6503e-02, -2.3945e-02,\n",
       "          -6.7213e-02, -1.9610e-01,  1.5593e-01, -1.4977e-01,  1.0249e-01,\n",
       "          -1.0025e-01, -1.4459e-01, -1.1563e-01, -6.2811e-02, -8.6208e-02,\n",
       "           8.2344e-02,  8.7491e-02, -7.0596e-02,  1.5316e-01,  8.2344e-02,\n",
       "           2.6397e-02,  1.0504e-01, -5.1637e-02,  6.6919e-02],\n",
       "         [-2.0902e-02, -1.3849e-01,  1.3994e-01, -2.0769e-01,  2.1236e-02,\n",
       "           1.4191e-01, -8.8620e-02,  1.5200e-01, -1.4427e-01,  3.9089e-02,\n",
       "          -1.9572e-01,  5.8954e-02,  5.9438e-02,  1.3751e-01,  4.9657e-02,\n",
       "          -6.8255e-02, -9.5116e-02,  1.1037e-02, -1.4923e-01, -7.6024e-02,\n",
       "          -9.7682e-02,  7.0413e-02,  2.8531e-03, -1.7538e-01,  1.4111e-01,\n",
       "          -1.5154e-01,  3.1115e-02,  1.5361e-02,  9.3293e-02,  7.6622e-02,\n",
       "           1.1515e-01,  5.5641e-02,  1.2060e-01,  7.3847e-02,  4.8902e-02,\n",
       "          -1.3482e-01, -6.6493e-02,  1.5008e-01, -1.0716e-01,  1.1307e-01,\n",
       "           1.3374e-01, -8.1089e-02, -1.0004e-01,  8.7672e-02,  1.0597e-01,\n",
       "           1.3016e-01,  3.8400e-02, -4.8329e-02,  5.3724e-02,  4.7629e-02,\n",
       "          -1.8876e-02, -1.0479e-01,  3.6619e-02,  1.1016e-01, -3.0434e-02,\n",
       "          -4.6261e-02, -5.2679e-02,  4.0435e-02, -4.5046e-02, -7.1208e-02,\n",
       "          -1.7958e-01, -9.3108e-03,  1.0771e-02,  9.4193e-02],\n",
       "         [ 6.6359e-02,  1.7251e-01, -3.8434e-02, -3.0765e-02,  1.0616e-01,\n",
       "          -1.3879e-01, -1.0448e-01, -3.5690e-02,  1.9430e-01,  1.1088e-01,\n",
       "           5.2609e-03,  2.2030e-02,  1.1984e-01,  8.1854e-03, -5.0691e-02,\n",
       "           1.2459e-01, -3.9759e-02, -2.8058e-04,  4.1444e-02, -1.0508e-01,\n",
       "          -1.3295e-01,  2.9702e-02, -2.0424e-02,  1.5888e-01, -1.1493e-02,\n",
       "          -7.3474e-02,  7.4684e-02,  2.0329e-02, -3.6728e-03,  7.1740e-02,\n",
       "          -1.3607e-01, -5.6180e-02, -1.7693e-01, -1.2916e-01, -1.0676e-01,\n",
       "           1.1946e-01,  1.3180e-02,  8.9711e-02,  1.1883e-01, -2.0640e-02,\n",
       "          -2.6990e-01,  5.4588e-02,  3.7133e-02,  1.6276e-01,  1.2479e-01,\n",
       "          -2.4108e-01,  1.8398e-02, -8.6986e-02,  5.8319e-03, -8.6598e-02,\n",
       "          -1.2155e-01, -1.3694e-01,  2.7246e-02,  2.7182e-02, -7.3242e-02,\n",
       "          -1.7083e-02, -9.2118e-02, -9.4189e-02,  1.3074e-01,  5.5368e-03,\n",
       "           1.6017e-01, -2.6608e-02,  3.7384e-02,  8.7518e-02],\n",
       "         [-1.2230e-01,  1.8379e-01,  1.3904e-01, -7.8773e-02, -8.3264e-02,\n",
       "           1.4438e-01,  1.1846e-01,  1.1176e-02,  5.7752e-03, -4.1136e-02,\n",
       "           7.4192e-02, -6.5628e-03, -5.0654e-02,  1.7246e-01,  6.4787e-02,\n",
       "          -1.3113e-02, -3.7633e-02, -1.0138e-01, -5.9072e-02,  1.3059e-01,\n",
       "          -1.6095e-02,  5.3203e-02, -1.4847e-01, -1.9073e-03,  6.3832e-02,\n",
       "           4.3331e-02, -1.6375e-02,  9.7655e-02, -2.4595e-01,  2.9344e-02,\n",
       "          -5.1956e-02,  1.7304e-01, -1.1687e-01,  1.1315e-01,  1.2644e-01,\n",
       "          -4.6352e-02, -8.7523e-03, -1.9663e-01, -9.4172e-02, -1.3743e-01,\n",
       "          -1.5095e-02, -2.4774e-01, -1.0422e-01,  1.4293e-01,  2.4646e-02,\n",
       "          -1.1642e-01,  1.4270e-01,  1.8557e-01, -1.3984e-01,  9.3333e-03,\n",
       "           3.5541e-02, -4.8476e-02, -1.7005e-01, -1.0855e-01, -9.6647e-02,\n",
       "          -1.0625e-02,  1.1961e-01,  3.8779e-02,  7.6796e-02, -1.0398e-02,\n",
       "          -1.8053e-01, -1.6413e-01,  4.0077e-02,  9.0486e-03],\n",
       "         [ 1.2715e-01,  1.3206e-01, -9.9476e-02, -1.2704e-01, -2.4109e-02,\n",
       "           5.2412e-02,  6.1649e-02,  7.9656e-02,  1.7102e-01, -6.0364e-02,\n",
       "           6.3507e-02,  1.0334e-01, -6.1462e-02,  9.5282e-02, -2.1539e-01,\n",
       "          -4.8558e-02, -2.1900e-01,  1.1977e-01,  2.9721e-03, -2.3358e-01,\n",
       "          -5.3667e-02, -5.7076e-02,  1.7690e-01, -4.5416e-02,  1.3697e-01,\n",
       "           9.7014e-02, -1.3491e-02, -7.3340e-02, -7.5105e-02,  5.6715e-02,\n",
       "          -1.7328e-02,  9.3463e-02,  7.5289e-02, -1.2338e-02, -2.3246e-01,\n",
       "           2.6078e-02, -3.4011e-02, -3.3083e-02, -1.6718e-01, -1.8959e-01,\n",
       "          -1.9581e-01,  6.1451e-02,  7.2028e-02, -4.2507e-02, -6.7554e-02,\n",
       "          -8.4817e-02, -6.7826e-04, -9.8286e-02,  5.7240e-02,  6.4130e-02,\n",
       "           1.2979e-01, -1.7255e-01, -2.6593e-01,  7.7444e-02,  1.1190e-01,\n",
       "           1.3894e-01,  8.1476e-03, -5.6476e-02,  8.5740e-02, -1.4681e-01,\n",
       "           9.3071e-02,  1.5963e-01,  1.0511e-01,  9.1139e-02],\n",
       "         [ 2.2548e-02,  8.5683e-03,  1.2615e-01, -6.1217e-02, -6.4746e-02,\n",
       "           6.1742e-02, -5.8437e-02,  5.2866e-03, -2.4199e-03,  1.1022e-01,\n",
       "           1.1082e-01, -1.1055e-01,  1.0526e-01, -5.0012e-02,  4.2809e-02,\n",
       "           1.0991e-01,  1.4595e-01, -5.7281e-03,  1.2970e-01,  1.4365e-01,\n",
       "           1.7633e-01,  5.0939e-03, -1.6037e-01, -1.6447e-01,  3.5930e-02,\n",
       "          -1.3056e-01,  2.1433e-01, -1.0512e-01,  7.5880e-02, -9.1714e-02,\n",
       "          -1.5043e-01, -3.3078e-01,  1.1585e-01, -1.5298e-01,  5.2233e-02,\n",
       "           1.7424e-01, -1.1898e-01,  1.5333e-01, -4.9227e-02, -3.0901e-02,\n",
       "          -7.5261e-02,  1.3427e-01, -1.1931e-01, -1.9384e-01,  5.7320e-02,\n",
       "           1.7615e-01, -7.1810e-03,  5.5019e-02,  6.5266e-02, -4.8454e-02,\n",
       "          -2.2131e-01,  1.6451e-01, -1.0689e-03,  6.7447e-02, -3.2859e-02,\n",
       "           4.9578e-02, -2.7548e-02, -5.8588e-02, -9.7315e-02, -4.2401e-02,\n",
       "           9.1533e-02, -6.0937e-02, -1.2231e-01,  6.1979e-02],\n",
       "         [-1.1415e-02,  2.9043e-02,  8.4919e-02,  7.5022e-02,  8.8586e-02,\n",
       "           1.1238e-01, -1.3573e-01,  1.0584e-01,  1.1704e-01, -3.5813e-02,\n",
       "           9.5462e-02, -4.4725e-02, -2.8221e-01, -1.4456e-01, -3.1681e-02,\n",
       "          -1.0457e-01,  2.0430e-02,  3.2566e-02, -1.3468e-01, -1.3447e-01,\n",
       "          -4.6160e-02,  1.0784e-01, -1.5726e-01,  1.5244e-01, -2.0372e-01,\n",
       "           1.0443e-01, -1.9926e-01, -1.0923e-01, -9.5519e-02, -1.2307e-01,\n",
       "           1.6145e-01,  1.4256e-01,  3.3880e-02, -1.0998e-01, -1.1009e-01,\n",
       "          -1.5267e-01,  2.6365e-02,  2.1242e-02,  8.7379e-02, -1.0007e-01,\n",
       "           8.2136e-02,  4.0576e-02,  3.9709e-02,  3.5088e-02, -4.2833e-02,\n",
       "           6.2791e-02,  1.2250e-01,  1.0085e-01,  1.6608e-01,  1.1836e-01,\n",
       "           1.3616e-01,  4.5506e-03, -5.4100e-02,  8.7544e-02, -4.0244e-02,\n",
       "          -9.8861e-02, -9.5141e-02,  3.6202e-02,  1.2221e-01,  4.7296e-02,\n",
       "           1.2463e-01, -2.2624e-02, -4.3993e-02, -1.3326e-02],\n",
       "         [-2.7949e-02, -8.8474e-02, -1.2929e-01, -1.0448e-02, -6.4638e-02,\n",
       "           1.3588e-01, -1.2989e-01, -1.4964e-01, -4.5636e-03, -7.1092e-02,\n",
       "           3.3395e-02,  8.8996e-02,  4.4038e-02,  4.2521e-03,  3.6047e-02,\n",
       "           7.5458e-02, -2.6095e-01, -4.8102e-02,  7.3615e-03,  1.7213e-01,\n",
       "          -1.5630e-01, -2.8026e-02,  2.9119e-03, -1.1999e-01, -8.5139e-02,\n",
       "           3.7035e-02, -1.8517e-01,  9.1362e-02,  3.1656e-02, -1.1819e-01,\n",
       "          -3.9004e-02, -1.3615e-02, -1.0072e-01,  5.7652e-02,  6.4477e-02,\n",
       "          -1.5517e-01, -6.0118e-02, -5.8562e-02, -5.8256e-02, -1.9253e-01,\n",
       "          -1.6923e-01,  1.6998e-01, -6.7658e-02,  1.0607e-01,  1.0495e-01,\n",
       "          -3.0690e-02, -1.5166e-02,  2.5821e-02,  6.0763e-02, -3.6516e-02,\n",
       "           8.9336e-02, -8.2855e-02,  1.4187e-01,  4.4804e-02, -1.7877e-01,\n",
       "          -1.8251e-01, -6.4307e-02, -1.4513e-01, -5.9540e-02, -8.6724e-02,\n",
       "           1.6632e-01,  3.5679e-02, -1.0921e-01,  2.4742e-02]], device='cuda:0',\n",
       "        requires_grad=True),\n",
       " Parameter containing:\n",
       " tensor([ 0.0190, -0.0715,  0.0593,  0.0909, -0.0957,  0.1163,  0.0187,  0.0110,\n",
       "         -0.0973, -0.0646], device='cuda:0', requires_grad=True)]"
      ]
     },
     "execution_count": 25,
     "metadata": {},
     "output_type": "execute_result"
    }
   ],
   "source": [
    "params"
   ]
  },
  {
   "cell_type": "code",
   "execution_count": null,
   "metadata": {},
   "outputs": [],
   "source": []
  }
 ],
 "metadata": {
  "kernelspec": {
   "display_name": "Python 3",
   "language": "python",
   "name": "python3"
  },
  "language_info": {
   "codemirror_mode": {
    "name": "ipython",
    "version": 3
   },
   "file_extension": ".py",
   "mimetype": "text/x-python",
   "name": "python",
   "nbconvert_exporter": "python",
   "pygments_lexer": "ipython3",
   "version": "3.8.5"
  }
 },
 "nbformat": 4,
 "nbformat_minor": 4
}
