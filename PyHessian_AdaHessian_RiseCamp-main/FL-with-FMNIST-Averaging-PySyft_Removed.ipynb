{
 "cells": [
  {
   "cell_type": "code",
   "execution_count": 1,
   "metadata": {},
   "outputs": [],
   "source": [
    "import torch\n",
    "import torch.nn as nn\n",
    "import torch.nn.functional as F\n",
    "import torch.optim as optim\n",
    "from torchvision import datasets, transforms\n",
    "from adahessian import AdaHessian"
   ]
  },
  {
   "cell_type": "code",
   "execution_count": 2,
   "metadata": {},
   "outputs": [],
   "source": [
    "import time"
   ]
  },
  {
   "cell_type": "code",
   "execution_count": 3,
   "metadata": {},
   "outputs": [],
   "source": [
    "epochs = 10\n",
    "class Arguments():\n",
    "    def __init__(self):\n",
    "        self.batch_size = 64\n",
    "        self.test_batch_size = 1000\n",
    "        self.epochs = epochs\n",
    "        self.lr = 0.01\n",
    "        self.momentum = 0.5\n",
    "        self.no_cuda = False\n",
    "        self.seed = 1\n",
    "        self.log_interval = 30\n",
    "        self.save_model = False\n",
    "\n",
    "args = Arguments()\n",
    "use_cuda = not args.no_cuda and torch.cuda.is_available()\n",
    "torch.manual_seed(args.seed)\n",
    "device = torch.device(\"cuda\" if use_cuda else \"cpu\")\n",
    "kwargs = {'num_workers': 1, 'pin_memory': True} if use_cuda else {}"
   ]
  },
  {
   "cell_type": "code",
   "execution_count": 4,
   "metadata": {},
   "outputs": [],
   "source": [
    "train_loader = torch.utils.data.DataLoader(\n",
    "    datasets.FashionMNIST('../data', train=True, download=True,\n",
    "                   transform=transforms.Compose([\n",
    "                       transforms.ToTensor(),\n",
    "                       transforms.Normalize((0.1307,), (0.3081,))\n",
    "                   ])),\n",
    "    batch_size=args.batch_size, shuffle=True, **kwargs)\n",
    "\n",
    "test_loader = torch.utils.data.DataLoader(\n",
    "    datasets.FashionMNIST('../data', train=False, transform=transforms.Compose([\n",
    "                       transforms.ToTensor(),\n",
    "                       transforms.Normalize((0.1307,), (0.3081,))\n",
    "                   ])),\n",
    "    batch_size=args.test_batch_size, shuffle=True, **kwargs)"
   ]
  },
  {
   "cell_type": "code",
   "execution_count": 5,
   "metadata": {},
   "outputs": [],
   "source": [
    "class Net(nn.Module):\n",
    "    def __init__(self):\n",
    "        super(Net, self).__init__()\n",
    "        self.conv1 = nn.Conv2d(1, 20, 5, 1)\n",
    "        self.conv2 = nn.Conv2d(20, 50, 5, 1)\n",
    "        self.fc1 = nn.Linear(4*4*50, 500)\n",
    "        self.fc2 = nn.Linear(500, 10)\n",
    "\n",
    "    def forward(self, x):\n",
    "        x = F.relu(self.conv1(x))\n",
    "        x = F.max_pool2d(x, 2, 2)\n",
    "        x = F.relu(self.conv2(x))\n",
    "        x = F.max_pool2d(x, 2, 2)\n",
    "        x = x.view(-1, 4*4*50)\n",
    "        x = F.relu(self.fc1(x))\n",
    "        x = self.fc2(x)\n",
    "        return F.log_softmax(x, dim=1)"
   ]
  },
  {
   "cell_type": "code",
   "execution_count": 6,
   "metadata": {},
   "outputs": [],
   "source": [
    "Network = Net().to(device)\n",
    "#Network = Net()"
   ]
  },
  {
   "cell_type": "code",
   "execution_count": 7,
   "metadata": {},
   "outputs": [],
   "source": [
    "Network.train()\n",
    "vw0_model = Network\n",
    "vw1_model = Network\n",
    "vw2_model = Network\n",
    "vw3_model = Network\n",
    "vw4_model = Network\n",
    "vw5_model = Network\n",
    "vw6_model = Network\n",
    "vw7_model = Network\n",
    "vw8_model = Network\n",
    "vw9_model = Network"
   ]
  },
  {
   "cell_type": "code",
   "execution_count": 8,
   "metadata": {},
   "outputs": [],
   "source": [
    "#vw0_optimizer = optim.SGD(vw0_model.parameters(), lr=args.lr)\n",
    "#vw1_optimizer = optim.SGD(vw1_model.parameters(), lr=args.lr)\n",
    "#vw2_optimizer = optim.SGD(vw2_model.parameters(), lr=args.lr)\n",
    "#vw3_optimizer = optim.SGD(vw3_model.parameters(), lr=args.lr)\n",
    "#vw4_optimizer = optim.SGD(vw4_model.parameters(), lr=args.lr)\n",
    "#vw5_optimizer = optim.SGD(vw5_model.parameters(), lr=args.lr)\n",
    "#vw6_optimizer = optim.SGD(vw6_model.parameters(), lr=args.lr)\n",
    "#vw7_optimizer = optim.SGD(vw7_model.parameters(), lr=args.lr)\n",
    "#vw8_optimizer = optim.SGD(vw8_model.parameters(), lr=args.lr)\n",
    "#vw9_optimizer = optim.SGD(vw9_model.parameters(), lr=args.lr)\n",
    "vw0_optimizer = AdaHessian(vw0_model.parameters(), lr=args.lr)\n",
    "vw1_optimizer = AdaHessian(vw1_model.parameters(), lr=args.lr)\n",
    "vw2_optimizer = AdaHessian(vw2_model.parameters(), lr=args.lr)\n",
    "vw3_optimizer = AdaHessian(vw3_model.parameters(), lr=args.lr)\n",
    "vw4_optimizer = AdaHessian(vw4_model.parameters(), lr=args.lr)\n",
    "vw5_optimizer = AdaHessian(vw5_model.parameters(), lr=args.lr)\n",
    "vw6_optimizer = AdaHessian(vw6_model.parameters(), lr=args.lr)\n",
    "vw7_optimizer = AdaHessian(vw7_model.parameters(), lr=args.lr)\n",
    "vw8_optimizer = AdaHessian(vw8_model.parameters(), lr=args.lr)\n",
    "vw9_optimizer = AdaHessian(vw9_model.parameters(), lr=args.lr)"
   ]
  },
  {
   "cell_type": "code",
   "execution_count": 9,
   "metadata": {},
   "outputs": [],
   "source": [
    "compute_nodes = [0]*10"
   ]
  },
  {
   "cell_type": "code",
   "execution_count": 10,
   "metadata": {},
   "outputs": [],
   "source": [
    "remote_dataset = (list(),list(),list(),list(),list(),list(),list(),list(),list(),list())\n",
    "\n",
    "for batch_idx, (data,target) in enumerate(train_loader):\n",
    "    data = data.to(device)\n",
    "    target = target.to(device)\n",
    "    remote_dataset[batch_idx % len(compute_nodes)].append((data, target))"
   ]
  },
  {
   "cell_type": "code",
   "execution_count": 11,
   "metadata": {},
   "outputs": [],
   "source": [
    "models = [vw0_model, vw1_model, vw2_model, vw3_model, vw4_model, vw5_model, vw6_model, vw7_model, vw8_model, vw9_model]\n",
    "params = [list(vw0_model.parameters()), list(vw1_model.parameters()), list(vw2_model.parameters()),\n",
    "          list(vw3_model.parameters()), list(vw4_model.parameters()), list(vw5_model.parameters()),\n",
    "          list(vw6_model.parameters()), list(vw7_model.parameters()), list(vw8_model.parameters()),\n",
    "          list(vw9_model.parameters())]\n",
    "\n",
    "optimizers = [vw0_optimizer, vw1_optimizer, vw2_optimizer, vw3_optimizer, vw4_optimizer, vw5_optimizer, vw6_optimizer,\n",
    "              vw7_optimizer, vw8_optimizer, vw9_optimizer]"
   ]
  },
  {
   "cell_type": "markdown",
   "metadata": {},
   "source": [
    "# Federated averaging"
   ]
  },
  {
   "cell_type": "code",
   "execution_count": 12,
   "metadata": {},
   "outputs": [],
   "source": [
    "def train(epoch, Network, averaging_steps):    \n",
    "    Network.train()\n",
    "    for data_index in range(len(remote_dataset[0])-1):        \n",
    "        for remote_index in range(len(compute_nodes)):\n",
    "            data, target = remote_dataset[remote_index][data_index]\n",
    "            models[remote_index] = Network\n",
    "            #optimizers[remote_index] = optim.SGD(models[remote_index].parameters(), lr=args.lr)\n",
    "            optimizers[remote_index] = AdaHessian(models[remote_index].parameters(), lr=args.lr)\n",
    "            for i in range(averaging_steps):\n",
    "                optimizers[remote_index].zero_grad()\n",
    "                pred = models[remote_index](data)\n",
    "                loss = F.nll_loss(pred, target)\n",
    "                loss.backward(create_graph = True)\n",
    "                optimizers[remote_index].step()\n",
    "        with torch.no_grad():\n",
    "            temp1, temp2, temp3, temp4, temp5, temp6, temp7, temp8 = 0, 0, 0, 0, 0, 0, 0, 0\n",
    "            for i in range(len(compute_nodes)):\n",
    "                temp1 += models[i].conv1.weight.data\n",
    "                temp2 += models[i].conv1.bias.data\n",
    "                temp3 += models[i].conv2.weight.data\n",
    "                temp4 += models[i].conv2.bias.data\n",
    "                temp5 += models[i].fc1.weight.data\n",
    "                temp6 += models[i].fc1.bias.data\n",
    "                temp7 += models[i].fc2.weight.data\n",
    "                temp8 += models[i].fc2.bias.data\n",
    "            Network.conv1.weight.set_(temp1/10)\n",
    "            Network.conv1.bias.set_(temp2/10)\n",
    "            Network.conv2.weight.set_(temp3/10)\n",
    "            Network.conv2.bias.set_(temp4/10)\n",
    "            Network.fc1.weight.set_(temp5/10)\n",
    "            Network.fc1.bias.set_(temp6/10)\n",
    "            Network.fc2.weight.set_(temp7/10)\n",
    "            Network.fc2.bias.set_(temp8/10)"
   ]
  },
  {
   "cell_type": "code",
   "execution_count": 13,
   "metadata": {},
   "outputs": [],
   "source": [
    "def test():\n",
    "    for i in range(1):\n",
    "        Network.eval()\n",
    "        test_loss = 0\n",
    "        correct = 0\n",
    "        for data, target in test_loader:\n",
    "            data, target = data.to(device), target.to(device)\n",
    "            output = Network(data)\n",
    "            test_loss += F.nll_loss(output, target, reduction='sum').item() # sum up batch loss\n",
    "            pred = output.argmax(1, keepdim=True) # get the index of the max log-probability\n",
    "            correct += pred.eq(target.view_as(pred)).sum().item()\n",
    "        test_loss /= len(test_loader.dataset)\n",
    "        print('\\nTest set: Average loss: {:.4f}, Accuracy: {}/{} ({:.0f}%)\\n'.format(\n",
    "            test_loss, correct, len(test_loader.dataset),\n",
    "            100. * correct / len(test_loader.dataset)))"
   ]
  },
  {
   "cell_type": "code",
   "execution_count": 14,
   "metadata": {},
   "outputs": [
    {
     "name": "stdout",
     "output_type": "stream",
     "text": [
      "Epoch 1\n",
      "\n",
      "Test set: Average loss: 0.6056, Accuracy: 8234/10000 (82%)\n",
      "\n",
      "Total 78.91 s\n",
      "Epoch 2\n",
      "\n",
      "Test set: Average loss: 0.6962, Accuracy: 8172/10000 (82%)\n",
      "\n",
      "Total 79.17 s\n",
      "Epoch 3\n",
      "\n",
      "Test set: Average loss: 4.0111, Accuracy: 6894/10000 (69%)\n",
      "\n",
      "Total 79.11 s\n",
      "Epoch 4\n",
      "\n",
      "Test set: Average loss: 47.2475, Accuracy: 5340/10000 (53%)\n",
      "\n",
      "Total 77.84 s\n",
      "Epoch 5\n",
      "\n",
      "Test set: Average loss: 969872.6016, Accuracy: 4107/10000 (41%)\n",
      "\n",
      "Total 78.7 s\n",
      "Epoch 6\n",
      "\n",
      "Test set: Average loss: 3675392.0000, Accuracy: 1000/10000 (10%)\n",
      "\n",
      "Total 79.4 s\n",
      "Epoch 7\n",
      "\n",
      "Test set: Average loss: 337267.2000, Accuracy: 1000/10000 (10%)\n",
      "\n",
      "Total 80.21 s\n",
      "Epoch 8\n",
      "\n",
      "Test set: Average loss: 70452.8000, Accuracy: 1000/10000 (10%)\n",
      "\n",
      "Total 79.4 s\n",
      "Epoch 9\n",
      "\n",
      "Test set: Average loss: 67236.0000, Accuracy: 1000/10000 (10%)\n",
      "\n",
      "Total 80.22 s\n",
      "Epoch 10\n",
      "\n",
      "Test set: Average loss: 3.7125, Accuracy: 1000/10000 (10%)\n",
      "\n",
      "Total 79.04 s\n"
     ]
    }
   ],
   "source": [
    "averaging_steps = 5\n",
    "for epoch in range(args.epochs):\n",
    "    t = time.time()\n",
    "    print(f\"Epoch {epoch + 1}\")\n",
    "    train(epoch, Network, averaging_steps)\n",
    "    test()\n",
    "    total_time = time.time() - t\n",
    "    print('Total', round(total_time, 2), 's')"
   ]
  },
  {
   "cell_type": "code",
   "execution_count": 15,
   "metadata": {},
   "outputs": [],
   "source": [
    "if (args.save_model):\n",
    "    torch.save(model.state_dict(), \"fmnist_cnn.pt\")"
   ]
  },
  {
   "cell_type": "code",
   "execution_count": 16,
   "metadata": {},
   "outputs": [
    {
     "data": {
      "text/plain": [
       "Net(\n",
       "  (conv1): Conv2d(1, 20, kernel_size=(5, 5), stride=(1, 1))\n",
       "  (conv2): Conv2d(20, 50, kernel_size=(5, 5), stride=(1, 1))\n",
       "  (fc1): Linear(in_features=800, out_features=500, bias=True)\n",
       "  (fc2): Linear(in_features=500, out_features=10, bias=True)\n",
       ")"
      ]
     },
     "execution_count": 16,
     "metadata": {},
     "output_type": "execute_result"
    }
   ],
   "source": [
    "Network"
   ]
  },
  {
   "cell_type": "code",
   "execution_count": 17,
   "metadata": {},
   "outputs": [
    {
     "data": {
      "text/plain": [
       "Parameter containing:\n",
       "tensor([[[[ 5.8732e-03, -3.9504e-02, -1.7870e-01, -7.4191e-02, -2.9214e-01],\n",
       "          [-1.3426e-01, -1.5700e-01, -8.3437e-03, -3.3417e-02, -1.6261e-01],\n",
       "          [-9.5939e-02, -1.0848e-01, -2.0675e-02, -2.5487e-01, -1.3515e-01],\n",
       "          [-7.1323e-02, -4.4504e-02, -8.0342e-02, -1.2718e-02, -1.0129e-01],\n",
       "          [-1.5874e-01, -1.3317e-01, -1.2187e-01, -2.9989e-01, -2.3970e-01]]],\n",
       "\n",
       "\n",
       "        [[[ 7.6431e-01,  6.7361e-01,  1.7797e-01,  6.1387e-01,  1.7025e+00],\n",
       "          [ 6.3950e-01,  2.8797e-01, -2.8400e-02,  1.2915e-01,  2.1766e-01],\n",
       "          [ 2.2663e-01,  2.6438e-01,  2.0695e-01,  6.2982e-01,  5.0779e-01],\n",
       "          [ 8.4172e-01,  6.6845e-02,  3.8272e-01,  6.9563e-01,  3.8017e-01],\n",
       "          [ 7.3347e-01,  2.6672e-01,  7.6156e-01,  9.9026e-01,  6.2184e-01]]],\n",
       "\n",
       "\n",
       "        [[[-8.2168e-01,  5.2884e-02,  4.9734e-01,  9.4060e-01,  4.9069e-01],\n",
       "          [-7.7437e-01, -6.3548e-02,  2.3213e-01,  7.2448e-01,  6.0773e-01],\n",
       "          [-8.3059e-01,  3.0314e-01,  2.2814e-02, -2.4166e-01,  1.9918e-01],\n",
       "          [ 5.7023e-02, -4.7141e-01, -1.3467e+00, -1.2856e+00, -1.0116e+00],\n",
       "          [ 5.9685e-02, -1.5274e+00, -2.4356e+00, -2.3053e+00, -2.1524e+00]]],\n",
       "\n",
       "\n",
       "        [[[-9.6371e-02,  6.1161e-02, -2.9457e-02, -1.3056e-01,  1.9882e-01],\n",
       "          [-2.6046e-01, -2.1556e-01, -6.4254e-02, -1.0415e-01, -3.3621e-03],\n",
       "          [-2.6543e-01, -1.7211e-01, -4.4050e-02, -1.4666e-01,  1.5693e-01],\n",
       "          [ 1.9529e-01, -1.9359e-01, -1.4377e-01,  1.2656e-01, -5.2985e-02],\n",
       "          [-1.6806e-02,  4.7258e-02, -1.5996e-02, -1.0674e-01, -4.9070e-01]]],\n",
       "\n",
       "\n",
       "        [[[ 8.8643e-02, -6.2984e-01, -3.4657e-01, -2.0265e-02, -5.4885e-01],\n",
       "          [-2.1921e-01, -8.9463e-02, -3.2932e-01, -6.5180e-02, -2.3904e-01],\n",
       "          [-2.0339e-01, -1.3760e-02,  2.1403e-01, -3.6082e-01, -3.7531e-01],\n",
       "          [ 2.4931e-01,  2.6133e-01,  3.7054e-01, -1.4043e-01, -3.3181e-01],\n",
       "          [ 3.9677e-02,  4.2993e-01,  1.9708e-01, -3.1921e-01, -1.7411e-01]]],\n",
       "\n",
       "\n",
       "        [[[-1.8971e-01, -2.0273e-01, -5.6573e-02,  9.1644e-02,  1.2699e-01],\n",
       "          [-2.6932e-01, -6.0440e-02,  7.7822e-02,  4.8587e-02,  1.7424e-02],\n",
       "          [ 1.2574e-03,  1.3551e-02, -1.9996e-02, -1.8204e-01, -1.9957e-01],\n",
       "          [-2.0981e-01, -1.0189e-01, -1.3870e-01,  7.7357e-02,  1.0231e-01],\n",
       "          [-2.0440e-01, -2.1877e-02,  5.0406e-02,  1.4490e-01,  2.0353e-01]]],\n",
       "\n",
       "\n",
       "        [[[-2.0665e+00, -1.4457e+00, -2.2520e-01,  6.5633e-01,  2.3764e-01],\n",
       "          [ 1.5082e-01, -1.5424e+00, -7.0714e-02,  1.3130e-01,  1.5489e-01],\n",
       "          [ 4.5091e-01, -4.2297e-01, -4.3403e-02, -2.3964e-01, -4.0637e-01],\n",
       "          [-5.0175e-01,  1.5574e+00, -3.6091e-01, -1.2868e+00, -9.1536e-01],\n",
       "          [-7.7027e-01,  9.1173e-01, -7.6112e-01, -1.2455e+00, -1.3487e+00]]],\n",
       "\n",
       "\n",
       "        [[[ 1.1913e-01,  2.4079e-02, -9.6058e-02, -2.5182e-01,  8.9656e-02],\n",
       "          [-1.2632e-02,  9.7168e-03, -2.0429e-01, -1.6483e-01, -2.2047e-01],\n",
       "          [ 2.1816e-01, -9.8531e-02, -9.1905e-02, -5.4053e-02, -2.2189e-01],\n",
       "          [-7.2628e-02, -1.4907e-01, -5.9842e-02,  3.8947e-03,  1.2221e-01],\n",
       "          [-1.4521e-01, -2.7155e-03,  3.5717e-02,  6.3334e-02, -1.6052e-01]]],\n",
       "\n",
       "\n",
       "        [[[ 1.0030e+00,  2.0804e-01, -4.0323e-01,  4.3767e-01,  6.5906e-01],\n",
       "          [ 7.3561e-01,  2.7093e-01, -1.2464e+00,  3.6440e-01,  3.2540e-01],\n",
       "          [ 7.8086e-01,  2.3685e-01, -1.5518e+00,  2.5832e-01,  3.7740e-01],\n",
       "          [ 7.9805e-01, -1.5174e-01, -1.3862e+00, -2.1111e-01,  8.2017e-01],\n",
       "          [ 3.2316e-01, -2.7617e-01, -1.3516e+00, -7.1237e-02,  1.1606e+00]]],\n",
       "\n",
       "\n",
       "        [[[-4.3478e-01, -1.5050e-01, -8.2924e-03,  5.1709e-02, -3.1919e-01],\n",
       "          [-3.4714e-01, -3.5571e-01,  5.3793e-02, -1.7016e-01, -5.6993e-01],\n",
       "          [-3.2662e-01, -3.5383e-01,  1.8479e-01, -5.0144e-02, -6.5307e-01],\n",
       "          [-3.0989e-01, -2.4390e-01,  1.3199e-01, -9.1096e-02, -3.9156e-01],\n",
       "          [-1.7426e-01, -5.5419e-01, -4.7092e-02, -1.7272e-01, -1.8125e-01]]],\n",
       "\n",
       "\n",
       "        [[[ 1.3057e+00,  2.0913e-01,  4.0832e-01,  7.8994e-02,  7.3767e-01],\n",
       "          [ 1.0347e+00,  4.2646e-01,  4.2395e-01,  6.1439e-02,  6.3125e-01],\n",
       "          [ 6.4198e-01,  2.9697e-01, -2.1201e-02,  2.1255e-01,  1.1216e-01],\n",
       "          [ 1.2841e-01,  4.7681e-01,  9.7477e-02, -3.3903e-02, -2.6453e-01],\n",
       "          [ 8.7351e-02,  4.6088e-01,  2.4102e-01, -8.3695e-02, -1.1626e-01]]],\n",
       "\n",
       "\n",
       "        [[[-1.0459e-01, -1.5250e-01, -1.3896e-01, -1.7823e-01,  7.0036e-03],\n",
       "          [-6.4233e-02,  6.5849e-02,  2.8743e-02, -5.6130e-02, -8.2028e-02],\n",
       "          [-1.2363e-01, -1.7165e-01,  3.2931e-02, -1.5743e-01,  2.2788e-02],\n",
       "          [-3.5193e-02, -1.3883e-01, -3.0204e-02, -1.0628e-02, -1.5806e-02],\n",
       "          [-1.2668e-01, -6.9960e-02, -3.2659e-03, -1.0736e-01, -1.3433e-01]]],\n",
       "\n",
       "\n",
       "        [[[-7.6557e-01,  2.6046e-01,  5.3481e-01, -1.4370e-01, -4.2125e-01],\n",
       "          [-1.4131e+00, -1.3426e-01,  1.4345e-01, -1.1681e-01,  2.5996e-01],\n",
       "          [-1.7937e+00, -3.3531e-01, -3.2832e-01,  2.5020e-01,  7.7937e-01],\n",
       "          [-1.8530e+00, -2.2818e-01, -1.9714e-01,  8.8451e-01,  9.5615e-01],\n",
       "          [-1.3045e+00, -2.0455e-02,  1.7694e-02,  7.9610e-01,  9.0118e-01]]],\n",
       "\n",
       "\n",
       "        [[[-7.2861e-02, -9.1535e-02,  4.2142e-02, -1.0531e-01, -4.5665e-02],\n",
       "          [ 1.1347e-01,  7.1640e-02,  1.2793e-01, -1.2039e-01, -4.4464e-03],\n",
       "          [-3.8302e-02, -1.3884e-01, -1.4200e-01, -6.5096e-03, -4.5192e-03],\n",
       "          [-1.5338e-01, -2.2819e-01, -2.5245e-01,  6.4462e-02, -8.7103e-02],\n",
       "          [-4.4557e-02, -1.3949e-01, -1.9045e-01, -2.6663e-01, -1.4729e-01]]],\n",
       "\n",
       "\n",
       "        [[[-2.0236e-01,  7.6810e-02, -6.7530e-03, -1.1855e-01, -4.1747e-01],\n",
       "          [-6.3506e-02,  5.7483e-01,  2.9319e-01,  2.0396e-01, -7.1372e-01],\n",
       "          [-2.3463e-01, -2.0687e-01, -9.9992e-02, -4.0731e-01, -9.7352e-01],\n",
       "          [-4.5960e-01, -5.8824e-01, -5.2708e-01, -6.1230e-01, -1.1502e+00],\n",
       "          [-8.8250e-01, -3.4273e-01,  3.4109e-01,  5.1494e-01,  8.2139e-01]]],\n",
       "\n",
       "\n",
       "        [[[ 1.1274e-02, -9.9849e-02,  1.4654e-01,  8.0674e-02,  4.2181e-03],\n",
       "          [-7.4053e-02, -1.9221e-01,  1.2686e-01, -6.9756e-02, -1.4327e-01],\n",
       "          [ 7.8205e-02,  2.6437e-02,  1.1454e-02, -6.5279e-02, -8.3194e-02],\n",
       "          [-1.4760e-02,  1.0642e-01, -1.6404e-02, -1.2658e-01,  1.8790e-01],\n",
       "          [-3.6938e-02,  1.1534e-01,  1.2016e-02,  1.5667e-01,  1.0441e-01]]],\n",
       "\n",
       "\n",
       "        [[[-1.1504e-01,  1.6124e-01,  6.2026e-03, -1.5425e-01, -4.4789e-02],\n",
       "          [-2.0317e-01, -8.2406e-02, -1.3043e-01,  1.3614e-01, -4.5554e-02],\n",
       "          [-4.0720e-02,  1.2678e-01,  1.0159e-01, -1.2578e-01,  7.0572e-02],\n",
       "          [ 8.0745e-02, -1.3003e-01,  1.9424e-01, -1.1499e-01, -8.6964e-02],\n",
       "          [-1.7012e-01,  2.0983e-01,  5.3954e-02,  1.7024e-01,  3.2800e-03]]],\n",
       "\n",
       "\n",
       "        [[[ 5.4602e-01, -7.2294e-01, -3.6475e-01,  1.0920e-01,  2.3726e-01],\n",
       "          [-3.3134e-01, -5.4187e-01, -1.2271e-01, -2.9865e-01, -3.3639e-01],\n",
       "          [-8.1887e-01,  5.7623e-01, -3.3739e-01, -6.2241e-01, -4.7732e-01],\n",
       "          [-5.4063e-01,  3.8671e-01, -5.1494e-01, -8.1706e-01, -1.0001e+00],\n",
       "          [-5.9471e-01, -6.5810e-01, -5.2900e-01, -1.5561e+00, -1.9206e+00]]],\n",
       "\n",
       "\n",
       "        [[[-1.5237e+00, -1.2719e+00, -1.0430e+00, -1.5991e+00, -1.1755e+00],\n",
       "          [-1.0417e+00, -1.2097e+00, -1.2592e+00, -1.4792e+00, -1.5413e+00],\n",
       "          [ 2.8607e-01, -3.6451e-01, -9.9969e-01, -1.3921e+00, -4.7609e-01],\n",
       "          [-1.0345e+00,  3.1756e-02, -3.0696e-01, -8.1580e-01,  4.9403e-01],\n",
       "          [-1.2394e+00, -7.6489e-01, -4.7073e-01, -7.1867e-01,  8.7242e-01]]],\n",
       "\n",
       "\n",
       "        [[[ 5.5983e-01,  1.3089e-01,  1.1538e+00, -1.9615e-01, -5.6919e-01],\n",
       "          [ 1.5145e-01,  5.9429e-01,  1.3463e+00, -5.8157e-01, -8.7971e-01],\n",
       "          [ 2.2918e-01,  7.2134e-01,  1.0184e+00, -5.8925e-01, -1.0561e+00],\n",
       "          [ 3.9285e-01,  8.2830e-01,  1.6944e-01, -5.7617e-01, -8.8909e-01],\n",
       "          [ 4.6118e-01,  6.9775e-01, -2.8667e-01, -2.7216e-01, -5.8031e-01]]]],\n",
       "       device='cuda:0', requires_grad=True)"
      ]
     },
     "execution_count": 17,
     "metadata": {},
     "output_type": "execute_result"
    }
   ],
   "source": [
    "Network.conv1.weight"
   ]
  },
  {
   "cell_type": "code",
   "execution_count": 18,
   "metadata": {},
   "outputs": [
    {
     "data": {
      "text/plain": [
       "Parameter containing:\n",
       "tensor([-2.5173e+01,  4.5732e-01, -2.6506e+00, -2.1839e+00,  4.3497e+00,\n",
       "        -1.0616e+01,  1.1441e-01, -2.0586e+00, -5.9740e+00, -3.4640e+00,\n",
       "         8.1539e+00, -1.2343e+00, -8.9784e-01, -3.3684e+00, -7.8274e+00,\n",
       "        -5.6764e+00, -7.3755e+00,  4.6262e+02, -8.1535e-01,  2.9767e+00],\n",
       "       device='cuda:0', requires_grad=True)"
      ]
     },
     "execution_count": 18,
     "metadata": {},
     "output_type": "execute_result"
    }
   ],
   "source": [
    "Network.conv1.bias"
   ]
  },
  {
   "cell_type": "code",
   "execution_count": 19,
   "metadata": {},
   "outputs": [
    {
     "data": {
      "text/plain": [
       "tensor([0., 0., 0., 0., 0., 0., 0., 0., 0., 0., 0., 0., 0., 0., 0., 0., 0., 0., 0., 0.],\n",
       "       device='cuda:0', grad_fn=<AddBackward0>)"
      ]
     },
     "execution_count": 19,
     "metadata": {},
     "output_type": "execute_result"
    }
   ],
   "source": [
    "Network.conv1.bias.grad"
   ]
  },
  {
   "cell_type": "code",
   "execution_count": null,
   "metadata": {},
   "outputs": [],
   "source": []
  }
 ],
 "metadata": {
  "kernelspec": {
   "display_name": "Python 3",
   "language": "python",
   "name": "python3"
  },
  "language_info": {
   "codemirror_mode": {
    "name": "ipython",
    "version": 3
   },
   "file_extension": ".py",
   "mimetype": "text/x-python",
   "name": "python",
   "nbconvert_exporter": "python",
   "pygments_lexer": "ipython3",
   "version": "3.8.5"
  }
 },
 "nbformat": 4,
 "nbformat_minor": 4
}
