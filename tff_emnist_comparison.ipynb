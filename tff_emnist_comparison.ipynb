{
 "cells": [
  {
   "cell_type": "code",
   "execution_count": 1,
   "metadata": {},
   "outputs": [],
   "source": [
    "# Initializations\n",
    "import numpy as np\n",
    "import tensorflow as tf\n",
    "import tensorflow_federated as tff\n",
    "from matplotlib import pyplot as plt\n",
    "import collections\n",
    "import nest_asyncio\n",
    "%reload_ext tensorboard\n",
    "nest_asyncio.apply()"
   ]
  },
  {
   "cell_type": "code",
   "execution_count": 3,
   "metadata": {},
   "outputs": [
    {
     "data": {
      "text/plain": [
       "OrderedDict([('label', TensorSpec(shape=(), dtype=tf.int32, name=None)),\n",
       "             ('pixels',\n",
       "              TensorSpec(shape=(28, 28), dtype=tf.float32, name=None))])"
      ]
     },
     "execution_count": 3,
     "metadata": {},
     "output_type": "execute_result"
    }
   ],
   "source": [
    "emnist_train, emnist_test = tff.simulation.datasets.emnist.load_data()\n",
    "emnist_train.element_type_structure"
   ]
  },
  {
   "cell_type": "code",
   "execution_count": 4,
   "metadata": {},
   "outputs": [],
   "source": [
    "NUM_CLIENTS = 10\n",
    "NUM_EPOCHS = 5\n",
    "BATCH_SIZE = 20\n",
    "SHUFFLE_BUFFER = 100\n",
    "PREFETCH_BUFFER= 10\n",
    "\n",
    "def preprocess(dataset):\n",
    "\n",
    "  def batch_format_fn(element):\n",
    "    \"\"\"Flatten a batch `pixels` and return the features as an `OrderedDict`.\"\"\"\n",
    "    return collections.OrderedDict(\n",
    "        x=tf.reshape(element['pixels'], [-1, 784]),\n",
    "        y=tf.reshape(element['label'], [-1, 1]))\n",
    "\n",
    "  return dataset.repeat(NUM_EPOCHS).shuffle(SHUFFLE_BUFFER).batch(\n",
    "      BATCH_SIZE).map(batch_format_fn).prefetch(PREFETCH_BUFFER)"
   ]
  },
  {
   "cell_type": "code",
   "execution_count": 5,
   "metadata": {},
   "outputs": [
    {
     "data": {
      "text/plain": [
       "OrderedDict([('x',\n",
       "              array([[1., 1., 1., ..., 1., 1., 1.],\n",
       "                     [1., 1., 1., ..., 1., 1., 1.],\n",
       "                     [1., 1., 1., ..., 1., 1., 1.],\n",
       "                     ...,\n",
       "                     [1., 1., 1., ..., 1., 1., 1.],\n",
       "                     [1., 1., 1., ..., 1., 1., 1.],\n",
       "                     [1., 1., 1., ..., 1., 1., 1.]], dtype=float32)),\n",
       "             ('y',\n",
       "              array([[3],\n",
       "                     [7],\n",
       "                     [6],\n",
       "                     [4],\n",
       "                     [7],\n",
       "                     [5],\n",
       "                     [7],\n",
       "                     [2],\n",
       "                     [1],\n",
       "                     [5],\n",
       "                     [4],\n",
       "                     [9],\n",
       "                     [9],\n",
       "                     [7],\n",
       "                     [9],\n",
       "                     [7],\n",
       "                     [4],\n",
       "                     [3],\n",
       "                     [0],\n",
       "                     [7]], dtype=int32))])"
      ]
     },
     "execution_count": 5,
     "metadata": {},
     "output_type": "execute_result"
    }
   ],
   "source": [
    "example_dataset = emnist_train.create_tf_dataset_for_client(\n",
    "    emnist_train.client_ids[0])\n",
    "preprocessed_example_dataset = preprocess(example_dataset)\n",
    "\n",
    "sample_batch = tf.nest.map_structure(lambda x: x.numpy(),\n",
    "                                     next(iter(preprocessed_example_dataset)))\n",
    "sample_batch"
   ]
  },
  {
   "cell_type": "code",
   "execution_count": 6,
   "metadata": {},
   "outputs": [],
   "source": [
    "def make_federated_data(client_data, client_ids):\n",
    "  return [\n",
    "      preprocess(client_data.create_tf_dataset_for_client(x))\n",
    "      for x in client_ids\n",
    "  ]"
   ]
  },
  {
   "cell_type": "code",
   "execution_count": 20,
   "metadata": {},
   "outputs": [
    {
     "name": "stdout",
     "output_type": "stream",
     "text": [
      "Number of client datasets: 100\n",
      "First dataset: <PrefetchDataset shapes: OrderedDict([(x, (None, 784)), (y, (None, 1))]), types: OrderedDict([(x, tf.float32), (y, tf.int32)])>\n"
     ]
    }
   ],
   "source": [
    "sample_clients = emnist_train.client_ids[0:100]    # <--- CHANGE This\n",
    "\n",
    "federated_train_data = make_federated_data(emnist_train, sample_clients)\n",
    "\n",
    "print('Number of client datasets: {l}'.format(l=len(federated_train_data)))\n",
    "print('First dataset: {d}'.format(d=federated_train_data[0]))"
   ]
  },
  {
   "cell_type": "code",
   "execution_count": 24,
   "metadata": {},
   "outputs": [
    {
     "name": "stdout",
     "output_type": "stream",
     "text": [
      "WARNING:tensorflow:9 out of the last 9 calls to <function zero_all_if_any_non_finite at 0x7fc32b033e60> triggered tf.function retracing. Tracing is expensive and the excessive number of tracings is likely due to passing python objects instead of tensors. Also, tf.function has experimental_relax_shapes=True option that relaxes argument shapes that can avoid unnecessary retracing. Please refer to https://www.tensorflow.org/tutorials/customization/performance#python_or_tensor_args and https://www.tensorflow.org/api_docs/python/tf/function for more details.\n"
     ]
    },
    {
     "name": "stderr",
     "output_type": "stream",
     "text": [
      "WARNING:tensorflow:9 out of the last 9 calls to <function zero_all_if_any_non_finite at 0x7fc32b033e60> triggered tf.function retracing. Tracing is expensive and the excessive number of tracings is likely due to passing python objects instead of tensors. Also, tf.function has experimental_relax_shapes=True option that relaxes argument shapes that can avoid unnecessary retracing. Please refer to https://www.tensorflow.org/tutorials/customization/performance#python_or_tensor_args and https://www.tensorflow.org/api_docs/python/tf/function for more details.\n"
     ]
    },
    {
     "name": "stdout",
     "output_type": "stream",
     "text": [
      "WARNING:tensorflow:10 out of the last 10 calls to <function zero_all_if_any_non_finite at 0x7fc32b033e60> triggered tf.function retracing. Tracing is expensive and the excessive number of tracings is likely due to passing python objects instead of tensors. Also, tf.function has experimental_relax_shapes=True option that relaxes argument shapes that can avoid unnecessary retracing. Please refer to https://www.tensorflow.org/tutorials/customization/performance#python_or_tensor_args and https://www.tensorflow.org/api_docs/python/tf/function for more details.\n"
     ]
    },
    {
     "name": "stderr",
     "output_type": "stream",
     "text": [
      "WARNING:tensorflow:10 out of the last 10 calls to <function zero_all_if_any_non_finite at 0x7fc32b033e60> triggered tf.function retracing. Tracing is expensive and the excessive number of tracings is likely due to passing python objects instead of tensors. Also, tf.function has experimental_relax_shapes=True option that relaxes argument shapes that can avoid unnecessary retracing. Please refer to https://www.tensorflow.org/tutorials/customization/performance#python_or_tensor_args and https://www.tensorflow.org/api_docs/python/tf/function for more details.\n"
     ]
    }
   ],
   "source": [
    "def create_keras_model():\n",
    "  return tf.keras.models.Sequential([\n",
    "      tf.keras.layers.Input(shape=(784,)),\n",
    "      tf.keras.layers.Dense(10, kernel_initializer='zeros'),\n",
    "      tf.keras.layers.Softmax(),\n",
    "  ])\n",
    "def model_fn():\n",
    "  # We _must_ create a new model here, and _not_ capture it from an external\n",
    "  # scope. TFF will call this within different graph contexts.\n",
    "  keras_model = create_keras_model()\n",
    "  return tff.learning.from_keras_model(\n",
    "      keras_model,\n",
    "      input_spec=preprocessed_example_dataset.element_spec,\n",
    "      loss=tf.keras.losses.SparseCategoricalCrossentropy(),\n",
    "      metrics=[tf.keras.metrics.SparseCategoricalAccuracy()])\n",
    "iterative_process = tff.learning.build_federated_averaging_process(\n",
    "    model_fn,\n",
    "    client_optimizer_fn=lambda: tf.keras.optimizers.SGD(learning_rate=0.02),\n",
    "    server_optimizer_fn=lambda: tf.keras.optimizers.SGD(learning_rate=1.0))"
   ]
  },
  {
   "cell_type": "code",
   "execution_count": 22,
   "metadata": {},
   "outputs": [],
   "source": [
    "NUM_ROUNDS=25   # <--- Change This :::  Numberof Rounds kept to 5 to save time \n",
    "logdir = \"/Users/pramitdutta/opt/TensorflowApps/federatedPD/logs/trainSGD_C100_R25/\"    # <--- CHANGE THIS C= Clients R= Rounds"
   ]
  },
  {
   "cell_type": "markdown",
   "metadata": {},
   "source": [
    "# The following is with a single set of Sample Clients"
   ]
  },
  {
   "cell_type": "code",
   "execution_count": 23,
   "metadata": {},
   "outputs": [
    {
     "name": "stdout",
     "output_type": "stream",
     "text": [
      "round  1, metrics=OrderedDict([('broadcast', ()), ('aggregation', ()), ('train', OrderedDict([('sparse_categorical_accuracy', 0.11836302), ('loss', 3.091023)]))])\n",
      "round  2, metrics=OrderedDict([('broadcast', ()), ('aggregation', ()), ('train', OrderedDict([('sparse_categorical_accuracy', 0.13341816), ('loss', 3.0021853)]))])\n",
      "round  3, metrics=OrderedDict([('broadcast', ()), ('aggregation', ()), ('train', OrderedDict([('sparse_categorical_accuracy', 0.15642494), ('loss', 2.862499)]))])\n",
      "round  4, metrics=OrderedDict([('broadcast', ()), ('aggregation', ()), ('train', OrderedDict([('sparse_categorical_accuracy', 0.17510602), ('loss', 2.724612)]))])\n",
      "round  5, metrics=OrderedDict([('broadcast', ()), ('aggregation', ()), ('train', OrderedDict([('sparse_categorical_accuracy', 0.19717981), ('loss', 2.6061547)]))])\n",
      "round  6, metrics=OrderedDict([('broadcast', ()), ('aggregation', ()), ('train', OrderedDict([('sparse_categorical_accuracy', 0.22126803), ('loss', 2.5220118)]))])\n",
      "round  7, metrics=OrderedDict([('broadcast', ()), ('aggregation', ()), ('train', OrderedDict([('sparse_categorical_accuracy', 0.23801951), ('loss', 2.4157507)]))])\n",
      "round  8, metrics=OrderedDict([('broadcast', ()), ('aggregation', ()), ('train', OrderedDict([('sparse_categorical_accuracy', 0.26605174), ('loss', 2.3206306)]))])\n",
      "round  9, metrics=OrderedDict([('broadcast', ()), ('aggregation', ()), ('train', OrderedDict([('sparse_categorical_accuracy', 0.28596267), ('loss', 2.2413805)]))])\n",
      "round 10, metrics=OrderedDict([('broadcast', ()), ('aggregation', ()), ('train', OrderedDict([('sparse_categorical_accuracy', 0.3124258), ('loss', 2.1220129)]))])\n",
      "round 11, metrics=OrderedDict([('broadcast', ()), ('aggregation', ()), ('train', OrderedDict([('sparse_categorical_accuracy', 0.33967346), ('loss', 2.0533664)]))])\n",
      "round 12, metrics=OrderedDict([('broadcast', ()), ('aggregation', ()), ('train', OrderedDict([('sparse_categorical_accuracy', 0.3566582), ('loss', 1.9711461)]))])\n",
      "round 13, metrics=OrderedDict([('broadcast', ()), ('aggregation', ()), ('train', OrderedDict([('sparse_categorical_accuracy', 0.38195506), ('loss', 1.8953918)]))])\n",
      "round 14, metrics=OrderedDict([('broadcast', ()), ('aggregation', ()), ('train', OrderedDict([('sparse_categorical_accuracy', 0.40409246), ('loss', 1.8329958)]))])\n",
      "round 15, metrics=OrderedDict([('broadcast', ()), ('aggregation', ()), ('train', OrderedDict([('sparse_categorical_accuracy', 0.42243427), ('loss', 1.7805341)]))])\n",
      "round 16, metrics=OrderedDict([('broadcast', ()), ('aggregation', ()), ('train', OrderedDict([('sparse_categorical_accuracy', 0.44605598), ('loss', 1.7209579)]))])\n",
      "round 17, metrics=OrderedDict([('broadcast', ()), ('aggregation', ()), ('train', OrderedDict([('sparse_categorical_accuracy', 0.4606022), ('loss', 1.6551862)]))])\n",
      "round 18, metrics=OrderedDict([('broadcast', ()), ('aggregation', ()), ('train', OrderedDict([('sparse_categorical_accuracy', 0.47678116), ('loss', 1.6244775)]))])\n",
      "round 19, metrics=OrderedDict([('broadcast', ()), ('aggregation', ()), ('train', OrderedDict([('sparse_categorical_accuracy', 0.49927905), ('loss', 1.5628334)]))])\n",
      "round 20, metrics=OrderedDict([('broadcast', ()), ('aggregation', ()), ('train', OrderedDict([('sparse_categorical_accuracy', 0.5216921), ('loss', 1.5085121)]))])\n",
      "round 21, metrics=OrderedDict([('broadcast', ()), ('aggregation', ()), ('train', OrderedDict([('sparse_categorical_accuracy', 0.5361747), ('loss', 1.463925)]))])\n",
      "round 22, metrics=OrderedDict([('broadcast', ()), ('aggregation', ()), ('train', OrderedDict([('sparse_categorical_accuracy', 0.5470314), ('loss', 1.4285886)]))])\n",
      "round 23, metrics=OrderedDict([('broadcast', ()), ('aggregation', ()), ('train', OrderedDict([('sparse_categorical_accuracy', 0.56999576), ('loss', 1.3811541)]))])\n",
      "round 24, metrics=OrderedDict([('broadcast', ()), ('aggregation', ()), ('train', OrderedDict([('sparse_categorical_accuracy', 0.5799406), ('loss', 1.3553307)]))])\n"
     ]
    }
   ],
   "source": [
    "#@test {\"skip\": true}\n",
    "summary_writer = tf.summary.create_file_writer(logdir)\n",
    "state = iterative_process.initialize()\n",
    "#@test {\"skip\": true}\n",
    "with summary_writer.as_default():\n",
    "    for round_num in range(1, NUM_ROUNDS):\n",
    "        state, metrics = iterative_process.next(state, federated_train_data)\n",
    "        print('round {:2d}, metrics={}'.format(round_num, metrics))\n",
    "        for name, value in metrics['train'].items():\n",
    "            tf.summary.scalar(name, value, step=round_num)"
   ]
  },
  {
   "cell_type": "markdown",
   "metadata": {},
   "source": [
    "# The following is with Random Set of Sample Clients\n"
   ]
  },
  {
   "cell_type": "code",
   "execution_count": 25,
   "metadata": {},
   "outputs": [
    {
     "name": "stdout",
     "output_type": "stream",
     "text": [
      "['f0577_19', 'f0533_32', 'f2326_83', 'f1608_37', 'f1064_32', 'f0284_34', 'f3699_41', 'f1121_47', 'f3209_08', 'f2165_54', 'f2175_59', 'f0509_28', 'f1160_23', 'f1668_08', 'f2289_62', 'f3718_40', 'f3476_46', 'f0913_31', 'f3597_18', 'f2438_76', 'f1269_14', 'f3529_11', 'f0871_23', 'f0933_38', 'f3164_09', 'f2546_62', 'f0452_37', 'f3115_25', 'f1358_13', 'f3454_44', 'f1476_39', 'f1631_40', 'f0924_33', 'f2582_70', 'f1018_07', 'f2163_51', 'f3492_35', 'f0804_00', 'f1784_17', 'f3543_29', 'f1489_03', 'f2365_62', 'f0952_49', 'f1433_36', 'f0740_43', 'f3909_46', 'f2432_94', 'f2216_66', 'f3383_24', 'f3944_02', 'f0291_06', 'f2025_00', 'f1787_36', 'f1190_46', 'f2391_85', 'f3758_19', 'f2285_54', 'f0918_47', 'f1838_49', 'f1707_05', 'f0985_44', 'f2363_77', 'f1767_34', 'f1643_46', 'f1869_07', 'f2448_94', 'f2103_60', 'f1429_14', 'f3496_38', 'f1514_35', 'f1486_35', 'f0981_17', 'f1371_21', 'f0678_26', 'f4089_12', 'f1751_08', 'f0764_08', 'f1204_09', 'f2533_94', 'f4029_29', 'f0719_05', 'f0953_15', 'f3201_07', 'f1965_23', 'f2439_77', 'f1853_42', 'f0492_08', 'f1099_37', 'f2497_54', 'f3502_45', 'f3513_47', 'f2230_67', 'f3283_17', 'f3257_17', 'f1730_21', 'f2407_74', 'f3352_39', 'f0107_06', 'f3962_36', 'f0234_16']\n",
      "round  1, metrics=OrderedDict([('broadcast', ()), ('aggregation', ()), ('train', OrderedDict([('sparse_categorical_accuracy', 0.119932145), ('loss', 3.0648746)]))])\n",
      "['f3477_45', 'f2163_51', 'f1560_15', 'f1563_24', 'f1820_17', 'f2101_62', 'f0674_44', 'f3284_38', 'f3425_47', 'f1284_38', 'f0888_25', 'f2329_94', 'f2129_55', 'f0747_24', 'f2450_56', 'f1650_05', 'f0039_14', 'f1050_39', 'f0054_14', 'f1852_35', 'f3347_47', 'f0734_39', 'f1661_05', 'f0704_31', 'f0502_09', 'f3891_31', 'f1885_29', 'f2062_39', 'f2008_26', 'f3499_36', 'f3418_34', 'f3754_42', 'f1359_45', 'f4060_46', 'f0643_23', 'f1336_30', 'f3572_03', 'f3133_33', 'f1603_40', 'f1749_23', 'f1557_00', 'f1646_33', 'f3161_02', 'f4084_14', 'f1928_20', 'f3488_35', 'f3706_37', 'f1804_32', 'f3450_19', 'f0277_33', 'f1780_04', 'f1771_46', 'f0161_16', 'f0935_28', 'f0998_45', 'f1947_49', 'f1791_04', 'f2349_78', 'f3576_04', 'f1409_25', 'f0835_08', 'f1168_30', 'f2529_70', 'f1643_46', 'f1046_14', 'f0989_33', 'f0641_22', 'f4056_41', 'f1524_26', 'f2409_51', 'f0970_15', 'f3523_31', 'f2293_68', 'f0288_48', 'f1833_03', 'f1887_23', 'f1996_12', 'f1623_09', 'f3967_43', 'f3622_43', 'f3529_11', 'f0094_41', 'f2525_62', 'f1684_08', 'f4011_12', 'f2377_66', 'f0721_31', 'f1585_06', 'f2180_96', 'f1669_41', 'f1798_42', 'f0624_32', 'f2268_88', 'f2453_70', 'f3159_16', 'f1059_15', 'f1817_18', 'f1691_07', 'f1230_10', 'f1035_22']\n",
      "round  2, metrics=OrderedDict([('broadcast', ()), ('aggregation', ()), ('train', OrderedDict([('sparse_categorical_accuracy', 0.13973707), ('loss', 2.9566374)]))])\n",
      "['f1291_26', 'f1864_10', 'f3538_29', 'f0657_41', 'f1924_29', 'f1825_06', 'f0129_32', 'f1503_02', 'f0860_21', 'f2486_95', 'f2015_08', 'f0602_16', 'f1364_24', 'f1144_47', 'f1443_09', 'f0145_33', 'f2276_91', 'f3725_39', 'f0830_45', 'f0741_44', 'f3654_03', 'f3306_39', 'f0412_26', 'f2178_93', 'f3287_41', 'f2485_77', 'f3148_21', 'f1288_23', 'f3707_32', 'f1275_19', 'f0952_49', 'f1740_04', 'f1259_08', 'f1587_05', 'f0911_02', 'f3548_40', 'f1255_13', 'f3672_20', 'f1395_14', 'f2136_68', 'f1426_27', 'f2481_58', 'f1955_30', 'f1353_42', 'f3152_47', 'f0615_00', 'f2473_81', 'f1346_08', 'f0286_16', 'f3890_40', 'f1769_04', 'f3852_32', 'f3870_03', 'f0837_08', 'f1848_43', 'f3274_27', 'f0748_15', 'f0970_15', 'f1713_02', 'f2590_60', 'f0732_46', 'f0492_08', 'f4073_38', 'f3742_12', 'f2327_90', 'f2459_55', 'f1349_00', 'f0712_09', 'f0766_01', 'f0473_21', 'f1439_27', 'f2487_92', 'f1082_22', 'f2332_97', 'f3419_33', 'f2302_58', 'f1256_05', 'f1829_17', 'f2322_80', 'f3556_19', 'f2532_93', 'f1206_36', 'f2032_22', 'f3613_20', 'f3520_45', 'f1477_37', 'f1635_40', 'f1693_00', 'f0918_47', 'f0771_13', 'f0624_32', 'f3928_39', 'f2009_39', 'f3570_15', 'f3795_00', 'f0967_29', 'f1516_46', 'f1421_27', 'f2370_67', 'f3912_15']\n",
      "round  3, metrics=OrderedDict([('broadcast', ()), ('aggregation', ()), ('train', OrderedDict([('sparse_categorical_accuracy', 0.15949957), ('loss', 2.8548648)]))])\n",
      "['f1452_02', 'f2562_90', 'f0810_40', 'f0989_33', 'f3542_00', 'f0601_32', 'f4030_29', 'f1659_04', 'f1172_25', 'f3894_37', 'f3919_18', 'f3471_02', 'f0690_26', 'f0656_11', 'f1115_26', 'f4037_48', 'f2067_38', 'f4090_35', 'f1363_19', 'f1783_34', 'f2569_58', 'f3669_35', 'f1306_03', 'f3747_12', 'f0850_30', 'f3891_31', 'f0565_03', 'f2142_69', 'f2527_72', 'f1820_17', 'f1494_41', 'f0427_40', 'f3454_44', 'f0548_49', 'f0841_10', 'f1040_01', 'f3964_40', 'f1660_07', 'f0421_33', 'f1679_05', 'f4065_47', 'f3309_37', 'f1446_25', 'f3820_39', 'f3170_08', 'f3937_40', 'f0075_46', 'f2450_56', 'f3360_00', 'f1422_18', 'f1161_00', 'f1873_22', 'f1916_32', 'f3299_12', 'f0054_14', 'f3869_23', 'f0638_07', 'f1652_11', 'f2429_95', 'f2298_74', 'f0960_13', 'f1584_28', 'f3962_36', 'f4073_38', 'f1493_36', 'f3205_40', 'f3635_09', 'f3786_04', 'f2355_85', 'f1381_00', 'f3133_33', 'f2116_72', 'f3583_09', 'f0023_08', 'f1458_19', 'f3284_38', 'f0609_12', 'f1610_32', 'f2032_22', 'f3615_49', 'f3617_43', 'f1506_35', 'f2024_20', 'f0556_25', 'f3123_42', 'f0107_06', 'f0120_29', 'f0352_09', 'f0701_21', 'f0718_13', 'f1706_39', 'f0796_08', 'f1883_03', 'f2566_51', 'f1430_10', 'f0633_18', 'f0035_19', 'f2320_75', 'f4031_33', 'f3742_12']\n",
      "round  4, metrics=OrderedDict([('broadcast', ()), ('aggregation', ()), ('train', OrderedDict([('sparse_categorical_accuracy', 0.18161577), ('loss', 2.7410626)]))])\n",
      "['f1431_47', 'f3115_25', 'f3966_01', 'f2404_70', 'f4074_12', 'f0262_15', 'f1438_26', 'f1762_28', 'f2587_73', 'f3602_12', 'f2155_59', 'f3188_47', 'f3363_42', 'f2325_86', 'f2599_91', 'f2232_76', 'f3699_41', 'f0764_08', 'f1492_06', 'f0751_28', 'f1860_06', 'f2056_40', 'f1130_48', 'f2230_67', 'f3180_41', 'f3614_06', 'f1778_11', 'f1159_29', 'f0847_06', 'f0521_14', 'f0547_28', 'f1062_28', 'f2250_52', 'f2019_34', 'f0790_06', 'f3755_33', 'f1667_29', 'f0873_42', 'f2136_68', 'f1562_13', 'f1799_27', 'f3227_14', 'f0203_21', 'f0454_20', 'f3405_07', 'f2202_76', 'f0915_03', 'f1753_34', 'f2463_79', 'f1103_38', 'f2503_57', 'f4054_12', 'f0833_32', 'f1948_41', 'f3609_24', 'f0811_49', 'f3899_30', 'f0846_32', 'f0431_36', 'f1465_32', 'f3830_48', 'f2564_59', 'f0971_24', 'f2407_74', 'f0382_03', 'f0602_16', 'f1087_32', 'f0214_05', 'f2500_50', 'f2158_68', 'f1473_30', 'f1155_22', 'f0968_30', 'f0717_46', 'f3330_43', 'f3933_30', 'f3624_44', 'f3553_12', 'f3892_07', 'f3340_15', 'f2321_84', 'f2459_55', 'f0272_13', 'f3260_09', 'f1377_09', 'f1099_37', 'f0023_08', 'f3398_06', 'f0991_47', 'f3487_02', 'f3326_06', 'f1225_06', 'f0691_00', 'f0947_41', 'f1673_32', 'f3171_30', 'f2399_85', 'f2137_90', 'f4066_22', 'f0541_47']\n",
      "round  5, metrics=OrderedDict([('broadcast', ()), ('aggregation', ()), ('train', OrderedDict([('sparse_categorical_accuracy', 0.20118745), ('loss', 2.6177409)]))])\n",
      "['f1131_00', 'f0936_34', 'f3945_00', 'f1333_48', 'f0275_17', 'f2312_87', 'f1349_00', 'f3675_24', 'f3211_20', 'f0665_47', 'f2035_49', 'f1154_00', 'f2254_72', 'f1023_49', 'f1731_34', 'f2525_62', 'f2211_73', 'f0952_49', 'f3348_00', 'f1399_06', 'f1509_45', 'f3182_40', 'f1602_35', 'f0871_23', 'f3118_09', 'f0796_08', 'f0942_17', 'f0686_09', 'f1597_45', 'f3278_33', 'f3237_27', 'f2318_78', 'f3206_45', 'f1191_18', 'f0200_38', 'f2363_77', 'f3163_24', 'f1489_03', 'f0782_49', 'f2436_53', 'f0792_07', 'f1666_45', 'f3811_12', 'f1963_27', 'f2344_86', 'f3271_09', 'f1976_25', 'f3252_32', 'f1035_22', 'f2320_75', 'f3475_09', 'f4099_10', 'f2054_13', 'f2379_68', 'f3975_15', 'f1249_33', 'f1379_47', 'f0787_21', 'f1651_06', 'f1424_45', 'f2472_83', 'f2063_00', 'f4073_38', 'f1899_19', 'f3171_30', 'f2480_61', 'f0948_01', 'f0893_25', 'f1543_08', 'f0612_11', 'f2278_93', 'f2446_88', 'f3105_03', 'f3935_48', 'f0874_26', 'f1712_10', 'f2117_54', 'f3672_20', 'f1649_03', 'f1583_41', 'f0301_33', 'f1290_49', 'f0916_49', 'f3373_36', 'f1868_06', 'f3121_43', 'f1312_23', 'f1595_34', 'f2484_76', 'f1929_04', 'f2324_84', 'f1475_14', 'f0589_20', 'f3701_44', 'f1289_06', 'f2179_58', 'f1395_14', 'f1636_00', 'f2168_66', 'f1445_31']\n",
      "round  6, metrics=OrderedDict([('broadcast', ()), ('aggregation', ()), ('train', OrderedDict([('sparse_categorical_accuracy', 0.22300678), ('loss', 2.5127642)]))])\n",
      "['f0209_30', 'f1863_44', 'f2439_77', 'f3411_09', 'f3618_26', 'f0831_15', 'f1083_27', 'f1243_07', 'f1965_23', 'f1864_10', 'f1415_37', 'f0611_34', 'f0286_16', 'f1445_31', 'f3669_35', 'f1326_12', 'f0363_43', 'f0644_19', 'f1492_06', 'f0780_06', 'f0522_38', 'f2038_08', 'f0929_23', 'f1469_25', 'f2539_96', 'f1215_02', 'f0154_34', 'f1741_16', 'f1071_37', 'f0409_49', 'f2441_83', 'f0588_19', 'f0867_28', 'f0918_47', 'f1785_07', 'f0501_06', 'f3822_47', 'f3525_29', 'f1092_01', 'f0999_29', 'f0341_00', 'f3307_33', 'f3508_31', 'f1690_24', 'f0534_00', 'f2509_53', 'f0680_28', 'f3112_45', 'f2505_79', 'f2386_82', 'f2229_88', 'f2055_31', 'f1959_39', 'f1520_07', 'f0978_05', 'f1324_40', 'f1633_35', 'f0481_47', 'f1708_22', 'f3383_24', 'f3597_18', 'f0388_26', 'f1794_07', 'f1937_04', 'f2303_66', 'f1167_31', 'f1256_05', 'f1535_20', 'f1128_24', 'f3320_18', 'f3757_19', 'f1942_21', 'f2580_69', 'f3477_45', 'f2319_77', 'f1855_37', 'f0309_42', 'f1228_30', 'f1775_42', 'f3522_46', 'f1247_15', 'f1209_31', 'f1518_07', 'f1710_15', 'f3335_15', 'f0241_46', 'f1652_11', 'f0846_32', 'f0459_12', 'f1869_07', 'f0171_26', 'f3399_09', 'f3326_06', 'f1699_42', 'f1463_23', 'f3575_04', 'f0527_23', 'f3145_38', 'f1570_40', 'f4084_14']\n"
     ]
    },
    {
     "name": "stdout",
     "output_type": "stream",
     "text": [
      "round  7, metrics=OrderedDict([('broadcast', ()), ('aggregation', ()), ('train', OrderedDict([('sparse_categorical_accuracy', 0.24270569), ('loss', 2.430144)]))])\n",
      "['f4013_32', 'f3484_17', 'f2506_77', 'f1962_12', 'f3761_12', 'f2102_52', 'f1749_23', 'f0591_27', 'f2074_03', 'f0629_39', 'f3332_19', 'f4017_11', 'f3162_20', 'f1688_24', 'f0446_03', 'f0625_26', 'f3414_29', 'f2112_65', 'f1987_47', 'f1836_34', 'f3357_06', 'f2152_98', 'f0729_08', 'f1358_13', 'f0122_45', 'f1284_38', 'f2414_89', 'f0522_38', 'f2218_51', 'f0479_35', 'f0308_10', 'f4082_29', 'f3720_15', 'f1946_25', 'f1945_00', 'f0243_29', 'f2257_69', 'f2559_95', 'f1659_04', 'f0397_27', 'f0275_17', 'f0821_44', 'f2282_53', 'f1938_21', 'f3166_12', 'f0663_30', 'f1008_28', 'f3845_39', 'f1590_15', 'f2358_71', 'f3980_34', 'f1810_02', 'f1879_44', 'f2227_89', 'f0676_08', 'f0797_22', 'f3670_40', 'f3101_07', 'f1396_07', 'f2144_67', 'f3982_48', 'f2547_96', 'f0582_44', 'f2456_71', 'f0613_28', 'f0355_32', 'f1614_22', 'f1222_04', 'f1353_42', 'f3286_40', 'f0454_20', 'f0347_04', 'f0741_44', 'f0428_41', 'f1922_38', 'f0381_28', 'f0988_45', 'f3435_24', 'f3807_11', 'f3642_03', 'f1340_02', 'f1287_40', 'f4091_23', 'f3701_44', 'f1208_33', 'f0822_30', 'f1416_00', 'f3115_25', 'f0429_13', 'f1669_41', 'f2402_75', 'f3273_45', 'f0856_23', 'f2169_69', 'f3457_40', 'f2564_59', 'f1025_22', 'f0224_06', 'f2215_69', 'f3468_13']\n",
      "round  8, metrics=OrderedDict([('broadcast', ()), ('aggregation', ()), ('train', OrderedDict([('sparse_categorical_accuracy', 0.26812977), ('loss', 2.3026032)]))])\n",
      "['f3377_11', 'f1246_39', 'f1022_17', 'f0681_47', 'f0736_38', 'f3877_11', 'f1378_08', 'f2507_78', 'f1919_17', 'f3281_27', 'f1476_39', 'f3517_27', 'f3359_42', 'f3169_14', 'f4029_29', 'f3547_04', 'f3554_18', 'f2382_52', 'f1365_16', 'f0347_04', 'f0713_17', 'f0000_14', 'f1399_06', 'f0788_34', 'f3793_06', 'f1840_35', 'f1868_06', 'f1075_00', 'f3442_00', 'f0164_32', 'f1552_32', 'f1394_16', 'f3512_31', 'f0536_45', 'f2290_64', 'f3260_09', 'f2335_52', 'f2151_92', 'f0381_28', 'f0959_27', 'f3406_49', 'f0989_33', 'f1942_21', 'f3318_25', 'f0248_43', 'f1515_36', 'f3640_13', 'f0514_14', 'f1222_04', 'f1918_04', 'f0607_27', 'f0581_30', 'f2404_70', 'f0758_07', 'f2562_90', 'f0823_19', 'f2496_56', 'f1774_40', 'f3764_37', 'f3355_36', 'f0422_45', 'f1475_14', 'f1443_09', 'f1467_22', 'f1491_42', 'f3336_15', 'f3417_01', 'f1373_33', 'f0613_28', 'f3233_02', 'f1943_00', 'f0819_13', 'f0022_10', 'f1594_09', 'f3435_24', 'f1237_18', 'f0903_42', 'f2513_56', 'f3393_08', 'f4012_13', 'f3705_48', 'f2104_50', 'f1569_23', 'f3995_18', 'f2208_81', 'f0364_10', 'f3606_19', 'f2328_92', 'f2334_99', 'f2250_52', 'f2355_85', 'f2294_71', 'f3460_47', 'f1058_32', 'f0697_31', 'f0276_07', 'f1361_36', 'f1319_00', 'f3900_35', 'f1698_35']\n",
      "round  9, metrics=OrderedDict([('broadcast', ()), ('aggregation', ()), ('train', OrderedDict([('sparse_categorical_accuracy', 0.29107293), ('loss', 2.2306454)]))])\n",
      "['f3467_12', 'f1550_34', 'f1344_45', 'f1487_45', 'f0655_10', 'f2252_75', 'f1843_09', 'f3146_14', 'f1010_11', 'f0159_14', 'f3263_08', 'f4070_43', 'f3740_01', 'f3210_22', 'f3790_48', 'f0676_08', 'f0034_08', 'f0280_20', 'f0656_11', 'f1115_26', 'f1854_17', 'f1143_43', 'f1274_24', 'f3670_40', 'f0698_45', 'f3497_42', 'f2209_79', 'f2111_87', 'f1893_26', 'f0721_31', 'f2173_74', 'f0769_14', 'f1410_19', 'f4083_30', 'f3637_45', 'f3949_09', 'f1171_06', 'f3220_48', 'f2225_86', 'f0759_41', 'f2160_96', 'f0776_08', 'f0102_31', 'f0017_07', 'f0694_49', 'f0320_41', 'f1699_42', 'f2115_77', 'f2029_03', 'f4002_46', 'f3942_06', 'f3619_19', 'f3377_11', 'f1435_38', 'f1767_34', 'f3887_39', 'f1714_49', 'f3774_21', 'f1887_23', 'f2004_29', 'f3669_35', 'f0712_09', 'f0150_25', 'f2175_59', 'f3410_19', 'f2053_20', 'f1946_25', 'f1405_35', 'f0133_23', 'f1378_08', 'f0500_38', 'f0452_37', 'f1832_47', 'f2293_68', 'f0576_01', 'f0814_03', 'f2233_79', 'f2459_55', 'f2451_68', 'f1689_07', 'f0214_05', 'f2413_87', 'f0999_29', 'f0096_45', 'f0940_45', 'f0481_47', 'f1181_27', 'f1000_45', 'f3412_27', 'f0865_24', 'f1658_04', 'f0506_18', 'f3753_43', 'f1049_26', 'f3919_18', 'f1388_41', 'f1082_22', 'f1672_35', 'f1517_35', 'f1806_29']\n",
      "round 10, metrics=OrderedDict([('broadcast', ()), ('aggregation', ()), ('train', OrderedDict([('sparse_categorical_accuracy', 0.31613657), ('loss', 2.1195877)]))])\n",
      "['f4034_28', 'f0237_46', 'f4072_44', 'f0855_46', 'f2587_73', 'f3923_00', 'f0956_32', 'f2285_54', 'f3231_19', 'f0397_27', 'f0157_12', 'f1077_48', 'f1674_35', 'f3930_25', 'f3261_00', 'f1922_38', 'f0652_30', 'f1537_32', 'f2018_05', 'f1299_42', 'f0144_05', 'f1552_32', 'f3108_34', 'f2423_88', 'f0834_03', 'f2484_76', 'f3374_38', 'f0964_10', 'f0733_34', 'f2336_99', 'f1316_31', 'f3473_21', 'f1909_43', 'f3178_23', 'f3825_12', 'f1463_23', 'f1319_00', 'f2340_80', 'f1380_34', 'f3976_36', 'f2254_72', 'f3723_03', 'f1623_09', 'f2188_71', 'f1273_29', 'f1800_08', 'f1803_09', 'f3943_12', 'f3740_01', 'f3652_48', 'f4010_12', 'f0639_24', 'f3327_11', 'f1698_35', 'f2100_97', 'f1607_17', 'f0520_25', 'f3624_44', 'f1811_11', 'f2554_55', 'f1296_02', 'f0302_47', 'f0865_24', 'f1824_18', 'f3282_28', 'f1912_13', 'f3130_44', 'f2244_94', 'f1234_26', 'f3214_03', 'f0262_15', 'f3400_08', 'f4080_22', 'f3167_45', 'f0928_42', 'f3940_26', 'f4012_13', 'f1804_32', 'f0771_13', 'f1251_10', 'f4050_05', 'f0949_02', 'f3951_47', 'f1945_00', 'f3323_10', 'f0845_22', 'f1049_26', 'f3307_33', 'f1699_42', 'f0376_05', 'f0384_36', 'f3667_35', 'f1412_36', 'f3439_44', 'f3645_14', 'f2232_76', 'f0995_43', 'f2503_57', 'f1875_21', 'f0628_05']\n",
      "round 11, metrics=OrderedDict([('broadcast', ()), ('aggregation', ()), ('train', OrderedDict([('sparse_categorical_accuracy', 0.33112806), ('loss', 2.0731514)]))])\n",
      "['f2084_07', 'f1143_43', 'f1046_14', 'f1814_24', 'f2421_86', 'f2527_72', 'f1451_24', 'f0932_44', 'f2373_53', 'f2359_72', 'f1488_27', 'f1144_47', 'f2289_62', 'f1278_22', 'f1844_38', 'f1400_25', 'f0498_06', 'f0609_12', 'f2265_80', 'f1754_35', 'f3724_32', 'f3624_44', 'f1674_35', 'f2306_63', 'f3207_05', 'f3900_35', 'f1359_45', 'f0614_14', 'f1260_34', 'f1541_40', 'f0762_20', 'f3625_17', 'f3490_39', 'f2397_92', 'f0945_28', 'f2025_00', 'f1020_31', 'f3585_49', 'f0167_33', 'f2442_81', 'f1467_22', 'f0108_12', 'f0481_47', 'f1620_12', 'f0297_05', 'f3854_08', 'f1494_41', 'f1068_20', 'f2146_84', 'f3476_46', 'f2119_56', 'f2166_63', 'f0922_02', 'f0856_23', 'f2336_99', 'f1076_12', 'f2214_70', 'f1230_10', 'f2596_86', 'f3180_41', 'f3633_29', 'f3733_48', 'f1975_00', 'f3381_42', 'f0685_40', 'f2545_52', 'f1416_00', 'f1384_42', 'f2088_14', 'f4059_48', 'f2599_91', 'f3759_43', 'f3512_31', 'f3295_35', 'f1713_02', 'f2550_79', 'f0171_26', 'f0860_21', 'f3535_09', 'f1611_08', 'f1595_34', 'f2587_73', 'f1378_08', 'f0324_42', 'f2031_31', 'f0334_01', 'f1920_09', 'f3482_33', 'f1142_44', 'f3930_25', 'f3234_23', 'f1670_20', 'f0975_48', 'f2157_61', 'f3410_19', 'f0879_35', 'f1124_24', 'f1838_49', 'f1065_10', 'f3412_27']\n",
      "round 12, metrics=OrderedDict([('broadcast', ()), ('aggregation', ()), ('train', OrderedDict([('sparse_categorical_accuracy', 0.35602206), ('loss', 1.9761513)]))])\n",
      "['f3185_38', 'f0968_30', 'f0255_48', 'f1886_18', 'f2180_96', 'f1364_24', 'f3439_44', 'f3237_27', 'f1858_21', 'f1130_48', 'f3224_05', 'f2498_75', 'f3710_43', 'f3840_05', 'f1776_35', 'f0197_34', 'f3187_33', 'f3369_37', 'f3161_02', 'f4047_15', 'f2361_74', 'f2580_69', 'f1056_11', 'f1697_45', 'f3135_37', 'f1150_03', 'f0008_45', 'f4097_41', 'f1413_14', 'f1997_00', 'f0456_45', 'f3631_34', 'f0781_31', 'f2085_02', 'f0499_10', 'f0066_37', 'f0621_33', 'f3902_40', 'f0544_05', 'f1619_37', 'f0083_09', 'f3979_36', 'f0397_27', 'f0159_14', 'f3794_17', 'f0269_21', 'f0037_16', 'f3614_06', 'f1804_32', 'f3385_08', 'f1333_48', 'f2228_87', 'f3982_48', 'f0582_44', 'f1012_30', 'f0115_34', 'f1358_13', 'f2257_69', 'f1458_19', 'f4078_05', 'f1843_09', 'f1228_30', 'f0897_19', 'f0611_34', 'f0554_17', 'f0862_25', 'f3898_28', 'f2547_96', 'f2006_31', 'f1430_10', 'f2341_65', 'f1613_27', 'f3587_27', 'f3967_43', 'f0801_25', 'f3404_40', 'f1264_37', 'f0230_04', 'f2166_63', 'f1405_35', 'f3197_34', 'f2497_54', 'f2503_57', 'f0144_05', 'f2434_59', 'f3653_40', 'f1373_33', 'f3946_04', 'f3616_07', 'f2073_06', 'f1066_29', 'f2210_96', 'f3778_23', 'f3424_24', 'f3265_08', 'f1486_35', 'f1286_47', 'f2039_13', 'f4062_17', 'f2083_33']\n",
      "round 13, metrics=OrderedDict([('broadcast', ()), ('aggregation', ()), ('train', OrderedDict([('sparse_categorical_accuracy', 0.38087362), ('loss', 1.9056243)]))])\n",
      "['f2387_81', 'f3297_22', 'f0120_29', 'f2285_54', 'f0783_27', 'f3129_16', 'f0601_32', 'f1476_39', 'f1394_16', 'f1838_49', 'f1065_10', 'f0082_40', 'f3463_16', 'f3810_05', 'f1429_14', 'f3341_29', 'f1053_00', 'f0520_25', 'f0624_32', 'f3921_41', 'f0915_03', 'f0309_42', 'f0150_25', 'f3381_42', 'f3173_48', 'f1097_20', 'f1564_43', 'f0613_28', 'f3380_04', 'f1581_39', 'f2396_91', 'f3638_42', 'f0196_10', 'f0617_30', 'f3859_23', 'f1133_00', 'f2386_82', 'f0751_28', 'f3236_26', 'f0447_21', 'f2366_64', 'f0750_18', 'f3899_30', 'f3682_45', 'f0041_30', 'f0796_08', 'f3303_31', 'f3323_10', 'f3874_15', 'f0363_43', 'f0634_01', 'f1840_35', 'f1277_02', 'f0538_03', 'f0253_40', 'f4000_40', 'f0911_02', 'f0758_07', 'f1172_25', 'f2376_57', 'f0077_13', 'f1852_35', 'f2340_80', 'f3645_14', 'f1113_16', 'f1763_25', 'f1631_40', 'f0573_31', 'f2269_89', 'f2452_69', 'f3289_18', 'f3860_20', 'f0388_26', 'f0798_05', 'f0030_12', 'f3557_12', 'f0939_32', 'f0612_11', 'f0325_17', 'f3853_22', 'f3795_00', 'f1362_31', 'f1496_39', 'f3703_10', 'f3574_30', 'f3319_48', 'f3722_39', 'f0420_19', 'f2438_76', 'f2135_53', 'f3235_00', 'f1853_42', 'f1017_30', 'f2189_50', 'f2052_11', 'f3580_22', 'f1871_04', 'f1694_17', 'f2481_58', 'f1622_16']\n"
     ]
    },
    {
     "name": "stdout",
     "output_type": "stream",
     "text": [
      "round 14, metrics=OrderedDict([('broadcast', ()), ('aggregation', ()), ('train', OrderedDict([('sparse_categorical_accuracy', 0.3991306), ('loss', 1.846223)]))])\n",
      "['f3988_14', 'f3347_47', 'f4044_44', 'f4033_05', 'f1547_06', 'f0301_33', 'f3404_40', 'f3225_26', 'f3728_28', 'f0784_30', 'f1788_32', 'f1378_08', 'f0702_46', 'f1776_35', 'f1546_05', 'f0481_47', 'f1877_30', 'f3438_08', 'f3757_19', 'f0267_24', 'f3916_23', 'f3271_09', 'f4084_14', 'f1952_17', 'f2354_87', 'f3502_45', 'f1117_18', 'f3307_33', 'f3292_31', 'f1631_40', 'f0558_01', 'f1870_30', 'f1687_40', 'f2039_13', 'f2174_61', 'f0909_04', 'f1481_35', 'f0508_20', 'f0087_24', 'f0477_46', 'f3640_13', 'f3629_19', 'f0892_23', 'f0701_21', 'f1794_07', 'f1007_22', 'f0996_01', 'f1513_07', 'f2086_25', 'f3235_00', 'f2433_75', 'f1217_02', 'f0176_30', 'f1747_44', 'f0905_43', 'f3712_14', 'f2382_52', 'f1436_39', 'f2110_56', 'f2056_40', 'f2451_68', 'f3958_42', 'f0971_24', 'f1972_15', 'f1377_09', 'f0452_37', 'f1568_21', 'f1595_34', 'f0359_05', 'f3254_32', 'f2198_58', 'f1270_28', 'f3972_19', 'f0676_08', 'f3810_05', 'f3955_03', 'f3843_30', 'f0980_43', 'f0872_30', 'f0664_26', 'f0927_44', 'f1156_23', 'f3936_41', 'f2540_95', 'f1066_29', 'f0761_10', 'f4083_30', 'f3913_01', 'f1903_48', 'f0634_01', 'f2316_50', 'f3244_38', 'f3181_10', 'f1521_17', 'f0952_49', 'f1565_04', 'f3138_46', 'f2434_59', 'f3370_37', 'f0709_40']\n",
      "round 15, metrics=OrderedDict([('broadcast', ()), ('aggregation', ()), ('train', OrderedDict([('sparse_categorical_accuracy', 0.41942325), ('loss', 1.7869719)]))])\n",
      "['f1765_33', 'f1396_07', 'f3319_48', 'f3793_06', 'f1234_26', 'f0663_30', 'f3986_31', 'f1978_04', 'f2288_58', 'f2210_96', 'f0471_15', 'f0347_04', 'f1583_41', 'f2415_79', 'f0986_02', 'f1789_37', 'f0011_13', 'f0473_21', 'f3621_14', 'f1121_47', 'f1406_38', 'f0825_23', 'f2232_76', 'f3267_41', 'f4066_22', 'f2164_60', 'f2274_95', 'f2588_72', 'f2060_18', 'f0551_15', 'f1359_45', 'f0633_18', 'f1510_28', 'f1831_15', 'f2569_58', 'f2568_54', 'f3147_41', 'f2480_61', 'f2259_68', 'f2376_57', 'f0925_21', 'f1063_36', 'f2434_59', 'f2004_29', 'f1804_32', 'f0297_05', 'f1988_11', 'f3261_00', 'f0341_00', 'f1547_06', 'f1779_01', 'f0822_30', 'f3179_39', 'f1529_23', 'f0834_03', 'f0276_07', 'f0115_34', 'f1887_23', 'f2513_56', 'f3953_28', 'f1343_32', 'f2574_64', 'f3697_32', 'f3461_23', 'f1729_47', 'f3349_22', 'f0239_15', 'f3486_00', 'f3369_37', 'f3183_15', 'f1208_33', 'f0637_21', 'f0840_37', 'f2241_88', 'f3951_33', 'f0097_05', 'f1621_46', 'f0504_29', 'f1543_08', 'f0288_48', 'f3849_21', 'f1291_26', 'f2540_95', 'f1991_47', 'f3977_39', 'f0344_25', 'f3584_47', 'f0102_31', 'f3180_41', 'f2532_93', 'f1922_38', 'f2323_81', 'f2177_57', 'f0309_42', 'f3142_38', 'f0158_20', 'f0511_03', 'f2008_26', 'f0672_28', 'f1268_12']\n",
      "round 16, metrics=OrderedDict([('broadcast', ()), ('aggregation', ()), ('train', OrderedDict([('sparse_categorical_accuracy', 0.43583545), ('loss', 1.711096)]))])\n",
      "['f3415_33', 'f3731_07', 'f4055_44', 'f3342_24', 'f0588_19', 'f3808_45', 'f1555_23', 'f1053_00', 'f1466_48', 'f3737_46', 'f0771_13', 'f1625_05', 'f3563_46', 'f2293_68', 'f3406_49', 'f0252_30', 'f3749_27', 'f1163_43', 'f3258_46', 'f2291_65', 'f0525_15', 'f0158_20', 'f0835_08', 'f0277_33', 'f0545_49', 'f2188_71', 'f1125_41', 'f1534_32', 'f0705_35', 'f1263_18', 'f0516_45', 'f0846_32', 'f4012_13', 'f0125_02', 'f0989_33', 'f3567_49', 'f2084_07', 'f2140_77', 'f0474_10', 'f3544_20', 'f1027_05', 'f1320_38', 'f0877_17', 'f2132_69', 'f1914_02', 'f3792_21', 'f3280_34', 'f1665_00', 'f0753_05', 'f0532_09', 'f3847_24', 'f3357_06', 'f0974_14', 'f0376_05', 'f2076_31', 'f1762_28', 'f3488_35', 'f2249_75', 'f0827_09', 'f0006_12', 'f1734_48', 'f1800_08', 'f0461_47', 'f3195_04', 'f3217_28', 'f1790_11', 'f0658_30', 'f3941_08', 'f1872_07', 'f3348_00', 'f1114_07', 'f0285_23', 'f3390_07', 'f3370_37', 'f1120_05', 'f3924_24', 'f3931_13', 'f2224_82', 'f2251_74', 'f1735_22', 'f1981_44', 'f3637_45', 'f0001_41', 'f0442_00', 'f3797_07', 'f3201_07', 'f3831_41', 'f2195_64', 'f0579_26', 'f1007_22', 'f0871_23', 'f1452_02', 'f0397_27', 'f1323_11', 'f1803_09', 'f3943_12', 'f3689_09', 'f0892_23', 'f0054_14', 'f2275_90']\n",
      "round 17, metrics=OrderedDict([('broadcast', ()), ('aggregation', ()), ('train', OrderedDict([('sparse_categorical_accuracy', 0.46085665), ('loss', 1.6738579)]))])\n",
      "['f3253_11', 'f1136_31', 'f3887_39', 'f2418_82', 'f2447_93', 'f1810_02', 'f1983_00', 'f0234_16', 'f1705_41', 'f1926_49', 'f0550_24', 'f3720_15', 'f2159_53', 'f3446_10', 'f1690_24', 'f0320_41', 'f4073_38', 'f1904_33', 'f2503_57', 'f3638_42', 'f3866_43', 'f0473_21', 'f4092_24', 'f0620_49', 'f2018_05', 'f1459_30', 'f0282_04', 'f3279_28', 'f3975_15', 'f2381_54', 'f3308_03', 'f3504_46', 'f3550_07', 'f1717_16', 'f3645_14', 'f4021_01', 'f1081_19', 'f3982_48', 'f1435_38', 'f2462_98', 'f1788_32', 'f1665_00', 'f3805_07', 'f0690_26', 'f3662_24', 'f0771_13', 'f1201_49', 'f0416_07', 'f1599_48', 'f3236_26', 'f3883_18', 'f0303_00', 'f1792_12', 'f1765_33', 'f3454_44', 'f1539_20', 'f1494_41', 'f3191_43', 'f3136_07', 'f1888_11', 'f3915_05', 'f0818_03', 'f1710_15', 'f3562_47', 'f1612_47', 'f0976_41', 'f0081_26', 'f3606_19', 'f3629_19', 'f0665_47', 'f3343_18', 'f2253_73', 'f1871_04', 'f2405_90', 'f3923_00', 'f2498_75', 'f0325_17', 'f0390_33', 'f3712_14', 'f1275_19', 'f2391_85', 'f3951_47', 'f2341_65', 'f3203_10', 'f0937_01', 'f1095_24', 'f0675_24', 'f3515_26', 'f2527_72', 'f2363_77', 'f2055_31', 'f1865_30', 'f2394_84', 'f1803_09', 'f3985_04', 'f0842_22', 'f0254_46', 'f0753_05', 'f2312_87', 'f3544_20']\n",
      "round 18, metrics=OrderedDict([('broadcast', ()), ('aggregation', ()), ('train', OrderedDict([('sparse_categorical_accuracy', 0.48727736), ('loss', 1.6084217)]))])\n",
      "['f0517_23', 'f1446_25', 'f0479_35', 'f2401_78', 'f1413_14', 'f3704_45', 'f0016_39', 'f2538_60', 'f1730_21', 'f0285_23', 'f0854_12', 'f3320_18', 'f1808_13', 'f0030_12', 'f3638_42', 'f1384_42', 'f2005_01', 'f1921_33', 'f1416_00', 'f3858_25', 'f3690_41', 'f3583_09', 'f0635_33', 'f1323_11', 'f1455_14', 'f3741_12', 'f0449_22', 'f1578_22', 'f2271_86', 'f3316_22', 'f0849_38', 'f2270_87', 'f0055_09', 'f1220_42', 'f3389_44', 'f3574_30', 'f3644_26', 'f3405_07', 'f0864_41', 'f1815_44', 'f3201_07', 'f2433_75', 'f0507_19', 'f3610_45', 'f0793_02', 'f2079_27', 'f1214_39', 'f1637_03', 'f0879_35', 'f1304_45', 'f0754_01', 'f3353_33', 'f3310_44', 'f0555_35', 'f2381_54', 'f0976_41', 'f1052_05', 'f0817_40', 'f0426_47', 'f3864_42', 'f1816_24', 'f1821_24', 'f4084_14', 'f1749_23', 'f3447_20', 'f1042_08', 'f2208_81', 'f0574_03', 'f1202_47', 'f2193_99', 'f1874_36', 'f0804_00', 'f1576_04', 'f1891_18', 'f1004_07', 'f2248_68', 'f2426_87', 'f0704_31', 'f1290_49', 'f3557_12', 'f1954_31', 'f3715_44', 'f0608_06', 'f2483_64', 'f1410_19', 'f2314_53', 'f3124_21', 'f0036_39', 'f1474_13', 'f0978_05', 'f1232_34', 'f3334_16', 'f2077_16', 'f1728_02', 'f2185_57', 'f0093_24', 'f1284_38', 'f3483_16', 'f0357_21', 'f1965_23']\n",
      "round 19, metrics=OrderedDict([('broadcast', ()), ('aggregation', ()), ('train', OrderedDict([('sparse_categorical_accuracy', 0.49113655), ('loss', 1.5732222)]))])\n",
      "['f3998_40', 'f2080_34', 'f3242_19', 'f1222_04', 'f1577_15', 'f2555_88', 'f1669_41', 'f3354_29', 'f1831_15', 'f0503_44', 'f2587_73', 'f1733_23', 'f2059_42', 'f3269_06', 'f1485_22', 'f3284_38', 'f3742_12', 'f3852_32', 'f0680_28', 'f3849_21', 'f1859_39', 'f3305_28', 'f1552_32', 'f0524_04', 'f1318_17', 'f0237_46', 'f1404_39', 'f0477_46', 'f3996_02', 'f1603_40', 'f0684_13', 'f3819_19', 'f1292_22', 'f3323_10', 'f1138_27', 'f3547_04', 'f3763_41', 'f2295_67', 'f2383_60', 'f0087_24', 'f0308_10', 'f1976_25', 'f1965_23', 'f1351_29', 'f2596_86', 'f3409_20', 'f0284_34', 'f3484_17', 'f1246_39', 'f0900_42', 'f3768_02', 'f1316_31', 'f2089_25', 'f1718_29', 'f0467_18', 'f0108_12', 'f0391_32', 'f4061_16', 'f3183_15', 'f3704_45', 'f1966_31', 'f2512_54', 'f3134_27', 'f3218_23', 'f1217_02', 'f3739_34', 'f1214_39', 'f1045_35', 'f1600_43', 'f3657_40', 'f1257_26', 'f0037_16', 'f2270_87', 'f3411_09', 'f3789_16', 'f2369_56', 'f3426_23', 'f2219_62', 'f0096_45', 'f0521_14', 'f2067_38', 'f1981_44', 'f1399_06', 'f1401_36', 'f1559_25', 'f1755_46', 'f3687_48', 'f0646_22', 'f0202_09', 'f2588_72', 'f3678_17', 'f0040_25', 'f3285_15', 'f1038_35', 'f1450_34', 'f2505_79', 'f0972_43', 'f2040_47', 'f3578_27', 'f2098_02']\n",
      "round 20, metrics=OrderedDict([('broadcast', ()), ('aggregation', ()), ('train', OrderedDict([('sparse_categorical_accuracy', 0.51999575), ('loss', 1.5044109)]))])\n",
      "['f3688_07', 'f2344_86', 'f1758_36', 'f1284_38', 'f3641_13', 'f1065_10', 'f3164_09', 'f1409_25', 'f3460_47', 'f3413_34', 'f3383_24', 'f1645_35', 'f2108_54', 'f3501_06', 'f1053_00', 'f2368_50', 'f2397_92', 'f0907_00', 'f3191_43', 'f0989_33', 'f0846_32', 'f4005_01', 'f2205_74', 'f2592_71', 'f1677_01', 'f0431_36', 'f2015_08', 'f4053_14', 'f0334_01', 'f0335_14', 'f3318_25', 'f3704_45', 'f3157_23', 'f3212_36', 'f2085_02', 'f0829_00', 'f2406_72', 'f1987_47', 'f1938_21', 'f1457_23', 'f2518_67', 'f3476_46', 'f2336_99', 'f4099_10', 'f0759_41', 'f1452_02', 'f0954_02', 'f2293_68', 'f3281_27', 'f2179_58', 'f2039_13', 'f3985_04', 'f4003_07', 'f2026_32', 'f3583_09', 'f2337_71', 'f1994_21', 'f2242_91', 'f1078_11', 'f4046_46', 'f1751_08', 'f3426_23', 'f3913_01', 'f0672_28', 'f1939_13', 'f3437_17', 'f3921_41', 'f0006_12', 'f2163_51', 'f3609_24', 'f0544_05', 'f0993_30', 'f3311_03', 'f1948_41', 'f3509_42', 'f0904_04', 'f1024_46', 'f3150_21', 'f0038_42', 'f1652_11', 'f1163_43', 'f0820_47', 'f0030_12', 'f3626_35', 'f0355_32', 'f0793_02', 'f0679_42', 'f2315_59', 'f3665_22', 'f0017_07', 'f0747_24', 'f3183_15', 'f1194_03', 'f0032_27', 'f3366_32', 'f1978_04', 'f1733_23', 'f4004_35', 'f3878_43', 'f0108_12']\n"
     ]
    },
    {
     "name": "stdout",
     "output_type": "stream",
     "text": [
      "round 21, metrics=OrderedDict([('broadcast', ()), ('aggregation', ()), ('train', OrderedDict([('sparse_categorical_accuracy', 0.531531), ('loss', 1.4861575)]))])\n",
      "['f3259_15', 'f3876_02', 'f3518_46', 'f3632_10', 'f3105_03', 'f2381_54', 'f1988_11', 'f1805_13', 'f2011_41', 'f1203_10', 'f3761_12', 'f2208_81', 'f0644_19', 'f2431_93', 'f0819_13', 'f2140_77', 'f3382_25', 'f1848_43', 'f3641_13', 'f3936_41', 'f1688_24', 'f1364_24', 'f0225_20', 'f2233_79', 'f0527_23', 'f0637_21', 'f1508_14', 'f0895_48', 'f2459_55', 'f2496_56', 'f1772_12', 'f3148_21', 'f0950_21', 'f3461_23', 'f1669_41', 'f3299_12', 'f0094_41', 'f3368_37', 'f0876_43', 'f0344_25', 'f3629_19', 'f0566_02', 'f1902_10', 'f0928_42', 'f0915_03', 'f3201_07', 'f0194_30', 'f2508_71', 'f1528_18', 'f1010_11', 'f0572_15', 'f1894_39', 'f1970_32', 'f3750_00', 'f0454_20', 'f0521_14', 'f3888_32', 'f3796_14', 'f1430_10', 'f1269_14', 'f0861_29', 'f1544_46', 'f3306_39', 'f1164_21', 'f1509_45', 'f1862_37', 'f3619_19', 'f1550_34', 'f2032_22', 'f1847_26', 'f0583_26', 'f1767_34', 'f0374_13', 'f4008_34', 'f2200_55', 'f2394_84', 'f3322_40', 'f2432_94', 'f3249_21', 'f1689_07', 'f0603_11', 'f1172_25', 'f3485_45', 'f2134_58', 'f1214_39', 'f1307_25', 'f3280_34', 'f1128_24', 'f0409_49', 'f1680_37', 'f0270_23', 'f2486_95', 'f0096_45', 'f3687_48', 'f1254_34', 'f2590_60', 'f3760_06', 'f0619_33', 'f2401_78', 'f3895_38']\n",
      "round 22, metrics=OrderedDict([('broadcast', ()), ('aggregation', ()), ('train', OrderedDict([('sparse_categorical_accuracy', 0.55595845), ('loss', 1.4115062)]))])\n",
      "['f3416_28', 'f1929_04', 'f1272_09', 'f3892_07', 'f1795_30', 'f0726_09', 'f1838_49', 'f0831_15', 'f3366_32', 'f2457_97', 'f1968_09', 'f1101_38', 'f0855_46', 'f1936_06', 'f0116_23', 'f2153_90', 'f0677_30', 'f0355_32', 'f3523_31', 'f4066_22', 'f3845_39', 'f4091_23', 'f1696_08', 'f1294_12', 'f0747_24', 'f0905_43', 'f1965_23', 'f2199_64', 'f0603_11', 'f2398_51', 'f0564_43', 'f1191_18', 'f1266_29', 'f3955_03', 'f0104_43', 'f0737_49', 'f0197_34', 'f3412_27', 'f0743_31', 'f2364_65', 'f0093_24', 'f0470_37', 'f2179_58', 'f3442_00', 'f0709_40', 'f1058_32', 'f2258_85', 'f1190_46', 'f1021_16', 'f3730_33', 'f2217_71', 'f4057_40', 'f0501_06', 'f0039_14', 'f0596_26', 'f0724_37', 'f3427_21', 'f1475_14', 'f0788_34', 'f3922_38', 'f1491_42', 'f0752_25', 'f1593_46', 'f2164_60', 'f3119_39', 'f0666_20', 'f1097_20', 'f1509_45', 'f4060_46', 'f0871_23', 'f1427_16', 'f1381_00', 'f1821_24', 'f2196_58', 'f1441_43', 'f1597_45', 'f1339_22', 'f2580_69', 'f2267_78', 'f2147_79', 'f2069_42', 'f0951_29', 'f2432_94', 'f1904_33', 'f0431_36', 'f0834_03', 'f3127_16', 'f1414_16', 'f3186_24', 'f0546_38', 'f1539_20', 'f0997_34', 'f2101_62', 'f3226_21', 'f1130_48', 'f0133_23', 'f1352_27', 'f3259_15', 'f3830_48', 'f2596_86']\n",
      "round 23, metrics=OrderedDict([('broadcast', ()), ('aggregation', ()), ('train', OrderedDict([('sparse_categorical_accuracy', 0.56318915), ('loss', 1.3986373)]))])\n",
      "['f3534_47', 'f1075_00', 'f1879_44', 'f2514_50', 'f2176_64', 'f2024_20', 'f3443_42', 'f1957_41', 'f3762_40', 'f3904_45', 'f3527_33', 'f3742_12', 'f2065_28', 'f1128_24', 'f3326_06', 'f3965_14', 'f0537_35', 'f2015_08', 'f3763_41', 'f0955_30', 'f1388_41', 'f3787_15', 'f2408_73', 'f0612_11', 'f1930_02', 'f3684_46', 'f1029_30', 'f0874_26', 'f0696_13', 'f3756_06', 'f3878_43', 'f1893_26', 'f4074_12', 'f1186_07', 'f3188_47', 'f1065_10', 'f3362_03', 'f0594_00', 'f3888_32', 'f1925_00', 'f3158_03', 'f1103_38', 'f1834_16', 'f3236_26', 'f3609_24', 'f2138_72', 'f4021_01', 'f1283_24', 'f0376_05', 'f1745_36', 'f0889_48', 'f3307_33', 'f0956_32', 'f1813_25', 'f2389_86', 'f2339_76', 'f0555_35', 'f0767_25', 'f1947_49', 'f0931_37', 'f0698_45', 'f3530_32', 'f4063_09', 'f1114_07', 'f3978_35', 'f1659_04', 'f1200_36', 'f0691_00', 'f1894_39', 'f3610_45', 'f0851_41', 'f1006_19', 'f0284_34', 'f1987_47', 'f3841_01', 'f0962_04', 'f0810_40', 'f0610_38', 'f1844_38', 'f0326_35', 'f0623_37', 'f3293_30', 'f0016_39', 'f0969_31', 'f1885_29', 'f2341_65', 'f0123_28', 'f1306_03', 'f3796_14', 'f3637_45', 'f1649_03', 'f3781_28', 'f3892_07', 'f2146_84', 'f1345_41', 'f2016_39', 'f0510_47', 'f2579_76', 'f1182_38', 'f1988_11']\n",
      "round 24, metrics=OrderedDict([('broadcast', ()), ('aggregation', ()), ('train', OrderedDict([('sparse_categorical_accuracy', 0.58496606), ('loss', 1.3375181)]))])\n"
     ]
    }
   ],
   "source": [
    "import random\n",
    "\n",
    "#   # <--- CHANGE This\n",
    "clientsPerRound = 100\n",
    "clientsPassed = []  # List of clients those have been completed\n",
    "#clientsCurrent = [] # List of clients in the current round\n",
    "\n",
    "#print('Number of client datasets: {l}'.format(l=len(federated_train_data)))\n",
    "#print('First dataset: {d}'.format(d=federated_train_data[0]))\n",
    "\n",
    "NUM_ROUNDS=25   # <--- Change This :::  Numberof Rounds kept to 25 to save time \n",
    "logdir = \"/Users/pramitdutta/opt/TensorflowApps/federatedPD/logs/trainSGD_CRAND100_R25/\"    # <--- CHANGE THIS CRAND= Random Clients R= Rounds \n",
    "\n",
    "summary_writer = tf.summary.create_file_writer(logdir)\n",
    "state = iterative_process.initialize()\n",
    "\n",
    "\n",
    "with summary_writer.as_default():\n",
    "    for round_num in range(1, NUM_ROUNDS):\n",
    "        \n",
    "        clientsCurrent = random.sample(emnist_train.client_ids, clientsPerRound)\n",
    "        print(clientsCurrent)\n",
    "        federate_train_data = [preprocess(emnist_train.create_tf_dataset_for_client(ID))for ID in clientsCurrent]\n",
    "        \n",
    "        state, metrics = iterative_process.next(state, federated_train_data)\n",
    "        \n",
    "        print('round {:2d}, metrics={}'.format(round_num, metrics))\n",
    "        for name, value in metrics['train'].items():\n",
    "            tf.summary.scalar(name, value, step=round_num)\n",
    "        clientsCurrent=[]\n"
   ]
  },
  {
   "cell_type": "markdown",
   "metadata": {},
   "source": [
    "# Round Robin Method"
   ]
  },
  {
   "cell_type": "code",
   "execution_count": 26,
   "metadata": {},
   "outputs": [
    {
     "name": "stdout",
     "output_type": "stream",
     "text": [
      "round  1, metrics=OrderedDict([('broadcast', ()), ('aggregation', ()), ('train', OrderedDict([('sparse_categorical_accuracy', 0.11851376), ('loss', 3.0874672)]))])\n",
      "round  2, metrics=OrderedDict([('broadcast', ()), ('aggregation', ()), ('train', OrderedDict([('sparse_categorical_accuracy', 0.12858643), ('loss', 2.9518359)]))])\n",
      "round  3, metrics=OrderedDict([('broadcast', ()), ('aggregation', ()), ('train', OrderedDict([('sparse_categorical_accuracy', 0.15812607), ('loss', 2.8483715)]))])\n",
      "round  4, metrics=OrderedDict([('broadcast', ()), ('aggregation', ()), ('train', OrderedDict([('sparse_categorical_accuracy', 0.17114905), ('loss', 2.7295804)]))])\n",
      "round  5, metrics=OrderedDict([('broadcast', ()), ('aggregation', ()), ('train', OrderedDict([('sparse_categorical_accuracy', 0.19602731), ('loss', 2.6081629)]))])\n",
      "round  6, metrics=OrderedDict([('broadcast', ()), ('aggregation', ()), ('train', OrderedDict([('sparse_categorical_accuracy', 0.22336182), ('loss', 2.4771786)]))])\n",
      "round  7, metrics=OrderedDict([('broadcast', ()), ('aggregation', ()), ('train', OrderedDict([('sparse_categorical_accuracy', 0.24140358), ('loss', 2.4120836)]))])\n",
      "round  8, metrics=OrderedDict([('broadcast', ()), ('aggregation', ()), ('train', OrderedDict([('sparse_categorical_accuracy', 0.2684846), ('loss', 2.2849424)]))])\n",
      "round  9, metrics=OrderedDict([('broadcast', ()), ('aggregation', ()), ('train', OrderedDict([('sparse_categorical_accuracy', 0.2907312), ('loss', 2.230315)]))])\n",
      "round 10, metrics=OrderedDict([('broadcast', ()), ('aggregation', ()), ('train', OrderedDict([('sparse_categorical_accuracy', 0.31466496), ('loss', 2.1255724)]))])\n",
      "round 11, metrics=OrderedDict([('broadcast', ()), ('aggregation', ()), ('train', OrderedDict([('sparse_categorical_accuracy', 0.328906), ('loss', 2.076106)]))])\n",
      "round 12, metrics=OrderedDict([('broadcast', ()), ('aggregation', ()), ('train', OrderedDict([('sparse_categorical_accuracy', 0.3723845), ('loss', 1.9327598)]))])\n",
      "round 13, metrics=OrderedDict([('broadcast', ()), ('aggregation', ()), ('train', OrderedDict([('sparse_categorical_accuracy', 0.39238828), ('loss', 1.883506)]))])\n",
      "round 14, metrics=OrderedDict([('broadcast', ()), ('aggregation', ()), ('train', OrderedDict([('sparse_categorical_accuracy', 0.40926665), ('loss', 1.8018345)]))])\n",
      "round 15, metrics=OrderedDict([('broadcast', ()), ('aggregation', ()), ('train', OrderedDict([('sparse_categorical_accuracy', 0.4156231), ('loss', 1.7943126)]))])\n",
      "round 16, metrics=OrderedDict([('broadcast', ()), ('aggregation', ()), ('train', OrderedDict([('sparse_categorical_accuracy', 0.4587074), ('loss', 1.670165)]))])\n",
      "round 17, metrics=OrderedDict([('broadcast', ()), ('aggregation', ()), ('train', OrderedDict([('sparse_categorical_accuracy', 0.48162714), ('loss', 1.618353)]))])\n",
      "round 18, metrics=OrderedDict([('broadcast', ()), ('aggregation', ()), ('train', OrderedDict([('sparse_categorical_accuracy', 0.5070414), ('loss', 1.5464462)]))])\n",
      "round 19, metrics=OrderedDict([('broadcast', ()), ('aggregation', ()), ('train', OrderedDict([('sparse_categorical_accuracy', 0.4818407), ('loss', 1.6289256)]))])\n",
      "round 20, metrics=OrderedDict([('broadcast', ()), ('aggregation', ()), ('train', OrderedDict([('sparse_categorical_accuracy', 0.34842053), ('loss', 2.020434)]))])\n",
      "round 21, metrics=OrderedDict([('broadcast', ()), ('aggregation', ()), ('train', OrderedDict([('sparse_categorical_accuracy', 0.36323458), ('loss', 1.9523362)]))])\n",
      "round 22, metrics=OrderedDict([('broadcast', ()), ('aggregation', ()), ('train', OrderedDict([('sparse_categorical_accuracy', 0.37812617), ('loss', 1.9088118)]))])\n",
      "round 23, metrics=OrderedDict([('broadcast', ()), ('aggregation', ()), ('train', OrderedDict([('sparse_categorical_accuracy', 0.4219136), ('loss', 1.7790772)]))])\n",
      "round 24, metrics=OrderedDict([('broadcast', ()), ('aggregation', ()), ('train', OrderedDict([('sparse_categorical_accuracy', 0.46225366), ('loss', 1.6691703)]))])\n"
     ]
    }
   ],
   "source": [
    "\n",
    "#   # <--- CHANGE This\n",
    "clientsPerRound = 100\n",
    "\n",
    "NUM_ROUNDS=25   # <--- Change This :::  Numberof Rounds kept to 25 to save time \n",
    "logdir = \"/Users/pramitdutta/opt/TensorflowApps/federatedPD/logs/trainSGD_CRR100_R25/\"    # <--- CHANGE THIS CRAND= Random Clients R= Rounds \n",
    "\n",
    "summary_writer = tf.summary.create_file_writer(logdir)\n",
    "state = iterative_process.initialize()\n",
    "\n",
    "\n",
    "with summary_writer.as_default():\n",
    "    for round_num in range(1, NUM_ROUNDS):\n",
    "        \n",
    "        sample_clients = emnist_train.client_ids[(round_num-1)*100+1:round_num*100]    # <--- CHANGE This\n",
    "        federated_train_data = make_federated_data(emnist_train, sample_clients)\n",
    "\n",
    "        state, metrics = iterative_process.next(state, federated_train_data)\n",
    "        \n",
    "        print('round {:2d}, metrics={}'.format(round_num, metrics))\n",
    "        for name, value in metrics['train'].items():\n",
    "            tf.summary.scalar(name, value, step=round_num)\n",
    "        clientsCurrent=[]\n",
    "\n"
   ]
  },
  {
   "cell_type": "code",
   "execution_count": 2,
   "metadata": {},
   "outputs": [
    {
     "data": {
      "text/html": [
       "\n",
       "      <iframe id=\"tensorboard-frame-9780a5f3b47d9b4e\" width=\"100%\" height=\"800\" frameborder=\"0\">\n",
       "      </iframe>\n",
       "      <script>\n",
       "        (function() {\n",
       "          const frame = document.getElementById(\"tensorboard-frame-9780a5f3b47d9b4e\");\n",
       "          const url = new URL(\"/\", window.location);\n",
       "          const port = 53946;\n",
       "          if (port) {\n",
       "            url.port = port;\n",
       "          }\n",
       "          frame.src = url;\n",
       "        })();\n",
       "      </script>\n",
       "    "
      ],
      "text/plain": [
       "<IPython.core.display.HTML object>"
      ]
     },
     "metadata": {},
     "output_type": "display_data"
    }
   ],
   "source": [
    "%tensorboard --logdir /Users/pramitdutta/opt/TensorflowApps/federatedPD/logs/ --port=0"
   ]
  },
  {
   "cell_type": "code",
   "execution_count": 80,
   "metadata": {},
   "outputs": [],
   "source": [
    "!rm -R /tmp/logs/scalars/trainSGD_CRAND25_R25/"
   ]
  },
  {
   "cell_type": "code",
   "execution_count": 35,
   "metadata": {},
   "outputs": [],
   "source": [
    "k = [0,1,2,3,4]"
   ]
  },
  {
   "cell_type": "code",
   "execution_count": 36,
   "metadata": {},
   "outputs": [
    {
     "name": "stdout",
     "output_type": "stream",
     "text": [
      "[0, 1, 2, 3, 4]\n"
     ]
    }
   ],
   "source": [
    "print(k)"
   ]
  },
  {
   "cell_type": "code",
   "execution_count": 45,
   "metadata": {},
   "outputs": [
    {
     "name": "stdout",
     "output_type": "stream",
     "text": [
      "0\n",
      "1\n",
      "2\n",
      "3\n",
      "4\n"
     ]
    }
   ],
   "source": [
    "for i in range (0,5): \n",
    "    print(int(k[i]))\n",
    "    "
   ]
  },
  {
   "cell_type": "code",
   "execution_count": 48,
   "metadata": {},
   "outputs": [
    {
     "data": {
      "text/plain": [
       "[0, 1, 2, 3, 4]"
      ]
     },
     "execution_count": 48,
     "metadata": {},
     "output_type": "execute_result"
    }
   ],
   "source": [
    "k[:]"
   ]
  },
  {
   "cell_type": "code",
   "execution_count": null,
   "metadata": {},
   "outputs": [],
   "source": [
    "\n",
    "#def getClient():\n",
    "#    clientsCurrent = []\n",
    "#    for i in range(clientsPerRound):\n",
    "#        newClientID = random.randint(1,3382)\n",
    "#        if newClientID not in clientsPassed: \n",
    "#            clientsPassed.append(newClientID)\n",
    "#            clientsCurrent.append(newClientID)\n",
    "#    print(clientsCurrent)\n",
    "#    return clientsCurrent\n",
    "        #sample_clients = emnist_train.client_ids[getClientID()]\n",
    "        \n",
    "        # Since Nested List is NOT possible with the make_federate_data\n",
    "        # This is changed to the new function make_client_data\n",
    "        #clients = getClient()\n",
    "        #print(clients)"
   ]
  }
 ],
 "metadata": {
  "kernelspec": {
   "display_name": "Python 3.7 (tensorflow)",
   "language": "python",
   "name": "tensorflow"
  },
  "language_info": {
   "codemirror_mode": {
    "name": "ipython",
    "version": 3
   },
   "file_extension": ".py",
   "mimetype": "text/x-python",
   "name": "python",
   "nbconvert_exporter": "python",
   "pygments_lexer": "ipython3",
   "version": "3.7.9"
  }
 },
 "nbformat": 4,
 "nbformat_minor": 4
}
