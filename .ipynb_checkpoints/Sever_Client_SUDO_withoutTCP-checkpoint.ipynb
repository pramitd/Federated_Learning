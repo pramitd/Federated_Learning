{
 "cells": [
  {
   "cell_type": "code",
   "execution_count": 1,
   "metadata": {},
   "outputs": [
    {
     "name": "stderr",
     "output_type": "stream",
     "text": [
      "C:\\Users\\jgior\\AppData\\Roaming\\Python\\Python37\\site-packages\\tensorflow_addons\\utils\\ensure_tf_install.py:43: UserWarning: You are currently using a nightly version of TensorFlow (2.5.0-dev20201111). \n",
      "TensorFlow Addons offers no support for the nightly versions of TensorFlow. Some things might work, some other might not. \n",
      "If you encounter a bug, do not file an issue on GitHub.\n",
      "  UserWarning,\n"
     ]
    }
   ],
   "source": [
    "import numpy as np\n",
    "import tensorflow as tf\n",
    "import tensorflow_federated as tff\n",
    "from matplotlib import pyplot as plt\n",
    "import collections\n",
    "import nest_asyncio\n",
    "%reload_ext tensorboard\n",
    "nest_asyncio.apply()\n",
    "from tensorflow.keras.models import Sequential\n",
    "from tensorflow.keras.layers import Dense\n",
    "from tensorflow.keras.utils import to_categorical\n",
    "from tensorflow.keras.datasets import mnist"
   ]
  },
  {
   "cell_type": "code",
   "execution_count": 2,
   "metadata": {},
   "outputs": [],
   "source": [
    "class server:\n",
    "    \n",
    "    def __init__(self, numOfClients):\n",
    "        self.numOfClients = numOfClients #Num of Client\n",
    "        self.clientIds = list(range(0,self.numOfClients)) #Client List\n",
    "        self.updateRoundNum = 0  # Update Round Number\n",
    "        self.serverModel = self.createBaseModel() #Create a Keras Model for MNIST\n",
    "        self.clientActive = [] #If client is available or not based on time - day/night\n",
    "        self.clientCIF = []\n",
    "        self.clientSelected = []\n",
    "        self.maxClientsPerRound = 5\n",
    "        self.updateFromClients=[]\n",
    "        self.__serverTestData_X=[]\n",
    "        self.__serverTestData_Y=[]\n",
    "        self.predictionAcc=[]\n",
    "        self.predictionLoss=[]\n",
    "        \n",
    "        \n",
    "    def createBaseModel(self):\n",
    "        #return tf.keras.models.Sequential([\n",
    "        #    Dense(64, activation='relu',input_shape=(784,)),\n",
    "        #    Dense(64, activation='relu'),\n",
    "        #    Dense(10, activation='softmax'),])\n",
    "        return tf.keras.models.Sequential([\n",
    "            tf.keras.layers.Input(shape=(784,)),\n",
    "            tf.keras.layers.Dense(10, kernel_initializer='zeros'),\n",
    "            tf.keras.layers.Softmax()])\n",
    "    \n",
    "    def setServerTestData(self,Xtest,Ytest):\n",
    "        self.__serverTestData_X=Xtest\n",
    "        self.__serverTestData_Y=Ytest\n",
    "    \n",
    "    def initialBroadcast(self):\n",
    "        for i in self.clientIds:\n",
    "            clientName = \"client_\"+str(self.clientIds[i])  #Create Client Name\n",
    "            #print(clientName)\n",
    "            eval(clientName).setInitialModel(self.serverModel) #setInitialModel-> Method of client Class\n",
    "            \n",
    "    def getClientActiveStatus(self):  #if the client is available for update or not randomly set in client\n",
    "        self.clientActive = []\n",
    "        for i in self.clientIds:\n",
    "            clientName = \"client_\"+str(self.clientIds[i])  #Create Client Name\n",
    "            #print(clientName)\n",
    "            if(eval(clientName).sendActiveStatus() == 1): #getActiveStatus() -> method of client class\n",
    "                self.clientActive.append(i)\n",
    "               \n",
    "    def getClientCIF(self): # Get Client Importance Factor for active clients\n",
    "        self.clientCIF=[]\n",
    "        for i in self.clientActive:\n",
    "            clientName = \"client_\"+str(i)\n",
    "            c_cif = eval(clientName).sendCIF()   #sendCIF() - method of client\n",
    "            self.clientCIF.append(c_cif)\n",
    "        print(\"Clients with Acceptable CIF: \", self.clientCIF)\n",
    "        \n",
    "    def getClientSelected(self): # Select The Top (N = maxClientsPerRound) with the highest CIF value\n",
    "        self.clientSelected = []\n",
    "        clientCIF, clientActive = ( list(t) for t in zip(*sorted(zip(self.clientCIF, self.clientActive)))) # Sort Active Clients and their CIF values, by CIF\n",
    "        self.clientSelected  = clientActive[-self.maxClientsPerRound:] # Select the N=maxClientsPerRound of clients with highest CIF\n",
    "        self.clientCIF = clientCIF[-self.maxClientsPerRound:] # Select the N=maxClientsPerRound of highest CIF\n",
    "            \n",
    "    \n",
    "    def getModelUpdateFromClients(self):\n",
    "        print(\"--------------------------------------------\\n\",\"Round NO:\",self.updateRoundNum)\n",
    "        print(\"Active Clients: \",self.clientActive)\n",
    "        print(\"CIF of Active Clients: \", self.clientCIF)\n",
    "        print(\"Selected Clients: \", self.clientSelected)\n",
    "        print(\"Training Clients with CIF > 10\")\n",
    "        self.updateRoundNum +=1\n",
    "        self.updateFromClients=[]\n",
    "        #self.dataPointsClients=[]\n",
    "        \n",
    "        for i in range (0,len(self.clientSelected)):\n",
    "            if self.clientCIF[i] >= 10:  #Select Client only if CIF > some value 10 chosen for testing ONLY\n",
    "                clientName = \"client_\"+str(int(self.Selected[i]))\n",
    "                self.updateFromClients.append(eval(clientName).sendClientUpdate()) #Get a list of updates from selected clients\n",
    "        \n",
    "        ## Was Previously - Start ##\n",
    "#         for i in range (0,len(self.clientActive)): # Was previously self.Client\n",
    "#             if self.clientCIF[i] >= 10:  #Select Client only if CIF > some value 10 chosen for testing ONLY\n",
    "#                 clientName = \"client_\"+str(int(self.clientActive[i]))\n",
    "#                 self.updateFromClients.append(eval(clientName).sendClientUpdate()) #Get a list of updates from selected clients\n",
    "                #print(updateFromClients)\n",
    "        ## Was Previously - End ##\n",
    "        \n",
    "        avgModelWeights = self.computeFedAvg(self.updateFromClients)\n",
    "        #print(\"average model weights = \\n\",avgModelWeights)\n",
    "        self.serverModel.set_weights(avgModelWeights)   \n",
    "        \n",
    "    def computeFedAvg(self,updates):  #Compute Federated Averaging from Available Clients\n",
    "        totalDataPoints = 0\n",
    "        scaleFactor=[]\n",
    "        for i in range (0,len(updates)):\n",
    "            totalDataPoints += updates[i][1]   #Sum the total Data Points on All Available Clients\n",
    "            scaleFactor.append(updates[i][1])  #Store individual number datapoints for clients\n",
    "        #print(totalDataPoints)\n",
    "        #print(scaleFactor)\n",
    "        \n",
    "        \n",
    "        scaleFactor = np.array(scaleFactor)/totalDataPoints #Create the scale factor\n",
    "        #print(scaleFactor)\n",
    "        #print(type(scaleFactor))\n",
    "        \n",
    "        #for i in range (0,len(updates)):    #Iteration Over the Clients \n",
    "        #    for j in range (0,len(updates[i][0])):\n",
    "        #        updates[i][0][j]=updates[i][0][j]*scaleFactor[i]\n",
    "        \n",
    "        sumOfAvgWeights = []*len(updates[0][0]) \n",
    "        \n",
    "        for j in range (0,len(updates[0][0])): #range of layers\n",
    "            k=np.zeros_like(updates[0][0][j])\n",
    "            #print(\"ShapeofK:\",k.shape)\n",
    "            for i in range(0,len(updates)): #range of clients\n",
    "                k=k+updates[i][0][j]*scaleFactor[i]\n",
    "                #print(\"ShapeofK:\",k.shape)\n",
    "            sumOfAvgWeights.append(k)\n",
    "        \n",
    "        #print(len(sumOfAvgWeights))\n",
    "        #print(\"Size 0\",sumOfAvgWeights[0].shape)\n",
    "        #print(\"Size 1\",sumOfAvgWeights[1].shape)\n",
    "        #print(\"Size 2\",sumOfAvgWeights[2].shape)\n",
    "        #print(\"Size 3\",sumOfAvgWeights[3].shape)\n",
    "        #print(\"Size 4\",sumOfAvgWeights[4].shape)\n",
    "        #print(\"Size 5\",sumOfAvgWeights[5].shape)\n",
    "        \n",
    "        \n",
    "        return sumOfAvgWeights   \n",
    "    \n",
    "    def testServerModel(self):\n",
    "        self.serverModel.compile(loss = 'categorical_crossentropy',\n",
    "                                optimizer = tf.keras.optimizers.SGD (learning_rate=.01),\n",
    "                                metrics=['accuracy'])\n",
    "        #loss = tf.keras.losses.CategoricalCrossentropy(from_logits=True)\n",
    "        #prediction = self.serverModel.predict(self.__serverTestData_X)\n",
    "        #self.predictionLoss.append(loss(self.__serverTestData_Y,prediction))\n",
    "        #self.predictionAcc.append(accuracy_score(tf.argmax(logits, axis=1), tf.argmax(self.__serverTestData_Y, axis=1)))\n",
    "        return self.serverModel.evaluate(self.__serverTestData_X,\n",
    "                                         to_categorical(self.__serverTestData_Y),\n",
    "                                         batch_size=64)\n",
    "       # print(\"Round:\",self.updateRoundNum,\n",
    "        #      \"TestAcc:\",self.predictionAcc[self.updateRoundNum],\n",
    "         #    \"TestLoss:\",self.predictionLoss[self.updateRoundNum])\n",
    "        \n",
    "        \n",
    "    def updateAllClients(self):\n",
    "        for i in self.clientIds:\n",
    "            clientName = \"client_\"+str(self.clientIds[i])  #Create Client Name\n",
    "            eval(clientName).setModelUpdateWeights(self.serverModel.get_weights()) \n",
    "\n"
   ]
  },
  {
   "cell_type": "code",
   "execution_count": 3,
   "metadata": {},
   "outputs": [],
   "source": [
    "class client:\n",
    "    \n",
    "    def __init__(self,ID):\n",
    "        self.id = ID\n",
    "        self.__clientModel = tf.keras.models.Sequential()\n",
    "        self.__clientModelWeights=[]\n",
    "        self.activeStatus = 0\n",
    "        self.__clientDataX=[] #Private to Client\n",
    "        self.__clientDataY=[]\n",
    "        self.clientCIF=0\n",
    "        self.meanSINR = int(np.random.normal(15, 2.5, 1)) #Select random int from normal dist \n",
    "        self.roundSINR = 0\n",
    "        self.propFair = 0\n",
    "        self.epochs = 10\n",
    "        self.lr = 0.01\n",
    "        \n",
    "    #Methods Private to client\n",
    "    def __setActiveStatus(self): \n",
    "        #self.activeStatus = int(np.random.randint(0,2,1))\n",
    "        self.activeStatus = 1\n",
    "    \n",
    "    def __setRoundSINR(self):\n",
    "        self.roundSINR = np.round((np.random.normal(self.meanSINR, 1, 1)[0]), 2)\n",
    "                               \n",
    "    def __setPropFair(self):\n",
    "        self.propFair = self.roundSINR / self.meanSINR\n",
    "        \n",
    "    def __setdataQuality(self):\n",
    "        self.dataQuality = 20 # Set 20 so that CIF value will always be passing\n",
    "    \n",
    "    def __setCIF(self):\n",
    "        #self.clientCIF = int(np.random.randint(0,50,1))  # Random Number between 0 and 49 for check purpose only\n",
    "        self.__setRoundSINR()\n",
    "        self.__setPropFair() #This is currently unused\n",
    "        self.__setdataQuality()\n",
    "        self.clientCIF = self.roundSINR + self.dataQuality\n",
    "        # self.clientCIF = (-1/self.roundSINR) + self.dataQuality #Formula for computing client CIF\n",
    "        \n",
    "    def __getTrainData(self):\n",
    "        return self.__clientDataX, self.__clientDataY  # Just for Testing will be expanded to select meaningful data\n",
    "    \n",
    "    #Public Methods\n",
    "    def sendActiveStatus(self):\n",
    "        self.__setActiveStatus()\n",
    "        return self.activeStatus\n",
    "    \n",
    "    def sendCIF(self):\n",
    "        self.__setCIF()\n",
    "        return self.clientCIF\n",
    "    \n",
    "    def setInitialModel(self,model):\n",
    "        self.__clientModel=model\n",
    "        print(self.__clientModel.summary)\n",
    "         \n",
    "    def setClientData(self,X,Y):\n",
    "        self.__clientDataX = X\n",
    "        self.__clientDataY = Y\n",
    "   \n",
    "\n",
    "    def sendClientUpdate(self):\n",
    "        print(\"->Training Client ID:\",self.id,end=\" \")\n",
    "        self.__clientModel.compile(loss = 'categorical_crossentropy',\n",
    "                                optimizer = tf.keras.optimizers.SGD (learning_rate=self.lr),\n",
    "                                metrics=['accuracy'])\n",
    "        #print(self.__clientDataX.shape)\n",
    "        #print(self.__clientDataY.shape)\n",
    "        history = self.__clientModel.fit(self.__clientDataX,\n",
    "                               tf.keras.utils.to_categorical(self.__clientDataY),\n",
    "                               epochs=self.epochs,\n",
    "                               validation_split=0.2,\n",
    "                               verbose=0,\n",
    "                                        shuffle=True)\n",
    "        \n",
    "        updatedWeights = self.__clientModel.get_weights()\n",
    "        #print(\"Val Acc:\",history.history['val_accuracy'])\n",
    "        #print(\"Client_\",self.id,\" weights=\\n\",updatedWeights)\n",
    "        #print(\"Size Client 0\",updatedWeights[0].size)\n",
    "        #print(\"Size Client 1\",updatedWeights[1].size)\n",
    "        ##print(\"Size Client 2\",updatedWeights[2].size)\n",
    "        #print(\"Size Client 3\",updatedWeights[3].size)\n",
    "        #print(\"Size Client 4\",updatedWeights[4].size)\n",
    "        #print(\"Size Client 5\",updatedWeights[5].size)\n",
    "        \n",
    "        numOfDataPoints = self.epochs*32   #<-- Set the correct type to get the number of datapoints in the current update round\n",
    "        # 32 is default batch size in keras\n",
    "        #print(\"ModelWeightShape=\",len(updatedWeights))\n",
    "        #print(\"numOfDataPoints=\",numOfDataPoints)\n",
    "        return (updatedWeights,numOfDataPoints)\n",
    "    \n",
    "    def setModelUpdateWeights(self,modelUpdateWeights):\n",
    "        self.__clientModel.set_weights(modelUpdateWeights)\n",
    "        #self.__clientModel.\n",
    "        \n",
    "    def plotClientData(self):\n",
    "        #print(\"Y_Data\",self.__clientDataY)\n",
    "        id0=[]\n",
    "        id1=[]\n",
    "        id2=[]\n",
    "        id3=[]\n",
    "        id4=[]\n",
    "        id5=[]\n",
    "        id6=[]\n",
    "        id7=[]\n",
    "        id8=[]\n",
    "        id9=[]\n",
    "        for i in range (0,len(self.__clientDataY)):\n",
    "            for j in range (0,10):\n",
    "                if j==self.__clientDataY[i]:\n",
    "                    eval('id'+str(j)).append(i)\n",
    "        xAxis=['0','1','2','3','4','5','6','7','8','9']\n",
    "        yAxis=[len(id0),len(id1),len(id2),len(id3),len(id4),len(id5),len(id6),len(id7),len(id8),len(id9)]\n",
    "        plt.bar(xAxis,yAxis)\n",
    "        title=\"Data for Client\"+str(self.id)\n",
    "        plt.title(title)\n",
    "        plt.show()"
   ]
  },
  {
   "cell_type": "markdown",
   "metadata": {},
   "source": [
    "## Create NON-IID DataSet for Distribution to Client\n",
    "## Use MNIST Test Dataset for server validation"
   ]
  },
  {
   "cell_type": "code",
   "execution_count": 4,
   "metadata": {},
   "outputs": [],
   "source": [
    "# Data Modulation \n",
    "(originalTrainX, originalTrainY), (originalTestX, originalTestY) = mnist.load_data()\n",
    "\n",
    "originalTrainX = (originalTrainX / 255) - 0.5\n",
    "originalTestX = (originalTestX / 255) - 0.5\n",
    "\n",
    "originalTrainX = originalTrainX.reshape((-1, 784))\n",
    "originalTestX = originalTestX.reshape((-1, 784))\n",
    "\n",
    "\n",
    "def distributeDataToClientSequential(numOfClients,X_train,Y_train):\n",
    "    dataPerClient = 60000/numOfClients\n",
    "    for i in range (0,numOfClients):\n",
    "        clientName = \"client_\"+str(i)\n",
    "        lower=int(i*dataPerClient)\n",
    "        upper=int((i+1)*dataPerClient-1)\n",
    "        eval(clientName).setClientData(X_train[lower:upper,:],\n",
    "                                       Y_train[lower:upper])\n",
    "\n",
    "#client0:0-->dataPerClient-1; client1:dataPerClient-->2*dataPerClient-1; client2:2*dataPerClient-->3*dataPerClient-1\n",
    "                                    \n",
    "\n",
    "def distributeDataToClient(numOfClients,X_train,Y_train):  # Creating NON IID DataSet from Original MNIST Train Data\n",
    "        id0=[]\n",
    "        id1=[]\n",
    "        id2=[]\n",
    "        id3=[]\n",
    "        id4=[]\n",
    "        id5=[]\n",
    "        id6=[]\n",
    "        id7=[]\n",
    "        id8=[]\n",
    "        id9=[]\n",
    "        for i in range (0,60000):\n",
    "            for j in range (0,10):\n",
    "                if j==originalTrainY[i]:\n",
    "                    eval('id'+str(j)).append(i)\n",
    "        for i in range(0,10):\n",
    "            print(\"Number of Samples for id\",str(i),\":\",len(eval(\"id\"+str(i))))\n",
    "        \n",
    "        \n",
    "        for i in range (0,numOfClients):\n",
    "            Y_data = []\n",
    "            X_data = []\n",
    "            np.random.seed(i*10)\n",
    "            numOfClasses = int(np.random.randint(4,10,1))        #Select Random Number of Classes e.g 6 classes\n",
    "            classList = np.random.randint(0,10,numOfClasses)     #Select Random Classes based on above num eg. [0,3,4,5,6,7]\n",
    "            #print(classList)\n",
    "            for k in range (0,numOfClasses):\n",
    "                classID = int(classList[k])\n",
    "                classIDLen = len(eval(\"id\"+str(classID)))\n",
    "                #print(classID,\":\",classIDLen)\n",
    "                numOfSamplesInClass= int(np.random.randint(1500,5000,1))\n",
    "                #print(numOfSamplesInClass)\n",
    "                Y_data = np.empty([numOfSamplesInClass,])\n",
    "                X_data= np.empty([numOfSamplesInClass,784])\n",
    "                Y_data = np.random.choice(Y_train,numOfSamplesInClass,replace=False)\n",
    "                #print(Y_data)\n",
    "                for n in range(Y_data.size):\n",
    "                    X_data[n] = np.copy(X_train[n])\n",
    "\n",
    "            clientName = \"client_\"+str(i)\n",
    "            c_data = (X_data,Y_data)\n",
    "            eval(clientName).setClientData(X_data,Y_data)\n",
    "            #print(X_data.shape,Y_data.shape)\n",
    "            print(type(X_data),type(Y_data))\n",
    "            #print(Y_data)\n",
    "\n",
    "def distributeDataToServer(serverName,X_test,Y_test):  #Use the mnist test data for server validation\n",
    "    serverName.setServerTestData(X_test,Y_test)"
   ]
  },
  {
   "cell_type": "code",
   "execution_count": null,
   "metadata": {},
   "outputs": [],
   "source": [
    "#Show the distribution of samples in each class of MNIST\n",
    "# NO NEED TO RUN THIS CELL\n",
    "id0=[]\n",
    "id1=[]\n",
    "id2=[]\n",
    "id3=[]\n",
    "id4=[]\n",
    "id5=[]\n",
    "id6=[]\n",
    "id7=[]\n",
    "id8=[]\n",
    "id9=[]\n",
    "for i in range (0,60000):\n",
    "    for j in range (0,10):\n",
    "        if j==originalTrainY[i]:\n",
    "            eval('id'+str(j)).append(i)\n",
    "for i in range(0,10):\n",
    "    print(\"Number of Samples for id\",str(i),\":\",len(eval(\"id\"+str(i))))"
   ]
  },
  {
   "cell_type": "markdown",
   "metadata": {},
   "source": [
    "## Initializing Clients"
   ]
  },
  {
   "cell_type": "code",
   "execution_count": 5,
   "metadata": {},
   "outputs": [
    {
     "data": {
      "image/png": "[encoded data removed]",
      "text/plain": [
       "<Figure size 432x288 with 1 Axes>"
      ]
     },
     "metadata": {
      "needs_background": "light"
     },
     "output_type": "display_data"
    },
    {
     "data": {
      "image/png": "[encoded data removed]",
      "text/plain": [
       "<Figure size 432x288 with 1 Axes>"
      ]
     },
     "metadata": {
      "needs_background": "light"
     },
     "output_type": "display_data"
    },
    {
     "data": {
      "image/png": "[encoded data removed]",
      "text/plain": [
       "<Figure size 432x288 with 1 Axes>"
      ]
     },
     "metadata": {
      "needs_background": "light"
     },
     "output_type": "display_data"
    },
    {
     "data": {
      "image/png": "[encoded data removed]",
      "text/plain": [
       "<Figure size 432x288 with 1 Axes>"
      ]
     },
     "metadata": {
      "needs_background": "light"
     },
     "output_type": "display_data"
    },
    {
     "data": {
      "image/png": "[encoded data removed]",
      "text/plain": [
       "<Figure size 432x288 with 1 Axes>"
      ]
     },
     "metadata": {
      "needs_background": "light"
     },
     "output_type": "display_data"
    },
    {
     "data": {
      "image/png": "[encoded data removed]",
      "text/plain": [
       "<Figure size 432x288 with 1 Axes>"
      ]
     },
     "metadata": {
      "needs_background": "light"
     },
     "output_type": "display_data"
    },
    {
     "data": {
      "image/png": "[encoded data removed]",
      "text/plain": [
       "<Figure size 432x288 with 1 Axes>"
      ]
     },
     "metadata": {
      "needs_background": "light"
     },
     "output_type": "display_data"
    },
    {
     "data": {
      "image/png": "[encoded data removed]",
      "text/plain": [
       "<Figure size 432x288 with 1 Axes>"
      ]
     },
     "metadata": {
      "needs_background": "light"
     },
     "output_type": "display_data"
    },
    {
     "data": {
      "image/png": "[encoded data removed]",
      "text/plain": [
       "<Figure size 432x288 with 1 Axes>"
      ]
     },
     "metadata": {
      "needs_background": "light"
     },
     "output_type": "display_data"
    },
    {
     "data": {
      "image/png": "[encoded data removed]",
      "text/plain": [
       "<Figure size 432x288 with 1 Axes>"
      ]
     },
     "metadata": {
      "needs_background": "light"
     },
     "output_type": "display_data"
    },
    {
     "data": {
      "image/png": "[encoded data removed]",
      "text/plain": [
       "<Figure size 432x288 with 1 Axes>"
      ]
     },
     "metadata": {
      "needs_background": "light"
     },
     "output_type": "display_data"
    },
    {
     "data": {
      "image/png": "[encoded data removed]",
      "text/plain": [
       "<Figure size 432x288 with 1 Axes>"
      ]
     },
     "metadata": {
      "needs_background": "light"
     },
     "output_type": "display_data"
    },
    {
     "data": {
      "image/png": "[encoded data removed]",
      "text/plain": [
       "<Figure size 432x288 with 1 Axes>"
      ]
     },
     "metadata": {
      "needs_background": "light"
     },
     "output_type": "display_data"
    },
    {
     "data": {
      "image/png": "[encoded data removed]",
      "text/plain": [
       "<Figure size 432x288 with 1 Axes>"
      ]
     },
     "metadata": {
      "needs_background": "light"
     },
     "output_type": "display_data"
    },
    {
     "data": {
      "image/png": "[encoded data removed]",
      "text/plain": [
       "<Figure size 432x288 with 1 Axes>"
      ]
     },
     "metadata": {
      "needs_background": "light"
     },
     "output_type": "display_data"
    },
    {
     "data": {
      "image/png": "[encoded data removed]",
      "text/plain": [
       "<Figure size 432x288 with 1 Axes>"
      ]
     },
     "metadata": {
      "needs_background": "light"
     },
     "output_type": "display_data"
    },
    {
     "data": {
      "image/png": "[encoded data removed]",
      "text/plain": [
       "<Figure size 432x288 with 1 Axes>"
      ]
     },
     "metadata": {
      "needs_background": "light"
     },
     "output_type": "display_data"
    },
    {
     "data": {
      "image/png": "[encoded data removed]",
      "text/plain": [
       "<Figure size 432x288 with 1 Axes>"
      ]
     },
     "metadata": {
      "needs_background": "light"
     },
     "output_type": "display_data"
    },
    {
     "data": {
      "image/png": "[encoded data removed]",
      "text/plain": [
       "<Figure size 432x288 with 1 Axes>"
      ]
     },
     "metadata": {
      "needs_background": "light"
     },
     "output_type": "display_data"
    },
    {
     "data": {
      "image/png": "[encoded data removed]",
      "text/plain": [
       "<Figure size 432x288 with 1 Axes>"
      ]
     },
     "metadata": {
      "needs_background": "light"
     },
     "output_type": "display_data"
    }
   ],
   "source": [
    "#Populate Clients\n",
    "N = 20\n",
    "\n",
    "client_0=client(0)\n",
    "client_1=client(1)\n",
    "client_2=client(2)\n",
    "client_3=client(3)\n",
    "client_4=client(4)\n",
    "client_5=client(5)\n",
    "client_6=client(6)\n",
    "client_7=client(7)\n",
    "client_8=client(8)\n",
    "client_9=client(9)\n",
    "client_10=client(10)\n",
    "client_11=client(11)\n",
    "client_12=client(12)\n",
    "client_13=client(13)\n",
    "client_14=client(14)\n",
    "client_15=client(15)\n",
    "client_16=client(16)\n",
    "client_17=client(17)\n",
    "client_18=client(18)\n",
    "client_19=client(19)\n",
    "\n",
    "## Change Client Creation to Use Loop ##\n",
    "# This will create a dictionary of clients which can be called by their names #\n",
    "\n",
    "# clients = {}\n",
    "# num_clients = 10\n",
    "# for i in range(num_clients):\n",
    "#     name = \"client_\" + str(i)\n",
    "#     clients[name] = client(i)\n",
    "    \n",
    "\n",
    "\n",
    "# Distribute Client Data\n",
    "#distributeDataToClient(N,originalTrainX,originalTrainY)\n",
    "distributeDataToClientSequential(N,originalTrainX,originalTrainY)  #Changed to Sequential Distribution of Data IID - Configuration\n",
    "for i in range (0,N):\n",
    "    clientName = \"client_\"+str(i)\n",
    "    eval(clientName).plotClientData()\n",
    "\n"
   ]
  },
  {
   "cell_type": "markdown",
   "metadata": {},
   "source": [
    "## Checking Mean SINR Values of Client ##"
   ]
  },
  {
   "cell_type": "code",
   "execution_count": null,
   "metadata": {},
   "outputs": [],
   "source": [
    "# Write function to show histogram of all client's Mean SINR value\n",
    "\n",
    "# for i in range (0,len(self.clientActive)):\n",
    "#             if self.clientCIF[i] >= 10:  #Select Client only if CIF > some value 10 chosen for testing ONLY\n",
    "#                 clientName = \"client_\"+str(int(self.clientActive[i]))\n",
    "#                 self.updateFromClients.append(eval(clientName).sendClientUpdate()) #Get a list of updates from selected clients"
   ]
  },
  {
   "cell_type": "markdown",
   "metadata": {},
   "source": [
    "### Initializing Sever"
   ]
  },
  {
   "cell_type": "code",
   "execution_count": 6,
   "metadata": {},
   "outputs": [],
   "source": [
    "serverFA = server(N)   # N = Number of Client\n",
    "distributeDataToServer(serverFA,originalTestX,originalTestY)"
   ]
  },
  {
   "cell_type": "code",
   "execution_count": 7,
   "metadata": {},
   "outputs": [
    {
     "name": "stdout",
     "output_type": "stream",
     "text": [
      "<bound method Model.summary of <tensorflow.python.keras.engine.sequential.Sequential object at 0x00000253FC267E08>>\n",
      "<bound method Model.summary of <tensorflow.python.keras.engine.sequential.Sequential object at 0x00000253FC267E08>>\n",
      "<bound method Model.summary of <tensorflow.python.keras.engine.sequential.Sequential object at 0x00000253FC267E08>>\n",
      "<bound method Model.summary of <tensorflow.python.keras.engine.sequential.Sequential object at 0x00000253FC267E08>>\n",
      "<bound method Model.summary of <tensorflow.python.keras.engine.sequential.Sequential object at 0x00000253FC267E08>>\n",
      "<bound method Model.summary of <tensorflow.python.keras.engine.sequential.Sequential object at 0x00000253FC267E08>>\n",
      "<bound method Model.summary of <tensorflow.python.keras.engine.sequential.Sequential object at 0x00000253FC267E08>>\n",
      "<bound method Model.summary of <tensorflow.python.keras.engine.sequential.Sequential object at 0x00000253FC267E08>>\n",
      "<bound method Model.summary of <tensorflow.python.keras.engine.sequential.Sequential object at 0x00000253FC267E08>>\n",
      "<bound method Model.summary of <tensorflow.python.keras.engine.sequential.Sequential object at 0x00000253FC267E08>>\n",
      "<bound method Model.summary of <tensorflow.python.keras.engine.sequential.Sequential object at 0x00000253FC267E08>>\n",
      "<bound method Model.summary of <tensorflow.python.keras.engine.sequential.Sequential object at 0x00000253FC267E08>>\n",
      "<bound method Model.summary of <tensorflow.python.keras.engine.sequential.Sequential object at 0x00000253FC267E08>>\n",
      "<bound method Model.summary of <tensorflow.python.keras.engine.sequential.Sequential object at 0x00000253FC267E08>>\n",
      "<bound method Model.summary of <tensorflow.python.keras.engine.sequential.Sequential object at 0x00000253FC267E08>>\n",
      "<bound method Model.summary of <tensorflow.python.keras.engine.sequential.Sequential object at 0x00000253FC267E08>>\n",
      "<bound method Model.summary of <tensorflow.python.keras.engine.sequential.Sequential object at 0x00000253FC267E08>>\n",
      "<bound method Model.summary of <tensorflow.python.keras.engine.sequential.Sequential object at 0x00000253FC267E08>>\n",
      "<bound method Model.summary of <tensorflow.python.keras.engine.sequential.Sequential object at 0x00000253FC267E08>>\n",
      "<bound method Model.summary of <tensorflow.python.keras.engine.sequential.Sequential object at 0x00000253FC267E08>>\n"
     ]
    }
   ],
   "source": [
    "serverFA.initialBroadcast()"
   ]
  },
  {
   "cell_type": "code",
   "execution_count": 8,
   "metadata": {},
   "outputs": [
    {
     "name": "stdout",
     "output_type": "stream",
     "text": [
      "Clients with Acceptable CIF:  [29.08, 29.47, 34.7, 42.489999999999995, 33.63, 31.05, 35.85, 32.54, 32.25, 34.46, 32.66, 36.519999999999996, 29.89, 38.95, 32.75, 35.41, 35.019999999999996, 38.55, 31.380000000000003, 32.35]\n",
      "--------------------------------------------\n",
      " Round NO: 0\n",
      "Active Clients:  [0, 1, 2, 3, 4, 5, 6, 7, 8, 9, 10, 11, 12, 13, 14, 15, 16, 17, 18, 19]\n",
      "CIF of Active Clients:  [29.08, 29.47, 34.7, 42.489999999999995, 33.63, 31.05, 35.85, 32.54, 32.25, 34.46, 32.66, 36.519999999999996, 29.89, 38.95, 32.75, 35.41, 35.019999999999996, 38.55, 31.380000000000003, 32.35]\n",
      " Selected Cleints:  []\n",
      "Training Clients with CIF > 10\n"
     ]
    },
    {
     "ename": "IndexError",
     "evalue": "list index out of range",
     "output_type": "error",
     "traceback": [
      "\u001b[1;31m---------------------------------------------------------------------------\u001b[0m",
      "\u001b[1;31mIndexError\u001b[0m                                Traceback (most recent call last)",
      "\u001b[1;32m<ipython-input-8-ba6471c85b3c>\u001b[0m in \u001b[0;36m<module>\u001b[1;34m\u001b[0m\n\u001b[0;32m      4\u001b[0m     \u001b[0mserverFA\u001b[0m\u001b[1;33m.\u001b[0m\u001b[0mgetClientActiveStatus\u001b[0m\u001b[1;33m(\u001b[0m\u001b[1;33m)\u001b[0m\u001b[1;33m\u001b[0m\u001b[1;33m\u001b[0m\u001b[0m\n\u001b[0;32m      5\u001b[0m     \u001b[0mserverFA\u001b[0m\u001b[1;33m.\u001b[0m\u001b[0mgetClientCIF\u001b[0m\u001b[1;33m(\u001b[0m\u001b[1;33m)\u001b[0m\u001b[1;33m\u001b[0m\u001b[1;33m\u001b[0m\u001b[0m\n\u001b[1;32m----> 6\u001b[1;33m     \u001b[0mserverFA\u001b[0m\u001b[1;33m.\u001b[0m\u001b[0mgetModelUpdateFromClients\u001b[0m\u001b[1;33m(\u001b[0m\u001b[1;33m)\u001b[0m\u001b[1;33m\u001b[0m\u001b[1;33m\u001b[0m\u001b[0m\n\u001b[0m\u001b[0;32m      7\u001b[0m     \u001b[0mtrainingMetrics\u001b[0m\u001b[1;33m.\u001b[0m\u001b[0mappend\u001b[0m\u001b[1;33m(\u001b[0m\u001b[0mserverFA\u001b[0m\u001b[1;33m.\u001b[0m\u001b[0mtestServerModel\u001b[0m\u001b[1;33m(\u001b[0m\u001b[1;33m)\u001b[0m\u001b[1;33m)\u001b[0m\u001b[1;33m\u001b[0m\u001b[1;33m\u001b[0m\u001b[0m\n\u001b[0;32m      8\u001b[0m     \u001b[0mserverFA\u001b[0m\u001b[1;33m.\u001b[0m\u001b[0mupdateAllClients\u001b[0m\u001b[1;33m(\u001b[0m\u001b[1;33m)\u001b[0m\u001b[1;33m\u001b[0m\u001b[1;33m\u001b[0m\u001b[0m\n",
      "\u001b[1;32m<ipython-input-2-47ca2b3b7de4>\u001b[0m in \u001b[0;36mgetModelUpdateFromClients\u001b[1;34m(self)\u001b[0m\n\u001b[0;32m     83\u001b[0m         \u001b[1;31m## Was Previously - End ##\u001b[0m\u001b[1;33m\u001b[0m\u001b[1;33m\u001b[0m\u001b[1;33m\u001b[0m\u001b[0m\n\u001b[0;32m     84\u001b[0m \u001b[1;33m\u001b[0m\u001b[0m\n\u001b[1;32m---> 85\u001b[1;33m         \u001b[0mavgModelWeights\u001b[0m \u001b[1;33m=\u001b[0m \u001b[0mself\u001b[0m\u001b[1;33m.\u001b[0m\u001b[0mcomputeFedAvg\u001b[0m\u001b[1;33m(\u001b[0m\u001b[0mself\u001b[0m\u001b[1;33m.\u001b[0m\u001b[0mupdateFromClients\u001b[0m\u001b[1;33m)\u001b[0m\u001b[1;33m\u001b[0m\u001b[1;33m\u001b[0m\u001b[0m\n\u001b[0m\u001b[0;32m     86\u001b[0m         \u001b[1;31m#print(\"average model weights = \\n\",avgModelWeights)\u001b[0m\u001b[1;33m\u001b[0m\u001b[1;33m\u001b[0m\u001b[1;33m\u001b[0m\u001b[0m\n\u001b[0;32m     87\u001b[0m         \u001b[0mself\u001b[0m\u001b[1;33m.\u001b[0m\u001b[0mserverModel\u001b[0m\u001b[1;33m.\u001b[0m\u001b[0mset_weights\u001b[0m\u001b[1;33m(\u001b[0m\u001b[0mavgModelWeights\u001b[0m\u001b[1;33m)\u001b[0m\u001b[1;33m\u001b[0m\u001b[1;33m\u001b[0m\u001b[0m\n",
      "\u001b[1;32m<ipython-input-2-47ca2b3b7de4>\u001b[0m in \u001b[0;36mcomputeFedAvg\u001b[1;34m(self, updates)\u001b[0m\n\u001b[0;32m    105\u001b[0m         \u001b[1;31m#        updates[i][0][j]=updates[i][0][j]*scaleFactor[i]\u001b[0m\u001b[1;33m\u001b[0m\u001b[1;33m\u001b[0m\u001b[1;33m\u001b[0m\u001b[0m\n\u001b[0;32m    106\u001b[0m \u001b[1;33m\u001b[0m\u001b[0m\n\u001b[1;32m--> 107\u001b[1;33m         \u001b[0msumOfAvgWeights\u001b[0m \u001b[1;33m=\u001b[0m \u001b[1;33m[\u001b[0m\u001b[1;33m]\u001b[0m\u001b[1;33m*\u001b[0m\u001b[0mlen\u001b[0m\u001b[1;33m(\u001b[0m\u001b[0mupdates\u001b[0m\u001b[1;33m[\u001b[0m\u001b[1;36m0\u001b[0m\u001b[1;33m]\u001b[0m\u001b[1;33m[\u001b[0m\u001b[1;36m0\u001b[0m\u001b[1;33m]\u001b[0m\u001b[1;33m)\u001b[0m\u001b[1;33m\u001b[0m\u001b[1;33m\u001b[0m\u001b[0m\n\u001b[0m\u001b[0;32m    108\u001b[0m \u001b[1;33m\u001b[0m\u001b[0m\n\u001b[0;32m    109\u001b[0m         \u001b[1;32mfor\u001b[0m \u001b[0mj\u001b[0m \u001b[1;32min\u001b[0m \u001b[0mrange\u001b[0m \u001b[1;33m(\u001b[0m\u001b[1;36m0\u001b[0m\u001b[1;33m,\u001b[0m\u001b[0mlen\u001b[0m\u001b[1;33m(\u001b[0m\u001b[0mupdates\u001b[0m\u001b[1;33m[\u001b[0m\u001b[1;36m0\u001b[0m\u001b[1;33m]\u001b[0m\u001b[1;33m[\u001b[0m\u001b[1;36m0\u001b[0m\u001b[1;33m]\u001b[0m\u001b[1;33m)\u001b[0m\u001b[1;33m)\u001b[0m\u001b[1;33m:\u001b[0m \u001b[1;31m#range of layers\u001b[0m\u001b[1;33m\u001b[0m\u001b[1;33m\u001b[0m\u001b[0m\n",
      "\u001b[1;31mIndexError\u001b[0m: list index out of range"
     ]
    }
   ],
   "source": [
    "numberOfTraingRounds = 2\n",
    "trainingMetrics=[]*numberOfTraingRounds\n",
    "for i in range(0,numberOfTraingRounds):\n",
    "    serverFA.getClientActiveStatus()\n",
    "    serverFA.getClientCIF()\n",
    "    serverFA.getModelUpdateFromClients()\n",
    "    trainingMetrics.append(serverFA.testServerModel())\n",
    "    serverFA.updateAllClients()\n"
   ]
  },
  {
   "cell_type": "code",
   "execution_count": null,
   "metadata": {},
   "outputs": [],
   "source": [
    "plt.plot(trainingMetrics)"
   ]
  },
  {
   "cell_type": "markdown",
   "metadata": {},
   "source": [
    "### Below are Rough cells ... donot run"
   ]
  },
  {
   "cell_type": "code",
   "execution_count": null,
   "metadata": {},
   "outputs": [],
   "source": [
    "a.baseModel.set_weights(avgWeight)"
   ]
  },
  {
   "cell_type": "code",
   "execution_count": null,
   "metadata": {},
   "outputs": [],
   "source": [
    "a.baseModel.get_weights()"
   ]
  },
  {
   "cell_type": "code",
   "execution_count": null,
   "metadata": {},
   "outputs": [],
   "source": [
    "evaldata=serverFA.testServerModel()"
   ]
  },
  {
   "cell_type": "code",
   "execution_count": null,
   "metadata": {},
   "outputs": [],
   "source": [
    "type(evaldata)"
   ]
  },
  {
   "cell_type": "code",
   "execution_count": null,
   "metadata": {},
   "outputs": [],
   "source": [
    "evaldata"
   ]
  },
  {
   "cell_type": "code",
   "execution_count": null,
   "metadata": {},
   "outputs": [],
   "source": []
  },
  {
   "cell_type": "code",
   "execution_count": null,
   "metadata": {},
   "outputs": [],
   "source": []
  },
  {
   "cell_type": "code",
   "execution_count": null,
   "metadata": {},
   "outputs": [],
   "source": []
  },
  {
   "cell_type": "code",
   "execution_count": null,
   "metadata": {},
   "outputs": [],
   "source": []
  },
  {
   "cell_type": "code",
   "execution_count": null,
   "metadata": {},
   "outputs": [],
   "source": [
    "#Populate Clients\n",
    "N = 20\n",
    "\n",
    "client_0=client(0)\n",
    "client_1=client(1)\n",
    "client_2=client(2)\n",
    "client_3=client(3)\n",
    "client_4=client(4)\n",
    "client_5=client(5)\n",
    "client_6=client(6)\n",
    "client_7=client(7)\n",
    "client_8=client(8)\n",
    "client_9=client(9)\n",
    "client_10=client(10)\n",
    "client_11=client(11)\n",
    "client_12=client(12)\n",
    "client_13=client(13)\n",
    "client_14=client(14)\n",
    "client_15=client(15)\n",
    "client_16=client(16)\n",
    "client_17=client(17)\n",
    "client_18=client(18)\n",
    "client_19=client(19)\n",
    "\n",
    "def distributeDataToClient(numOfClients,X_train,Y_train):\n",
    "    \n",
    "        for i in range (0,numOfClients):\n",
    "            np.random.seed(i*10)\n",
    "            numOfClasses = int(np.random.randint(4,10,1))\n",
    "            classList = np.random.randint(0,10,numOfClasses)\n",
    "            print(classList)\n",
    "            for k in range (0,numOfClasses):\n",
    "                classID = int(classList[k])\n",
    "                classIDLen = len(eval(\"id\"+str(classID)))\n",
    "                #print(classID,\":\",classIDLen)\n",
    "                numOfSamplesInClass= int(np.random.randint(200,1000,1))\n",
    "                #print(numOfSamplesInClass)\n",
    "                Y_data = np.empty([numOfSamplesInClass,])\n",
    "                X_data= np.empty([numOfSamplesInClass,784])\n",
    "                Y_data = np.random.choice(Y_train,numOfSamplesInClass,replace=False)\n",
    "                #print(Y_data)\n",
    "                for n in range(Y_data.size):\n",
    "                    X_data[n] = np.copy(X_train[n])\n",
    "\n",
    "            clientName = \"client_\"+str(i)\n",
    "            c_data = (X_data,Y_data)\n",
    "            eval(clientName).setClientData(X_data,Y_data)\n",
    "            print(X_data.shape,Y_data.shape)\n",
    "\n",
    "def distributeDataToServer(serverName,X_test,Y_test):\n",
    "    serverName.setServerTestData(X_test,Y_test)\n",
    "    \n",
    "distributeDataToClient(20,originalTrainX,originalTrainY)\n",
    "distributeDataToServer(serverFA,originalTestX,originalTestY)\n",
    "        "
   ]
  },
  {
   "cell_type": "code",
   "execution_count": null,
   "metadata": {},
   "outputs": [],
   "source": [
    "(\"client_\",1)"
   ]
  },
  {
   "cell_type": "code",
   "execution_count": null,
   "metadata": {},
   "outputs": [],
   "source": [
    "client_0.sendClientUpdate()"
   ]
  },
  {
   "cell_type": "code",
   "execution_count": null,
   "metadata": {},
   "outputs": [],
   "source": [
    "client_0.sendClientUpdate()"
   ]
  },
  {
   "cell_type": "code",
   "execution_count": null,
   "metadata": {},
   "outputs": [],
   "source": [
    "client_0=client(0)\n",
    "client_1=client(1)\n",
    "client_2=client(2)\n",
    "client_3=client(3)\n",
    "client_4=client(4)\n",
    "client_5=client(5)\n",
    "client_6=client(6)\n",
    "client_7=client(7)\n",
    "client_8=client(8)\n",
    "client_9=client(9)\n",
    "client_10=client(10)\n",
    "client_11=client(11)\n",
    "client_12=client(12)\n",
    "client_13=client(13)\n",
    "client_14=client(14)\n",
    "client_15=client(15)\n",
    "client_16=client(16)\n",
    "client_17=client(17)\n",
    "client_18=client(18)\n",
    "client_19=client(19)\n",
    "client_20=client(20)\n",
    "client_21=client(21)\n",
    "client_22=client(22)\n",
    "client_23=client(23)\n",
    "client_24=client(24)\n",
    "client_25=client(25)\n",
    "client_26=client(26)\n",
    "client_27=client(27)\n",
    "client_28=client(28)\n",
    "client_29=client(29)\n",
    "client_30=client(30)\n",
    "client_31=client(31)\n",
    "client_32=client(32)\n",
    "client_33=client(33)\n",
    "client_34=client(34)\n",
    "client_35=client(35)\n",
    "client_36=client(36)\n",
    "client_37=client(37)\n",
    "client_38=client(38)\n",
    "client_39=client(39)\n",
    "client_40=client(40)\n",
    "client_41=client(41)\n",
    "client_42=client(42)\n",
    "client_43=client(43)\n",
    "client_44=client(44)\n",
    "client_45=client(45)\n",
    "client_46=client(46)\n",
    "client_47=client(47)\n",
    "client_48=client(48)\n",
    "client_49=client(49)\n",
    "client_50=client(50)\n",
    "client_51=client(51)\n",
    "client_52=client(52)\n",
    "client_53=client(53)\n",
    "client_54=client(54)\n",
    "client_55=client(55)\n",
    "client_56=client(56)\n",
    "client_57=client(57)\n",
    "client_58=client(58)\n",
    "client_59=client(59)"
   ]
  },
  {
   "cell_type": "code",
   "execution_count": null,
   "metadata": {},
   "outputs": [],
   "source": []
  }
 ],
 "metadata": {
  "kernelspec": {
   "display_name": "Python 3.7 (tensorflow)",
   "language": "python",
   "name": "tensorflow"
  },
  "language_info": {
   "codemirror_mode": {
    "name": "ipython",
    "version": 3
   },
   "file_extension": ".py",
   "mimetype": "text/x-python",
   "name": "python",
   "nbconvert_exporter": "python",
   "pygments_lexer": "ipython3",
   "version": "3.7.9"
  }
 },
 "nbformat": 4,
 "nbformat_minor": 4
}
